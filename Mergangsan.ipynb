{
 "cells": [
  {
   "cell_type": "markdown",
   "metadata": {},
   "source": [
    "# Prediksi Diabetes Menggunakan Machine Learning Deep Neural Network\n",
    "\n",
    "Diabetes adalah penyakit kronis yang ditandai dengan tingginya kadar gula darah. Gula darah adalah sumber energi utama bagi sel tubuh manusia. Akan tetapi, pada penderita diabetes, glukosa tersebut tidak dapat digunakan oleh tubuh.\n",
    "\n",
    "Kadar gula darah dikendalikan oleh hormon insulin yang diproduksi pankreas. Namun, pada penderita diabetes, pankreas tidak mampu memproduksi insulin sesuai kebutuhan tubuh. Tanpa insulin, sel-sel tubuh tidak dapat menyerap dan mengolah glukosa menjadi energi.\n",
    "\n",
    "Ada dua jenis diabetes, yaitu diabetes tipe 1 dan diabetes tipe 2. Diabetes tipe 1 adalah penyakit autoimun yang menyebabkan sistem kekebalan tubuh menyerang dan menghancurkan sel-sel penghasil insulin di pankreas. Diabetes tipe 2 adalah penyakit yang disebabkan oleh kombinasi faktor genetik, gaya hidup, dan obesitas.\n",
    "\n",
    "Dataset ini berasal dari POSBINDU Puskesmas Mergangsan. Tujuan dari kumpulan data ini adalah untuk memprediksi secara diagnostik apakah pasien menderita diabetes atau tidak, berdasarkan pengukuran diagnostik tertentu yang disertakan dalam kumpulan data. Beberapa batasan ditempatkan pada pemilihan contoh-contoh ini dari basis data yang lebih besar.\n",
    "\n",
    "## Tujuan\n",
    "Peneliti membangun model pembelajaran mesin untuk memprediksi secara akurat apakah pasien dalam dataset tersebut mengidap diabetes atau tidak?\n",
    "\n",
    "## Detail tentang dataset:\n",
    "\n",
    "- **SEXVAR**: Jenis Kelamin\n",
    "- **_SMOKER3**: Merokok\n",
    "- **DIABETE4**: Status Diabetes\n",
    "- **BPHIGH6**: Status Hipertensi / Tekanan Darah Tinggi\n",
    "- **_AGEG5YR**: Usia\n",
    "- **EXERANY2**: Aktivitas Fisik\n",
    "- **ALCDAY5**: Konsumsi Alkohol\n",
    "- **_BMI5CAT**: Indeks Masa Tubuh\n",
    "- **WTKG3**: Berat Badan\n",
    "- **HTM4**: Tinggi Badan\n",
    "\n",
    "**Jumlah Unit Observasi: 100**\n",
    "\n",
    "**Jumlah Variabel: 11**\n",
    "\n",
    "-----------------------------------------------------------------------------------------------------------"
   ]
  },
  {
   "cell_type": "markdown",
   "metadata": {},
   "source": [
    "**1. Import Library** \n",
    "\n",
    "   Untuk Running Pre-Processing Model perlu menampilkan beberapa library yang digunakan pada permodelan ini"
   ]
  },
  {
   "cell_type": "code",
   "execution_count": 1,
   "metadata": {},
   "outputs": [],
   "source": [
    "import pandas as pd\n",
    "import numpy as np\n",
    "import matplotlib.pyplot as plt\n",
    "import seaborn as sns\n",
    "import tensorflow as tf\n",
    "\n",
    "from numpy import loadtxt\n",
    "\n",
    "from sklearn.preprocessing import scale\n",
    "from sklearn.metrics import accuracy_score\n",
    "from sklearn.model_selection import train_test_split\n",
    "from sklearn.neighbors import  LocalOutlierFactor\n",
    "from sklearn.preprocessing import StandardScaler\n",
    "from sklearn.preprocessing import OneHotEncoder \n",
    "from sklearn.model_selection import train_test_split\n",
    "from sklearn.linear_model import LogisticRegression\n",
    "\n",
    "import warnings\n",
    "warnings.filterwarnings('ignore')\n",
    "\n",
    "%matplotlib inline\n",
    "sns.set(color_codes=True)"
   ]
  },
  {
   "cell_type": "markdown",
   "metadata": {},
   "source": [
    "**2. Import Dataset**\n",
    "\n",
    "Menampilkan dataset kedalam Dataframe"
   ]
  },
  {
   "cell_type": "code",
   "execution_count": 2,
   "metadata": {},
   "outputs": [
    {
     "data": {
      "text/html": [
       "<div>\n",
       "<style scoped>\n",
       "    .dataframe tbody tr th:only-of-type {\n",
       "        vertical-align: middle;\n",
       "    }\n",
       "\n",
       "    .dataframe tbody tr th {\n",
       "        vertical-align: top;\n",
       "    }\n",
       "\n",
       "    .dataframe thead th {\n",
       "        text-align: right;\n",
       "    }\n",
       "</style>\n",
       "<table border=\"1\" class=\"dataframe\">\n",
       "  <thead>\n",
       "    <tr style=\"text-align: right;\">\n",
       "      <th></th>\n",
       "      <th>SEXVAR</th>\n",
       "      <th>_SMOKER3</th>\n",
       "      <th>WTKG3</th>\n",
       "      <th>HTM4</th>\n",
       "      <th>_BMI5CAT</th>\n",
       "      <th>BPHIGH6</th>\n",
       "      <th>_AGEG5YR</th>\n",
       "      <th>EXERANY2</th>\n",
       "      <th>ALCDAY5</th>\n",
       "      <th>DIABETE4</th>\n",
       "    </tr>\n",
       "  </thead>\n",
       "  <tbody>\n",
       "    <tr>\n",
       "      <th>0</th>\n",
       "      <td>Perempuan</td>\n",
       "      <td>Tidak</td>\n",
       "      <td>45</td>\n",
       "      <td>155</td>\n",
       "      <td>18.730489</td>\n",
       "      <td>Ya</td>\n",
       "      <td>30 - 34</td>\n",
       "      <td>Ya</td>\n",
       "      <td>Tidak</td>\n",
       "      <td>Tidak</td>\n",
       "    </tr>\n",
       "    <tr>\n",
       "      <th>1</th>\n",
       "      <td>Laki Laki</td>\n",
       "      <td>Tidak</td>\n",
       "      <td>69</td>\n",
       "      <td>169</td>\n",
       "      <td>24.158818</td>\n",
       "      <td>Tidak</td>\n",
       "      <td>30 - 34</td>\n",
       "      <td>Ya</td>\n",
       "      <td>Tidak</td>\n",
       "      <td>Ya</td>\n",
       "    </tr>\n",
       "    <tr>\n",
       "      <th>2</th>\n",
       "      <td>Perempuan</td>\n",
       "      <td>Tidak</td>\n",
       "      <td>34</td>\n",
       "      <td>153</td>\n",
       "      <td>14.524328</td>\n",
       "      <td>Ya</td>\n",
       "      <td>40 - 44</td>\n",
       "      <td>Ya</td>\n",
       "      <td>Tidak</td>\n",
       "      <td>Ya</td>\n",
       "    </tr>\n",
       "    <tr>\n",
       "      <th>3</th>\n",
       "      <td>Perempuan</td>\n",
       "      <td>Tidak</td>\n",
       "      <td>69</td>\n",
       "      <td>158</td>\n",
       "      <td>27.639801</td>\n",
       "      <td>Ya</td>\n",
       "      <td>30 - 34</td>\n",
       "      <td>Tidak</td>\n",
       "      <td>Tidak</td>\n",
       "      <td>Tidak</td>\n",
       "    </tr>\n",
       "    <tr>\n",
       "      <th>4</th>\n",
       "      <td>Perempuan</td>\n",
       "      <td>Tidak</td>\n",
       "      <td>51</td>\n",
       "      <td>157</td>\n",
       "      <td>20.690495</td>\n",
       "      <td>Tidak</td>\n",
       "      <td>50 - 54</td>\n",
       "      <td>Ya</td>\n",
       "      <td>Tidak</td>\n",
       "      <td>Tidak</td>\n",
       "    </tr>\n",
       "  </tbody>\n",
       "</table>\n",
       "</div>"
      ],
      "text/plain": [
       "      SEXVAR _SMOKER3  WTKG3  HTM4   _BMI5CAT BPHIGH6 _AGEG5YR EXERANY2  \\\n",
       "0  Perempuan    Tidak     45   155  18.730489      Ya  30 - 34       Ya   \n",
       "1  Laki Laki    Tidak     69   169  24.158818   Tidak  30 - 34       Ya   \n",
       "2  Perempuan    Tidak     34   153  14.524328      Ya  40 - 44       Ya   \n",
       "3  Perempuan    Tidak     69   158  27.639801      Ya  30 - 34    Tidak   \n",
       "4  Perempuan    Tidak     51   157  20.690495   Tidak  50 - 54       Ya   \n",
       "\n",
       "  ALCDAY5 DIABETE4  \n",
       "0   Tidak    Tidak  \n",
       "1   Tidak       Ya  \n",
       "2   Tidak       Ya  \n",
       "3   Tidak    Tidak  \n",
       "4   Tidak    Tidak  "
      ]
     },
     "execution_count": 2,
     "metadata": {},
     "output_type": "execute_result"
    }
   ],
   "source": [
    "df = pd.read_excel('D:\\- Skripsi -\\SC DATA\\BRFSS DATASET\\DATA MERGANGSAN 2023 Terbaru.xlsx')\n",
    "df.head(5)    # menampilkan data teratas"
   ]
  },
  {
   "cell_type": "code",
   "execution_count": 3,
   "metadata": {},
   "outputs": [
    {
     "data": {
      "text/html": [
       "<div>\n",
       "<style scoped>\n",
       "    .dataframe tbody tr th:only-of-type {\n",
       "        vertical-align: middle;\n",
       "    }\n",
       "\n",
       "    .dataframe tbody tr th {\n",
       "        vertical-align: top;\n",
       "    }\n",
       "\n",
       "    .dataframe thead th {\n",
       "        text-align: right;\n",
       "    }\n",
       "</style>\n",
       "<table border=\"1\" class=\"dataframe\">\n",
       "  <thead>\n",
       "    <tr style=\"text-align: right;\">\n",
       "      <th></th>\n",
       "      <th>SEXVAR</th>\n",
       "      <th>_SMOKER3</th>\n",
       "      <th>WTKG3</th>\n",
       "      <th>HTM4</th>\n",
       "      <th>_BMI5CAT</th>\n",
       "      <th>BPHIGH6</th>\n",
       "      <th>_AGEG5YR</th>\n",
       "      <th>EXERANY2</th>\n",
       "      <th>ALCDAY5</th>\n",
       "      <th>DIABETE4</th>\n",
       "    </tr>\n",
       "  </thead>\n",
       "  <tbody>\n",
       "    <tr>\n",
       "      <th>95</th>\n",
       "      <td>Perempuan</td>\n",
       "      <td>Tidak</td>\n",
       "      <td>60</td>\n",
       "      <td>157</td>\n",
       "      <td>24.341758</td>\n",
       "      <td>Tidak</td>\n",
       "      <td>50 - 54</td>\n",
       "      <td>Tidak</td>\n",
       "      <td>Tidak</td>\n",
       "      <td>Tidak</td>\n",
       "    </tr>\n",
       "    <tr>\n",
       "      <th>96</th>\n",
       "      <td>Perempuan</td>\n",
       "      <td>Tidak</td>\n",
       "      <td>66</td>\n",
       "      <td>152</td>\n",
       "      <td>28.566482</td>\n",
       "      <td>Tidak</td>\n",
       "      <td>35 - 39</td>\n",
       "      <td>Tidak</td>\n",
       "      <td>Tidak</td>\n",
       "      <td>Tidak</td>\n",
       "    </tr>\n",
       "    <tr>\n",
       "      <th>97</th>\n",
       "      <td>Perempuan</td>\n",
       "      <td>Tidak</td>\n",
       "      <td>55</td>\n",
       "      <td>143</td>\n",
       "      <td>26.896181</td>\n",
       "      <td>Ya</td>\n",
       "      <td>45 - 49</td>\n",
       "      <td>Tidak</td>\n",
       "      <td>Tidak</td>\n",
       "      <td>Tidak</td>\n",
       "    </tr>\n",
       "    <tr>\n",
       "      <th>98</th>\n",
       "      <td>Laki Laki</td>\n",
       "      <td>Tidak</td>\n",
       "      <td>67</td>\n",
       "      <td>172</td>\n",
       "      <td>22.647377</td>\n",
       "      <td>Ya</td>\n",
       "      <td>30 - 34</td>\n",
       "      <td>Tidak</td>\n",
       "      <td>Tidak</td>\n",
       "      <td>Tidak</td>\n",
       "    </tr>\n",
       "    <tr>\n",
       "      <th>99</th>\n",
       "      <td>Perempuan</td>\n",
       "      <td>Tidak</td>\n",
       "      <td>55</td>\n",
       "      <td>142</td>\n",
       "      <td>27.276334</td>\n",
       "      <td>Ya</td>\n",
       "      <td>30 - 34</td>\n",
       "      <td>Tidak</td>\n",
       "      <td>Tidak</td>\n",
       "      <td>Tidak</td>\n",
       "    </tr>\n",
       "  </tbody>\n",
       "</table>\n",
       "</div>"
      ],
      "text/plain": [
       "       SEXVAR _SMOKER3  WTKG3  HTM4   _BMI5CAT BPHIGH6 _AGEG5YR EXERANY2  \\\n",
       "95  Perempuan    Tidak     60   157  24.341758   Tidak  50 - 54    Tidak   \n",
       "96  Perempuan    Tidak     66   152  28.566482   Tidak  35 - 39    Tidak   \n",
       "97  Perempuan    Tidak     55   143  26.896181      Ya  45 - 49    Tidak   \n",
       "98  Laki Laki    Tidak     67   172  22.647377      Ya  30 - 34    Tidak   \n",
       "99  Perempuan    Tidak     55   142  27.276334      Ya  30 - 34    Tidak   \n",
       "\n",
       "   ALCDAY5 DIABETE4  \n",
       "95   Tidak    Tidak  \n",
       "96   Tidak    Tidak  \n",
       "97   Tidak    Tidak  \n",
       "98   Tidak    Tidak  \n",
       "99   Tidak    Tidak  "
      ]
     },
     "execution_count": 3,
     "metadata": {},
     "output_type": "execute_result"
    }
   ],
   "source": [
    "df.tail(5)    # menampilkan data terbawah"
   ]
  },
  {
   "cell_type": "markdown",
   "metadata": {},
   "source": [
    "menampilkan jumlah row dan columns"
   ]
  },
  {
   "cell_type": "code",
   "execution_count": 4,
   "metadata": {},
   "outputs": [
    {
     "data": {
      "text/plain": [
       "(100, 10)"
      ]
     },
     "execution_count": 4,
     "metadata": {},
     "output_type": "execute_result"
    }
   ],
   "source": [
    "df.shape"
   ]
  },
  {
   "cell_type": "markdown",
   "metadata": {},
   "source": [
    "**3. Menampilkan Tipe Dataset**"
   ]
  },
  {
   "cell_type": "code",
   "execution_count": 5,
   "metadata": {},
   "outputs": [
    {
     "data": {
      "text/plain": [
       "SEXVAR       object\n",
       "_SMOKER3     object\n",
       "WTKG3         int64\n",
       "HTM4          int64\n",
       "_BMI5CAT    float64\n",
       "BPHIGH6      object\n",
       "_AGEG5YR     object\n",
       "EXERANY2     object\n",
       "ALCDAY5      object\n",
       "DIABETE4     object\n",
       "dtype: object"
      ]
     },
     "execution_count": 5,
     "metadata": {},
     "output_type": "execute_result"
    }
   ],
   "source": [
    "df.dtypes  # menampilkan tipe variabel yang terdapat pada dataframe"
   ]
  },
  {
   "cell_type": "markdown",
   "metadata": {},
   "source": [
    "**4. Menampilkan Index Atribut Yang Dipilih**"
   ]
  },
  {
   "cell_type": "code",
   "execution_count": 6,
   "metadata": {},
   "outputs": [
    {
     "data": {
      "text/plain": [
       "Index(['SEXVAR', '_SMOKER3', 'WTKG3', 'HTM4', '_BMI5CAT', 'BPHIGH6',\n",
       "       '_AGEG5YR', 'EXERANY2', 'ALCDAY5', 'DIABETE4'],\n",
       "      dtype='object')"
      ]
     },
     "execution_count": 6,
     "metadata": {},
     "output_type": "execute_result"
    }
   ],
   "source": [
    "df.columns"
   ]
  },
  {
   "cell_type": "markdown",
   "metadata": {},
   "source": [
    "**5. Menampilkan Hasil Dari Satu Atribut** \n",
    "\n",
    "   fungsinya untuk mengetahui hasil dari atribut \"DIABETE4\" dikarenakan hasil tersebut menjadi hasil dari dataset diatas, dan menghitung jumlah data spesifik dari columns \"DIABETE4\""
   ]
  },
  {
   "cell_type": "code",
   "execution_count": 7,
   "metadata": {},
   "outputs": [
    {
     "data": {
      "text/plain": [
       "DIABETE4\n",
       "Tidak    76\n",
       "Ya       23\n",
       "Name: count, dtype: int64"
      ]
     },
     "execution_count": 7,
     "metadata": {},
     "output_type": "execute_result"
    }
   ],
   "source": [
    "df['DIABETE4'].value_counts()"
   ]
  },
  {
   "cell_type": "markdown",
   "metadata": {},
   "source": [
    "**6. Menghilangkan Data Yang Duplikat**\n",
    "\n",
    "   fungsinya agar memaksimalkan kerja model dengan mengoptimalkan dataset yang ada dengan menghilangkan dataset yang terduplikat, efek dari data duplikat akan membuat model lama untuk menjalankan Machine Learning"
   ]
  },
  {
   "cell_type": "code",
   "execution_count": 8,
   "metadata": {},
   "outputs": [
    {
     "name": "stdout",
     "output_type": "stream",
     "text": [
      "Jumlah Baris Duplikat: (1, 10)\n"
     ]
    }
   ],
   "source": [
    "duplicate_row_df = df[df.duplicated()]\n",
    "print(\"Jumlah Baris Duplikat:\", duplicate_row_df.shape) # untuk menampilkan jumlah dataset yang duplikat ada berapa"
   ]
  },
  {
   "cell_type": "markdown",
   "metadata": {},
   "source": [
    "**Sebelum Data Duplikat Dihilangkan**"
   ]
  },
  {
   "cell_type": "code",
   "execution_count": 9,
   "metadata": {},
   "outputs": [
    {
     "data": {
      "text/plain": [
       "SEXVAR      100\n",
       "_SMOKER3     98\n",
       "WTKG3       100\n",
       "HTM4        100\n",
       "_BMI5CAT    100\n",
       "BPHIGH6     100\n",
       "_AGEG5YR     90\n",
       "EXERANY2     99\n",
       "ALCDAY5      99\n",
       "DIABETE4     99\n",
       "dtype: int64"
      ]
     },
     "execution_count": 9,
     "metadata": {},
     "output_type": "execute_result"
    }
   ],
   "source": [
    "df.count()"
   ]
  },
  {
   "cell_type": "markdown",
   "metadata": {},
   "source": [
    "**Proses Penghapusan Data Yang Duplikat**\n",
    "\n",
    "disini menjalankan proses penghapusan data yang terduplikat"
   ]
  },
  {
   "cell_type": "code",
   "execution_count": 10,
   "metadata": {},
   "outputs": [
    {
     "data": {
      "text/html": [
       "<div>\n",
       "<style scoped>\n",
       "    .dataframe tbody tr th:only-of-type {\n",
       "        vertical-align: middle;\n",
       "    }\n",
       "\n",
       "    .dataframe tbody tr th {\n",
       "        vertical-align: top;\n",
       "    }\n",
       "\n",
       "    .dataframe thead th {\n",
       "        text-align: right;\n",
       "    }\n",
       "</style>\n",
       "<table border=\"1\" class=\"dataframe\">\n",
       "  <thead>\n",
       "    <tr style=\"text-align: right;\">\n",
       "      <th></th>\n",
       "      <th>SEXVAR</th>\n",
       "      <th>_SMOKER3</th>\n",
       "      <th>WTKG3</th>\n",
       "      <th>HTM4</th>\n",
       "      <th>_BMI5CAT</th>\n",
       "      <th>BPHIGH6</th>\n",
       "      <th>_AGEG5YR</th>\n",
       "      <th>EXERANY2</th>\n",
       "      <th>ALCDAY5</th>\n",
       "      <th>DIABETE4</th>\n",
       "    </tr>\n",
       "  </thead>\n",
       "  <tbody>\n",
       "    <tr>\n",
       "      <th>0</th>\n",
       "      <td>Perempuan</td>\n",
       "      <td>Tidak</td>\n",
       "      <td>45</td>\n",
       "      <td>155</td>\n",
       "      <td>18.730489</td>\n",
       "      <td>Ya</td>\n",
       "      <td>30 - 34</td>\n",
       "      <td>Ya</td>\n",
       "      <td>Tidak</td>\n",
       "      <td>Tidak</td>\n",
       "    </tr>\n",
       "    <tr>\n",
       "      <th>1</th>\n",
       "      <td>Laki Laki</td>\n",
       "      <td>Tidak</td>\n",
       "      <td>69</td>\n",
       "      <td>169</td>\n",
       "      <td>24.158818</td>\n",
       "      <td>Tidak</td>\n",
       "      <td>30 - 34</td>\n",
       "      <td>Ya</td>\n",
       "      <td>Tidak</td>\n",
       "      <td>Ya</td>\n",
       "    </tr>\n",
       "    <tr>\n",
       "      <th>2</th>\n",
       "      <td>Perempuan</td>\n",
       "      <td>Tidak</td>\n",
       "      <td>34</td>\n",
       "      <td>153</td>\n",
       "      <td>14.524328</td>\n",
       "      <td>Ya</td>\n",
       "      <td>40 - 44</td>\n",
       "      <td>Ya</td>\n",
       "      <td>Tidak</td>\n",
       "      <td>Ya</td>\n",
       "    </tr>\n",
       "    <tr>\n",
       "      <th>3</th>\n",
       "      <td>Perempuan</td>\n",
       "      <td>Tidak</td>\n",
       "      <td>69</td>\n",
       "      <td>158</td>\n",
       "      <td>27.639801</td>\n",
       "      <td>Ya</td>\n",
       "      <td>30 - 34</td>\n",
       "      <td>Tidak</td>\n",
       "      <td>Tidak</td>\n",
       "      <td>Tidak</td>\n",
       "    </tr>\n",
       "    <tr>\n",
       "      <th>4</th>\n",
       "      <td>Perempuan</td>\n",
       "      <td>Tidak</td>\n",
       "      <td>51</td>\n",
       "      <td>157</td>\n",
       "      <td>20.690495</td>\n",
       "      <td>Tidak</td>\n",
       "      <td>50 - 54</td>\n",
       "      <td>Ya</td>\n",
       "      <td>Tidak</td>\n",
       "      <td>Tidak</td>\n",
       "    </tr>\n",
       "  </tbody>\n",
       "</table>\n",
       "</div>"
      ],
      "text/plain": [
       "      SEXVAR _SMOKER3  WTKG3  HTM4   _BMI5CAT BPHIGH6 _AGEG5YR EXERANY2  \\\n",
       "0  Perempuan    Tidak     45   155  18.730489      Ya  30 - 34       Ya   \n",
       "1  Laki Laki    Tidak     69   169  24.158818   Tidak  30 - 34       Ya   \n",
       "2  Perempuan    Tidak     34   153  14.524328      Ya  40 - 44       Ya   \n",
       "3  Perempuan    Tidak     69   158  27.639801      Ya  30 - 34    Tidak   \n",
       "4  Perempuan    Tidak     51   157  20.690495   Tidak  50 - 54       Ya   \n",
       "\n",
       "  ALCDAY5 DIABETE4  \n",
       "0   Tidak    Tidak  \n",
       "1   Tidak       Ya  \n",
       "2   Tidak       Ya  \n",
       "3   Tidak    Tidak  \n",
       "4   Tidak    Tidak  "
      ]
     },
     "execution_count": 10,
     "metadata": {},
     "output_type": "execute_result"
    }
   ],
   "source": [
    "df = df.drop_duplicates()\n",
    "df.head(5)"
   ]
  },
  {
   "cell_type": "code",
   "execution_count": 11,
   "metadata": {},
   "outputs": [
    {
     "data": {
      "text/html": [
       "<div>\n",
       "<style scoped>\n",
       "    .dataframe tbody tr th:only-of-type {\n",
       "        vertical-align: middle;\n",
       "    }\n",
       "\n",
       "    .dataframe tbody tr th {\n",
       "        vertical-align: top;\n",
       "    }\n",
       "\n",
       "    .dataframe thead th {\n",
       "        text-align: right;\n",
       "    }\n",
       "</style>\n",
       "<table border=\"1\" class=\"dataframe\">\n",
       "  <thead>\n",
       "    <tr style=\"text-align: right;\">\n",
       "      <th></th>\n",
       "      <th>SEXVAR</th>\n",
       "      <th>_SMOKER3</th>\n",
       "      <th>WTKG3</th>\n",
       "      <th>HTM4</th>\n",
       "      <th>_BMI5CAT</th>\n",
       "      <th>BPHIGH6</th>\n",
       "      <th>_AGEG5YR</th>\n",
       "      <th>EXERANY2</th>\n",
       "      <th>ALCDAY5</th>\n",
       "      <th>DIABETE4</th>\n",
       "    </tr>\n",
       "  </thead>\n",
       "  <tbody>\n",
       "    <tr>\n",
       "      <th>95</th>\n",
       "      <td>Perempuan</td>\n",
       "      <td>Tidak</td>\n",
       "      <td>60</td>\n",
       "      <td>157</td>\n",
       "      <td>24.341758</td>\n",
       "      <td>Tidak</td>\n",
       "      <td>50 - 54</td>\n",
       "      <td>Tidak</td>\n",
       "      <td>Tidak</td>\n",
       "      <td>Tidak</td>\n",
       "    </tr>\n",
       "    <tr>\n",
       "      <th>96</th>\n",
       "      <td>Perempuan</td>\n",
       "      <td>Tidak</td>\n",
       "      <td>66</td>\n",
       "      <td>152</td>\n",
       "      <td>28.566482</td>\n",
       "      <td>Tidak</td>\n",
       "      <td>35 - 39</td>\n",
       "      <td>Tidak</td>\n",
       "      <td>Tidak</td>\n",
       "      <td>Tidak</td>\n",
       "    </tr>\n",
       "    <tr>\n",
       "      <th>97</th>\n",
       "      <td>Perempuan</td>\n",
       "      <td>Tidak</td>\n",
       "      <td>55</td>\n",
       "      <td>143</td>\n",
       "      <td>26.896181</td>\n",
       "      <td>Ya</td>\n",
       "      <td>45 - 49</td>\n",
       "      <td>Tidak</td>\n",
       "      <td>Tidak</td>\n",
       "      <td>Tidak</td>\n",
       "    </tr>\n",
       "    <tr>\n",
       "      <th>98</th>\n",
       "      <td>Laki Laki</td>\n",
       "      <td>Tidak</td>\n",
       "      <td>67</td>\n",
       "      <td>172</td>\n",
       "      <td>22.647377</td>\n",
       "      <td>Ya</td>\n",
       "      <td>30 - 34</td>\n",
       "      <td>Tidak</td>\n",
       "      <td>Tidak</td>\n",
       "      <td>Tidak</td>\n",
       "    </tr>\n",
       "    <tr>\n",
       "      <th>99</th>\n",
       "      <td>Perempuan</td>\n",
       "      <td>Tidak</td>\n",
       "      <td>55</td>\n",
       "      <td>142</td>\n",
       "      <td>27.276334</td>\n",
       "      <td>Ya</td>\n",
       "      <td>30 - 34</td>\n",
       "      <td>Tidak</td>\n",
       "      <td>Tidak</td>\n",
       "      <td>Tidak</td>\n",
       "    </tr>\n",
       "  </tbody>\n",
       "</table>\n",
       "</div>"
      ],
      "text/plain": [
       "       SEXVAR _SMOKER3  WTKG3  HTM4   _BMI5CAT BPHIGH6 _AGEG5YR EXERANY2  \\\n",
       "95  Perempuan    Tidak     60   157  24.341758   Tidak  50 - 54    Tidak   \n",
       "96  Perempuan    Tidak     66   152  28.566482   Tidak  35 - 39    Tidak   \n",
       "97  Perempuan    Tidak     55   143  26.896181      Ya  45 - 49    Tidak   \n",
       "98  Laki Laki    Tidak     67   172  22.647377      Ya  30 - 34    Tidak   \n",
       "99  Perempuan    Tidak     55   142  27.276334      Ya  30 - 34    Tidak   \n",
       "\n",
       "   ALCDAY5 DIABETE4  \n",
       "95   Tidak    Tidak  \n",
       "96   Tidak    Tidak  \n",
       "97   Tidak    Tidak  \n",
       "98   Tidak    Tidak  \n",
       "99   Tidak    Tidak  "
      ]
     },
     "execution_count": 11,
     "metadata": {},
     "output_type": "execute_result"
    }
   ],
   "source": [
    "df.tail(5)"
   ]
  },
  {
   "cell_type": "markdown",
   "metadata": {},
   "source": [
    "**Setelah Data Di Hapus Duplikatnya**"
   ]
  },
  {
   "cell_type": "code",
   "execution_count": 12,
   "metadata": {},
   "outputs": [
    {
     "data": {
      "text/plain": [
       "SEXVAR      99\n",
       "_SMOKER3    97\n",
       "WTKG3       99\n",
       "HTM4        99\n",
       "_BMI5CAT    99\n",
       "BPHIGH6     99\n",
       "_AGEG5YR    90\n",
       "EXERANY2    98\n",
       "ALCDAY5     98\n",
       "DIABETE4    98\n",
       "dtype: int64"
      ]
     },
     "execution_count": 12,
     "metadata": {},
     "output_type": "execute_result"
    }
   ],
   "source": [
    "df.count()"
   ]
  },
  {
   "cell_type": "code",
   "execution_count": 13,
   "metadata": {},
   "outputs": [
    {
     "data": {
      "text/plain": [
       "(99, 10)"
      ]
     },
     "execution_count": 13,
     "metadata": {},
     "output_type": "execute_result"
    }
   ],
   "source": [
    "df.shape"
   ]
  },
  {
   "cell_type": "markdown",
   "metadata": {},
   "source": [
    "**7. Menghilangkan Data Yang Bernilai \"NOL\"**\n",
    "\n",
    "   Pada DNN, langkah ini penting dikarenakan perlunya mengetahui serta menghapus data yang bersifat \"NULL\", ada beberapa cara untuk mengatasi miss value ini dengan mencari rata2 dari tiap atribut, dengan mengisi data yang \"NULL\" dengan nilai yang sama semua, dan menghitung nilai \"NULL\" dengan diperkirakan secara manual."
   ]
  },
  {
   "cell_type": "code",
   "execution_count": 14,
   "metadata": {},
   "outputs": [
    {
     "name": "stdout",
     "output_type": "stream",
     "text": [
      "SEXVAR      0\n",
      "_SMOKER3    2\n",
      "WTKG3       0\n",
      "HTM4        0\n",
      "_BMI5CAT    0\n",
      "BPHIGH6     0\n",
      "_AGEG5YR    9\n",
      "EXERANY2    1\n",
      "ALCDAY5     1\n",
      "DIABETE4    1\n",
      "dtype: int64\n"
     ]
    }
   ],
   "source": [
    "print(df.isnull().sum())"
   ]
  },
  {
   "cell_type": "markdown",
   "metadata": {},
   "source": [
    "keterangan diatas menunjukkan bahwa yang terdapat missing value dari setiap atribut terdapat pada atribut\n",
    "\n",
    "**_SMOKER3, _AGEG5YR, EXERANY2, ALCDAY5, DIABETE4**"
   ]
  },
  {
   "cell_type": "code",
   "execution_count": 15,
   "metadata": {},
   "outputs": [
    {
     "data": {
      "text/plain": [
       "SEXVAR      87\n",
       "_SMOKER3    87\n",
       "WTKG3       87\n",
       "HTM4        87\n",
       "_BMI5CAT    87\n",
       "BPHIGH6     87\n",
       "_AGEG5YR    87\n",
       "EXERANY2    87\n",
       "ALCDAY5     87\n",
       "DIABETE4    87\n",
       "dtype: int64"
      ]
     },
     "execution_count": 15,
     "metadata": {},
     "output_type": "execute_result"
    }
   ],
   "source": [
    "df = df.dropna()    #Sebelum Dilakukan Dropping Missing Value\n",
    "df.count()"
   ]
  },
  {
   "cell_type": "code",
   "execution_count": 16,
   "metadata": {},
   "outputs": [
    {
     "name": "stdout",
     "output_type": "stream",
     "text": [
      "SEXVAR      0\n",
      "_SMOKER3    0\n",
      "WTKG3       0\n",
      "HTM4        0\n",
      "_BMI5CAT    0\n",
      "BPHIGH6     0\n",
      "_AGEG5YR    0\n",
      "EXERANY2    0\n",
      "ALCDAY5     0\n",
      "DIABETE4    0\n",
      "dtype: int64\n"
     ]
    }
   ],
   "source": [
    "print(df.isnull().sum())   #Setelah dilakukan Dropping Missing Value"
   ]
  },
  {
   "cell_type": "markdown",
   "metadata": {},
   "source": [
    "setelah proses selesai kita cek kembali dataframe yang tadi telah dilakukan proses penghilangan missing value"
   ]
  },
  {
   "cell_type": "code",
   "execution_count": 17,
   "metadata": {},
   "outputs": [
    {
     "data": {
      "text/html": [
       "<div>\n",
       "<style scoped>\n",
       "    .dataframe tbody tr th:only-of-type {\n",
       "        vertical-align: middle;\n",
       "    }\n",
       "\n",
       "    .dataframe tbody tr th {\n",
       "        vertical-align: top;\n",
       "    }\n",
       "\n",
       "    .dataframe thead th {\n",
       "        text-align: right;\n",
       "    }\n",
       "</style>\n",
       "<table border=\"1\" class=\"dataframe\">\n",
       "  <thead>\n",
       "    <tr style=\"text-align: right;\">\n",
       "      <th></th>\n",
       "      <th>SEXVAR</th>\n",
       "      <th>_SMOKER3</th>\n",
       "      <th>WTKG3</th>\n",
       "      <th>HTM4</th>\n",
       "      <th>_BMI5CAT</th>\n",
       "      <th>BPHIGH6</th>\n",
       "      <th>_AGEG5YR</th>\n",
       "      <th>EXERANY2</th>\n",
       "      <th>ALCDAY5</th>\n",
       "      <th>DIABETE4</th>\n",
       "    </tr>\n",
       "  </thead>\n",
       "  <tbody>\n",
       "    <tr>\n",
       "      <th>0</th>\n",
       "      <td>Perempuan</td>\n",
       "      <td>Tidak</td>\n",
       "      <td>45</td>\n",
       "      <td>155</td>\n",
       "      <td>18.730489</td>\n",
       "      <td>Ya</td>\n",
       "      <td>30 - 34</td>\n",
       "      <td>Ya</td>\n",
       "      <td>Tidak</td>\n",
       "      <td>Tidak</td>\n",
       "    </tr>\n",
       "    <tr>\n",
       "      <th>1</th>\n",
       "      <td>Laki Laki</td>\n",
       "      <td>Tidak</td>\n",
       "      <td>69</td>\n",
       "      <td>169</td>\n",
       "      <td>24.158818</td>\n",
       "      <td>Tidak</td>\n",
       "      <td>30 - 34</td>\n",
       "      <td>Ya</td>\n",
       "      <td>Tidak</td>\n",
       "      <td>Ya</td>\n",
       "    </tr>\n",
       "    <tr>\n",
       "      <th>2</th>\n",
       "      <td>Perempuan</td>\n",
       "      <td>Tidak</td>\n",
       "      <td>34</td>\n",
       "      <td>153</td>\n",
       "      <td>14.524328</td>\n",
       "      <td>Ya</td>\n",
       "      <td>40 - 44</td>\n",
       "      <td>Ya</td>\n",
       "      <td>Tidak</td>\n",
       "      <td>Ya</td>\n",
       "    </tr>\n",
       "    <tr>\n",
       "      <th>3</th>\n",
       "      <td>Perempuan</td>\n",
       "      <td>Tidak</td>\n",
       "      <td>69</td>\n",
       "      <td>158</td>\n",
       "      <td>27.639801</td>\n",
       "      <td>Ya</td>\n",
       "      <td>30 - 34</td>\n",
       "      <td>Tidak</td>\n",
       "      <td>Tidak</td>\n",
       "      <td>Tidak</td>\n",
       "    </tr>\n",
       "    <tr>\n",
       "      <th>4</th>\n",
       "      <td>Perempuan</td>\n",
       "      <td>Tidak</td>\n",
       "      <td>51</td>\n",
       "      <td>157</td>\n",
       "      <td>20.690495</td>\n",
       "      <td>Tidak</td>\n",
       "      <td>50 - 54</td>\n",
       "      <td>Ya</td>\n",
       "      <td>Tidak</td>\n",
       "      <td>Tidak</td>\n",
       "    </tr>\n",
       "  </tbody>\n",
       "</table>\n",
       "</div>"
      ],
      "text/plain": [
       "      SEXVAR _SMOKER3  WTKG3  HTM4   _BMI5CAT BPHIGH6 _AGEG5YR EXERANY2  \\\n",
       "0  Perempuan    Tidak     45   155  18.730489      Ya  30 - 34       Ya   \n",
       "1  Laki Laki    Tidak     69   169  24.158818   Tidak  30 - 34       Ya   \n",
       "2  Perempuan    Tidak     34   153  14.524328      Ya  40 - 44       Ya   \n",
       "3  Perempuan    Tidak     69   158  27.639801      Ya  30 - 34    Tidak   \n",
       "4  Perempuan    Tidak     51   157  20.690495   Tidak  50 - 54       Ya   \n",
       "\n",
       "  ALCDAY5 DIABETE4  \n",
       "0   Tidak    Tidak  \n",
       "1   Tidak       Ya  \n",
       "2   Tidak       Ya  \n",
       "3   Tidak    Tidak  \n",
       "4   Tidak    Tidak  "
      ]
     },
     "execution_count": 17,
     "metadata": {},
     "output_type": "execute_result"
    }
   ],
   "source": [
    "df.head(5)"
   ]
  },
  {
   "cell_type": "code",
   "execution_count": 18,
   "metadata": {},
   "outputs": [
    {
     "data": {
      "text/html": [
       "<div>\n",
       "<style scoped>\n",
       "    .dataframe tbody tr th:only-of-type {\n",
       "        vertical-align: middle;\n",
       "    }\n",
       "\n",
       "    .dataframe tbody tr th {\n",
       "        vertical-align: top;\n",
       "    }\n",
       "\n",
       "    .dataframe thead th {\n",
       "        text-align: right;\n",
       "    }\n",
       "</style>\n",
       "<table border=\"1\" class=\"dataframe\">\n",
       "  <thead>\n",
       "    <tr style=\"text-align: right;\">\n",
       "      <th></th>\n",
       "      <th>SEXVAR</th>\n",
       "      <th>_SMOKER3</th>\n",
       "      <th>WTKG3</th>\n",
       "      <th>HTM4</th>\n",
       "      <th>_BMI5CAT</th>\n",
       "      <th>BPHIGH6</th>\n",
       "      <th>_AGEG5YR</th>\n",
       "      <th>EXERANY2</th>\n",
       "      <th>ALCDAY5</th>\n",
       "      <th>DIABETE4</th>\n",
       "    </tr>\n",
       "  </thead>\n",
       "  <tbody>\n",
       "    <tr>\n",
       "      <th>95</th>\n",
       "      <td>Perempuan</td>\n",
       "      <td>Tidak</td>\n",
       "      <td>60</td>\n",
       "      <td>157</td>\n",
       "      <td>24.341758</td>\n",
       "      <td>Tidak</td>\n",
       "      <td>50 - 54</td>\n",
       "      <td>Tidak</td>\n",
       "      <td>Tidak</td>\n",
       "      <td>Tidak</td>\n",
       "    </tr>\n",
       "    <tr>\n",
       "      <th>96</th>\n",
       "      <td>Perempuan</td>\n",
       "      <td>Tidak</td>\n",
       "      <td>66</td>\n",
       "      <td>152</td>\n",
       "      <td>28.566482</td>\n",
       "      <td>Tidak</td>\n",
       "      <td>35 - 39</td>\n",
       "      <td>Tidak</td>\n",
       "      <td>Tidak</td>\n",
       "      <td>Tidak</td>\n",
       "    </tr>\n",
       "    <tr>\n",
       "      <th>97</th>\n",
       "      <td>Perempuan</td>\n",
       "      <td>Tidak</td>\n",
       "      <td>55</td>\n",
       "      <td>143</td>\n",
       "      <td>26.896181</td>\n",
       "      <td>Ya</td>\n",
       "      <td>45 - 49</td>\n",
       "      <td>Tidak</td>\n",
       "      <td>Tidak</td>\n",
       "      <td>Tidak</td>\n",
       "    </tr>\n",
       "    <tr>\n",
       "      <th>98</th>\n",
       "      <td>Laki Laki</td>\n",
       "      <td>Tidak</td>\n",
       "      <td>67</td>\n",
       "      <td>172</td>\n",
       "      <td>22.647377</td>\n",
       "      <td>Ya</td>\n",
       "      <td>30 - 34</td>\n",
       "      <td>Tidak</td>\n",
       "      <td>Tidak</td>\n",
       "      <td>Tidak</td>\n",
       "    </tr>\n",
       "    <tr>\n",
       "      <th>99</th>\n",
       "      <td>Perempuan</td>\n",
       "      <td>Tidak</td>\n",
       "      <td>55</td>\n",
       "      <td>142</td>\n",
       "      <td>27.276334</td>\n",
       "      <td>Ya</td>\n",
       "      <td>30 - 34</td>\n",
       "      <td>Tidak</td>\n",
       "      <td>Tidak</td>\n",
       "      <td>Tidak</td>\n",
       "    </tr>\n",
       "  </tbody>\n",
       "</table>\n",
       "</div>"
      ],
      "text/plain": [
       "       SEXVAR _SMOKER3  WTKG3  HTM4   _BMI5CAT BPHIGH6 _AGEG5YR EXERANY2  \\\n",
       "95  Perempuan    Tidak     60   157  24.341758   Tidak  50 - 54    Tidak   \n",
       "96  Perempuan    Tidak     66   152  28.566482   Tidak  35 - 39    Tidak   \n",
       "97  Perempuan    Tidak     55   143  26.896181      Ya  45 - 49    Tidak   \n",
       "98  Laki Laki    Tidak     67   172  22.647377      Ya  30 - 34    Tidak   \n",
       "99  Perempuan    Tidak     55   142  27.276334      Ya  30 - 34    Tidak   \n",
       "\n",
       "   ALCDAY5 DIABETE4  \n",
       "95   Tidak    Tidak  \n",
       "96   Tidak    Tidak  \n",
       "97   Tidak    Tidak  \n",
       "98   Tidak    Tidak  \n",
       "99   Tidak    Tidak  "
      ]
     },
     "execution_count": 18,
     "metadata": {},
     "output_type": "execute_result"
    }
   ],
   "source": [
    "df.tail(5)"
   ]
  },
  {
   "cell_type": "code",
   "execution_count": 19,
   "metadata": {},
   "outputs": [
    {
     "data": {
      "text/plain": [
       "(87, 10)"
      ]
     },
     "execution_count": 19,
     "metadata": {},
     "output_type": "execute_result"
    }
   ],
   "source": [
    "df.shape"
   ]
  },
  {
   "cell_type": "markdown",
   "metadata": {},
   "source": [
    "**8. Outlier**"
   ]
  },
  {
   "cell_type": "code",
   "execution_count": 20,
   "metadata": {},
   "outputs": [
    {
     "data": {
      "text/plain": [
       "<function matplotlib.pyplot.show(close=None, block=None)>"
      ]
     },
     "execution_count": 20,
     "metadata": {},
     "output_type": "execute_result"
    },
    {
     "data": {
      "image/png": "[encoded data removed]",
      "text/plain": [
       "<Figure size 1200x400 with 2 Axes>"
      ]
     },
     "metadata": {},
     "output_type": "display_data"
    }
   ],
   "source": [
    "f = plt.figure(figsize=(12,4))\n",
    "f.add_subplot(1,2,1)\n",
    "df['WTKG3'].plot(kind='kde')\n",
    "f.add_subplot(1,2,2)\n",
    "plt.boxplot(df['WTKG3'])\n",
    "plt.show"
   ]
  },
  {
   "cell_type": "code",
   "execution_count": 21,
   "metadata": {},
   "outputs": [
    {
     "data": {
      "text/plain": [
       "<function matplotlib.pyplot.show(close=None, block=None)>"
      ]
     },
     "execution_count": 21,
     "metadata": {},
     "output_type": "execute_result"
    },
    {
     "data": {
      "image/png": "[encoded data removed]",
      "text/plain": [
       "<Figure size 1200x400 with 2 Axes>"
      ]
     },
     "metadata": {},
     "output_type": "display_data"
    }
   ],
   "source": [
    "f = plt.figure(figsize=(12,4))\n",
    "f.add_subplot(1,2,1)\n",
    "df['HTM4'].plot(kind='kde')\n",
    "f.add_subplot(1,2,2)\n",
    "plt.boxplot(df['WTKG3'])\n",
    "plt.show"
   ]
  },
  {
   "cell_type": "markdown",
   "metadata": {},
   "source": [
    "**9. Feature Engineering**"
   ]
  },
  {
   "cell_type": "code",
   "execution_count": 22,
   "metadata": {},
   "outputs": [],
   "source": [
    "# Berdasarkan BMI, beberapa rentang ditentukan dan variabel kategorikal ditetapkan.\n",
    "NewBMI = pd.Series([\"0\", \"1\", \"2\", \"3\"], dtype = \"int32\")\n",
    "df[\"NewBMI\"] = NewBMI\n",
    "df.loc[df[\"_BMI5CAT\"] < 18.5, \"NewBMI\"] = NewBMI[0]\n",
    "df.loc[(df[\"_BMI5CAT\"] > 18.5) & (df[\"_BMI5CAT\"] <= 25), \"NewBMI\"] = NewBMI[1]\n",
    "df.loc[(df[\"_BMI5CAT\"] > 25) & (df[\"_BMI5CAT\"] <= 30), \"NewBMI\"] = NewBMI[2]\n",
    "df.loc[df[\"_BMI5CAT\"] > 30 ,\"NewBMI\"] = NewBMI[3]"
   ]
  },
  {
   "cell_type": "code",
   "execution_count": 23,
   "metadata": {},
   "outputs": [
    {
     "data": {
      "text/html": [
       "<div>\n",
       "<style scoped>\n",
       "    .dataframe tbody tr th:only-of-type {\n",
       "        vertical-align: middle;\n",
       "    }\n",
       "\n",
       "    .dataframe tbody tr th {\n",
       "        vertical-align: top;\n",
       "    }\n",
       "\n",
       "    .dataframe thead th {\n",
       "        text-align: right;\n",
       "    }\n",
       "</style>\n",
       "<table border=\"1\" class=\"dataframe\">\n",
       "  <thead>\n",
       "    <tr style=\"text-align: right;\">\n",
       "      <th></th>\n",
       "      <th>SEXVAR</th>\n",
       "      <th>_SMOKER3</th>\n",
       "      <th>WTKG3</th>\n",
       "      <th>HTM4</th>\n",
       "      <th>_BMI5CAT</th>\n",
       "      <th>BPHIGH6</th>\n",
       "      <th>_AGEG5YR</th>\n",
       "      <th>EXERANY2</th>\n",
       "      <th>ALCDAY5</th>\n",
       "      <th>DIABETE4</th>\n",
       "      <th>NewBMI</th>\n",
       "    </tr>\n",
       "  </thead>\n",
       "  <tbody>\n",
       "    <tr>\n",
       "      <th>0</th>\n",
       "      <td>Perempuan</td>\n",
       "      <td>Tidak</td>\n",
       "      <td>45</td>\n",
       "      <td>155</td>\n",
       "      <td>18.730489</td>\n",
       "      <td>Ya</td>\n",
       "      <td>30 - 34</td>\n",
       "      <td>Ya</td>\n",
       "      <td>Tidak</td>\n",
       "      <td>Tidak</td>\n",
       "      <td>1.0</td>\n",
       "    </tr>\n",
       "    <tr>\n",
       "      <th>1</th>\n",
       "      <td>Laki Laki</td>\n",
       "      <td>Tidak</td>\n",
       "      <td>69</td>\n",
       "      <td>169</td>\n",
       "      <td>24.158818</td>\n",
       "      <td>Tidak</td>\n",
       "      <td>30 - 34</td>\n",
       "      <td>Ya</td>\n",
       "      <td>Tidak</td>\n",
       "      <td>Ya</td>\n",
       "      <td>1.0</td>\n",
       "    </tr>\n",
       "    <tr>\n",
       "      <th>2</th>\n",
       "      <td>Perempuan</td>\n",
       "      <td>Tidak</td>\n",
       "      <td>34</td>\n",
       "      <td>153</td>\n",
       "      <td>14.524328</td>\n",
       "      <td>Ya</td>\n",
       "      <td>40 - 44</td>\n",
       "      <td>Ya</td>\n",
       "      <td>Tidak</td>\n",
       "      <td>Ya</td>\n",
       "      <td>0.0</td>\n",
       "    </tr>\n",
       "    <tr>\n",
       "      <th>3</th>\n",
       "      <td>Perempuan</td>\n",
       "      <td>Tidak</td>\n",
       "      <td>69</td>\n",
       "      <td>158</td>\n",
       "      <td>27.639801</td>\n",
       "      <td>Ya</td>\n",
       "      <td>30 - 34</td>\n",
       "      <td>Tidak</td>\n",
       "      <td>Tidak</td>\n",
       "      <td>Tidak</td>\n",
       "      <td>2.0</td>\n",
       "    </tr>\n",
       "    <tr>\n",
       "      <th>4</th>\n",
       "      <td>Perempuan</td>\n",
       "      <td>Tidak</td>\n",
       "      <td>51</td>\n",
       "      <td>157</td>\n",
       "      <td>20.690495</td>\n",
       "      <td>Tidak</td>\n",
       "      <td>50 - 54</td>\n",
       "      <td>Ya</td>\n",
       "      <td>Tidak</td>\n",
       "      <td>Tidak</td>\n",
       "      <td>1.0</td>\n",
       "    </tr>\n",
       "    <tr>\n",
       "      <th>5</th>\n",
       "      <td>Perempuan</td>\n",
       "      <td>Tidak</td>\n",
       "      <td>62</td>\n",
       "      <td>152</td>\n",
       "      <td>26.835180</td>\n",
       "      <td>Ya</td>\n",
       "      <td>50 - 54</td>\n",
       "      <td>Ya</td>\n",
       "      <td>Tidak</td>\n",
       "      <td>Tidak</td>\n",
       "      <td>2.0</td>\n",
       "    </tr>\n",
       "    <tr>\n",
       "      <th>6</th>\n",
       "      <td>Perempuan</td>\n",
       "      <td>Tidak</td>\n",
       "      <td>38</td>\n",
       "      <td>155</td>\n",
       "      <td>15.816857</td>\n",
       "      <td>Ya</td>\n",
       "      <td>18 - 24</td>\n",
       "      <td>Ya</td>\n",
       "      <td>Tidak</td>\n",
       "      <td>Tidak</td>\n",
       "      <td>0.0</td>\n",
       "    </tr>\n",
       "    <tr>\n",
       "      <th>9</th>\n",
       "      <td>Perempuan</td>\n",
       "      <td>Tidak</td>\n",
       "      <td>53</td>\n",
       "      <td>149</td>\n",
       "      <td>23.872799</td>\n",
       "      <td>Ya</td>\n",
       "      <td>30 - 34</td>\n",
       "      <td>Ya</td>\n",
       "      <td>Tidak</td>\n",
       "      <td>Tidak</td>\n",
       "      <td>1.0</td>\n",
       "    </tr>\n",
       "    <tr>\n",
       "      <th>17</th>\n",
       "      <td>Perempuan</td>\n",
       "      <td>Tidak</td>\n",
       "      <td>54</td>\n",
       "      <td>149</td>\n",
       "      <td>24.323229</td>\n",
       "      <td>Ya</td>\n",
       "      <td>40 - 44</td>\n",
       "      <td>Ya</td>\n",
       "      <td>Tidak</td>\n",
       "      <td>Ya</td>\n",
       "      <td>1.0</td>\n",
       "    </tr>\n",
       "    <tr>\n",
       "      <th>18</th>\n",
       "      <td>Perempuan</td>\n",
       "      <td>Tidak</td>\n",
       "      <td>54</td>\n",
       "      <td>154</td>\n",
       "      <td>22.769438</td>\n",
       "      <td>Tidak</td>\n",
       "      <td>30 - 34</td>\n",
       "      <td>Ya</td>\n",
       "      <td>Tidak</td>\n",
       "      <td>Tidak</td>\n",
       "      <td>1.0</td>\n",
       "    </tr>\n",
       "  </tbody>\n",
       "</table>\n",
       "</div>"
      ],
      "text/plain": [
       "       SEXVAR _SMOKER3  WTKG3  HTM4   _BMI5CAT BPHIGH6 _AGEG5YR EXERANY2  \\\n",
       "0   Perempuan    Tidak     45   155  18.730489      Ya  30 - 34       Ya   \n",
       "1   Laki Laki    Tidak     69   169  24.158818   Tidak  30 - 34       Ya   \n",
       "2   Perempuan    Tidak     34   153  14.524328      Ya  40 - 44       Ya   \n",
       "3   Perempuan    Tidak     69   158  27.639801      Ya  30 - 34    Tidak   \n",
       "4   Perempuan    Tidak     51   157  20.690495   Tidak  50 - 54       Ya   \n",
       "5   Perempuan    Tidak     62   152  26.835180      Ya  50 - 54       Ya   \n",
       "6   Perempuan    Tidak     38   155  15.816857      Ya  18 - 24       Ya   \n",
       "9   Perempuan    Tidak     53   149  23.872799      Ya  30 - 34       Ya   \n",
       "17  Perempuan    Tidak     54   149  24.323229      Ya  40 - 44       Ya   \n",
       "18  Perempuan    Tidak     54   154  22.769438   Tidak  30 - 34       Ya   \n",
       "\n",
       "   ALCDAY5 DIABETE4  NewBMI  \n",
       "0    Tidak    Tidak     1.0  \n",
       "1    Tidak       Ya     1.0  \n",
       "2    Tidak       Ya     0.0  \n",
       "3    Tidak    Tidak     2.0  \n",
       "4    Tidak    Tidak     1.0  \n",
       "5    Tidak    Tidak     2.0  \n",
       "6    Tidak    Tidak     0.0  \n",
       "9    Tidak    Tidak     1.0  \n",
       "17   Tidak       Ya     1.0  \n",
       "18   Tidak    Tidak     1.0  "
      ]
     },
     "execution_count": 23,
     "metadata": {},
     "output_type": "execute_result"
    }
   ],
   "source": [
    "df.head(10)"
   ]
  },
  {
   "cell_type": "markdown",
   "metadata": {},
   "source": [
    "**10. One Hot Encoding**\n",
    "\n",
    "Variabel kategorikal dalam kumpulan data harus diubah menjadi nilai numerik. Untuk alasan ini, proses transformasi ini dilakukan dengan metode Label Encoding dan One Hot Encoding."
   ]
  },
  {
   "cell_type": "markdown",
   "metadata": {},
   "source": [
    "Elemen Unik dalam Kolom Kategorikal"
   ]
  },
  {
   "cell_type": "code",
   "execution_count": 24,
   "metadata": {},
   "outputs": [
    {
     "name": "stdout",
     "output_type": "stream",
     "text": [
      "['Perempuan' 'Laki Laki']\n",
      "['Tidak' 'Ya']\n",
      "['Ya' 'Tidak']\n",
      "['30 - 34' '40 - 44' '50 - 54' '18 - 24' '55 - 59' '35 - 39' '45 - 49']\n",
      "['Ya' 'Tidak']\n",
      "['Tidak' 'Ya']\n",
      "['Tidak' 'Ya']\n"
     ]
    }
   ],
   "source": [
    "print(df['SEXVAR'].unique())\n",
    "print(df['_SMOKER3'].unique())\n",
    "print(df['BPHIGH6'].unique())\n",
    "print(df['_AGEG5YR'].unique())\n",
    "print(df['EXERANY2'].unique())\n",
    "print(df['ALCDAY5'].unique())\n",
    "print(df['DIABETE4'].unique())"
   ]
  },
  {
   "cell_type": "markdown",
   "metadata": {},
   "source": [
    "Jumlah Elemen dalam Kolom"
   ]
  },
  {
   "cell_type": "code",
   "execution_count": 25,
   "metadata": {},
   "outputs": [
    {
     "data": {
      "text/plain": [
       "DIABETE4\n",
       "Tidak    66\n",
       "Ya       21\n",
       "Name: count, dtype: int64"
      ]
     },
     "execution_count": 25,
     "metadata": {},
     "output_type": "execute_result"
    }
   ],
   "source": [
    "df['SEXVAR'].value_counts() \n",
    "df['_SMOKER3'].value_counts() \n",
    "df['BPHIGH6'].value_counts() \n",
    "df['_AGEG5YR'].value_counts() \n",
    "df['EXERANY2'].value_counts() \n",
    "df['ALCDAY5'].value_counts() \n",
    "df['DIABETE4'].value_counts() "
   ]
  },
  {
   "cell_type": "markdown",
   "metadata": {},
   "source": [
    "One-Hot Encoding untuk Kolom Kategorikal Menggunakan Sci-kit Learn"
   ]
  },
  {
   "cell_type": "code",
   "execution_count": 26,
   "metadata": {},
   "outputs": [],
   "source": [
    "# Create an instance of One-hot-encoder \n",
    "enc = OneHotEncoder() "
   ]
  },
  {
   "cell_type": "code",
   "execution_count": 27,
   "metadata": {},
   "outputs": [
    {
     "name": "stdout",
     "output_type": "stream",
     "text": [
      "SEXVAR\n",
      "_SMOKER3\n",
      "BPHIGH6\n",
      "_AGEG5YR\n",
      "EXERANY2\n",
      "ALCDAY5\n"
     ]
    }
   ],
   "source": [
    "encoder_list = {}\n",
    "clean_df = df.copy()\n",
    "for column in clean_df.columns:\n",
    "    if column != 'DIABETE4':\n",
    "        if clean_df[column].dtype == 'object':\n",
    "            print(column)\n",
    "            encoder = OneHotEncoder(sparse=False, drop=None)\n",
    "            \n",
    "            test_encoder = pd.DataFrame()\n",
    "            test_encoder[column] = clean_df[column].copy()\n",
    "            encoder_list[column] = encoder.fit(test_encoder)\n",
    "            encoded_data = encoder.transform(test_encoder)\n",
    "\n",
    "            result = pd.DataFrame(encoded_data, columns=encoder.get_feature_names_out()).astype(int)\n",
    "            clean_df = pd.concat([clean_df, result], axis=1)\n",
    "            clean_df.drop(column, axis=1, inplace=True)"
   ]
  },
  {
   "cell_type": "code",
   "execution_count": 28,
   "metadata": {},
   "outputs": [
    {
     "name": "stdout",
     "output_type": "stream",
     "text": [
      "<class 'pandas.core.frame.DataFrame'>\n",
      "Index: 100 entries, 0 to 44\n",
      "Data columns (total 27 columns):\n",
      " #   Column            Non-Null Count  Dtype  \n",
      "---  ------            --------------  -----  \n",
      " 0   WTKG3             87 non-null     float64\n",
      " 1   HTM4              87 non-null     float64\n",
      " 2   _BMI5CAT          87 non-null     float64\n",
      " 3   DIABETE4          87 non-null     object \n",
      " 4   NewBMI            87 non-null     float64\n",
      " 5   SEXVAR_Laki Laki  87 non-null     float64\n",
      " 6   SEXVAR_Perempuan  87 non-null     float64\n",
      " 7   _SMOKER3_Tidak    100 non-null    int32  \n",
      " 8   _SMOKER3_Ya       100 non-null    int32  \n",
      " 9   _SMOKER3_nan      100 non-null    int32  \n",
      " 10  BPHIGH6_Tidak     100 non-null    int32  \n",
      " 11  BPHIGH6_Ya        100 non-null    int32  \n",
      " 12  BPHIGH6_nan       100 non-null    int32  \n",
      " 13  _AGEG5YR_18 - 24  100 non-null    int32  \n",
      " 14  _AGEG5YR_30 - 34  100 non-null    int32  \n",
      " 15  _AGEG5YR_35 - 39  100 non-null    int32  \n",
      " 16  _AGEG5YR_40 - 44  100 non-null    int32  \n",
      " 17  _AGEG5YR_45 - 49  100 non-null    int32  \n",
      " 18  _AGEG5YR_50 - 54  100 non-null    int32  \n",
      " 19  _AGEG5YR_55 - 59  100 non-null    int32  \n",
      " 20  _AGEG5YR_nan      100 non-null    int32  \n",
      " 21  EXERANY2_Tidak    100 non-null    int32  \n",
      " 22  EXERANY2_Ya       100 non-null    int32  \n",
      " 23  EXERANY2_nan      100 non-null    int32  \n",
      " 24  ALCDAY5_Tidak     100 non-null    int32  \n",
      " 25  ALCDAY5_Ya        100 non-null    int32  \n",
      " 26  ALCDAY5_nan       100 non-null    int32  \n",
      "dtypes: float64(6), int32(20), object(1)\n",
      "memory usage: 14.1+ KB\n"
     ]
    }
   ],
   "source": [
    "clean_df.info()"
   ]
  },
  {
   "cell_type": "code",
   "execution_count": 29,
   "metadata": {},
   "outputs": [
    {
     "data": {
      "text/plain": [
       "array(['Tidak', 'Ya', nan], dtype=object)"
      ]
     },
     "execution_count": 29,
     "metadata": {},
     "output_type": "execute_result"
    }
   ],
   "source": [
    "clean_df['DIABETE4'].unique()"
   ]
  },
  {
   "cell_type": "code",
   "execution_count": 30,
   "metadata": {},
   "outputs": [
    {
     "data": {
      "text/plain": [
       "13"
      ]
     },
     "execution_count": 30,
     "metadata": {},
     "output_type": "execute_result"
    }
   ],
   "source": [
    "clean_df['DIABETE4'].isna().sum()"
   ]
  },
  {
   "cell_type": "code",
   "execution_count": 31,
   "metadata": {},
   "outputs": [
    {
     "data": {
      "text/html": [
       "<div>\n",
       "<style scoped>\n",
       "    .dataframe tbody tr th:only-of-type {\n",
       "        vertical-align: middle;\n",
       "    }\n",
       "\n",
       "    .dataframe tbody tr th {\n",
       "        vertical-align: top;\n",
       "    }\n",
       "\n",
       "    .dataframe thead th {\n",
       "        text-align: right;\n",
       "    }\n",
       "</style>\n",
       "<table border=\"1\" class=\"dataframe\">\n",
       "  <thead>\n",
       "    <tr style=\"text-align: right;\">\n",
       "      <th></th>\n",
       "      <th>WTKG3</th>\n",
       "      <th>HTM4</th>\n",
       "      <th>_BMI5CAT</th>\n",
       "      <th>DIABETE4</th>\n",
       "      <th>NewBMI</th>\n",
       "      <th>SEXVAR_Laki Laki</th>\n",
       "      <th>SEXVAR_Perempuan</th>\n",
       "      <th>_SMOKER3_Tidak</th>\n",
       "      <th>_SMOKER3_Ya</th>\n",
       "      <th>_SMOKER3_nan</th>\n",
       "      <th>...</th>\n",
       "      <th>_AGEG5YR_45 - 49</th>\n",
       "      <th>_AGEG5YR_50 - 54</th>\n",
       "      <th>_AGEG5YR_55 - 59</th>\n",
       "      <th>_AGEG5YR_nan</th>\n",
       "      <th>EXERANY2_Tidak</th>\n",
       "      <th>EXERANY2_Ya</th>\n",
       "      <th>EXERANY2_nan</th>\n",
       "      <th>ALCDAY5_Tidak</th>\n",
       "      <th>ALCDAY5_Ya</th>\n",
       "      <th>ALCDAY5_nan</th>\n",
       "    </tr>\n",
       "  </thead>\n",
       "  <tbody>\n",
       "    <tr>\n",
       "      <th>0</th>\n",
       "      <td>45.0</td>\n",
       "      <td>155.0</td>\n",
       "      <td>18.730489</td>\n",
       "      <td>Tidak</td>\n",
       "      <td>1.0</td>\n",
       "      <td>0.0</td>\n",
       "      <td>1.0</td>\n",
       "      <td>1</td>\n",
       "      <td>0</td>\n",
       "      <td>0</td>\n",
       "      <td>...</td>\n",
       "      <td>0</td>\n",
       "      <td>0</td>\n",
       "      <td>0</td>\n",
       "      <td>0</td>\n",
       "      <td>0</td>\n",
       "      <td>1</td>\n",
       "      <td>0</td>\n",
       "      <td>1</td>\n",
       "      <td>0</td>\n",
       "      <td>0</td>\n",
       "    </tr>\n",
       "    <tr>\n",
       "      <th>1</th>\n",
       "      <td>69.0</td>\n",
       "      <td>169.0</td>\n",
       "      <td>24.158818</td>\n",
       "      <td>Ya</td>\n",
       "      <td>1.0</td>\n",
       "      <td>1.0</td>\n",
       "      <td>0.0</td>\n",
       "      <td>1</td>\n",
       "      <td>0</td>\n",
       "      <td>0</td>\n",
       "      <td>...</td>\n",
       "      <td>0</td>\n",
       "      <td>0</td>\n",
       "      <td>0</td>\n",
       "      <td>0</td>\n",
       "      <td>0</td>\n",
       "      <td>1</td>\n",
       "      <td>0</td>\n",
       "      <td>1</td>\n",
       "      <td>0</td>\n",
       "      <td>0</td>\n",
       "    </tr>\n",
       "    <tr>\n",
       "      <th>2</th>\n",
       "      <td>34.0</td>\n",
       "      <td>153.0</td>\n",
       "      <td>14.524328</td>\n",
       "      <td>Ya</td>\n",
       "      <td>0.0</td>\n",
       "      <td>0.0</td>\n",
       "      <td>1.0</td>\n",
       "      <td>1</td>\n",
       "      <td>0</td>\n",
       "      <td>0</td>\n",
       "      <td>...</td>\n",
       "      <td>0</td>\n",
       "      <td>0</td>\n",
       "      <td>0</td>\n",
       "      <td>0</td>\n",
       "      <td>0</td>\n",
       "      <td>1</td>\n",
       "      <td>0</td>\n",
       "      <td>1</td>\n",
       "      <td>0</td>\n",
       "      <td>0</td>\n",
       "    </tr>\n",
       "    <tr>\n",
       "      <th>3</th>\n",
       "      <td>69.0</td>\n",
       "      <td>158.0</td>\n",
       "      <td>27.639801</td>\n",
       "      <td>Tidak</td>\n",
       "      <td>2.0</td>\n",
       "      <td>0.0</td>\n",
       "      <td>1.0</td>\n",
       "      <td>1</td>\n",
       "      <td>0</td>\n",
       "      <td>0</td>\n",
       "      <td>...</td>\n",
       "      <td>0</td>\n",
       "      <td>0</td>\n",
       "      <td>0</td>\n",
       "      <td>0</td>\n",
       "      <td>1</td>\n",
       "      <td>0</td>\n",
       "      <td>0</td>\n",
       "      <td>1</td>\n",
       "      <td>0</td>\n",
       "      <td>0</td>\n",
       "    </tr>\n",
       "    <tr>\n",
       "      <th>4</th>\n",
       "      <td>51.0</td>\n",
       "      <td>157.0</td>\n",
       "      <td>20.690495</td>\n",
       "      <td>Tidak</td>\n",
       "      <td>1.0</td>\n",
       "      <td>0.0</td>\n",
       "      <td>1.0</td>\n",
       "      <td>1</td>\n",
       "      <td>0</td>\n",
       "      <td>0</td>\n",
       "      <td>...</td>\n",
       "      <td>0</td>\n",
       "      <td>1</td>\n",
       "      <td>0</td>\n",
       "      <td>0</td>\n",
       "      <td>0</td>\n",
       "      <td>1</td>\n",
       "      <td>0</td>\n",
       "      <td>1</td>\n",
       "      <td>0</td>\n",
       "      <td>0</td>\n",
       "    </tr>\n",
       "    <tr>\n",
       "      <th>...</th>\n",
       "      <td>...</td>\n",
       "      <td>...</td>\n",
       "      <td>...</td>\n",
       "      <td>...</td>\n",
       "      <td>...</td>\n",
       "      <td>...</td>\n",
       "      <td>...</td>\n",
       "      <td>...</td>\n",
       "      <td>...</td>\n",
       "      <td>...</td>\n",
       "      <td>...</td>\n",
       "      <td>...</td>\n",
       "      <td>...</td>\n",
       "      <td>...</td>\n",
       "      <td>...</td>\n",
       "      <td>...</td>\n",
       "      <td>...</td>\n",
       "      <td>...</td>\n",
       "      <td>...</td>\n",
       "      <td>...</td>\n",
       "      <td>...</td>\n",
       "    </tr>\n",
       "    <tr>\n",
       "      <th>82</th>\n",
       "      <td>56.0</td>\n",
       "      <td>154.0</td>\n",
       "      <td>23.612751</td>\n",
       "      <td>Tidak</td>\n",
       "      <td>1.0</td>\n",
       "      <td>0.0</td>\n",
       "      <td>1.0</td>\n",
       "      <td>1</td>\n",
       "      <td>0</td>\n",
       "      <td>0</td>\n",
       "      <td>...</td>\n",
       "      <td>0</td>\n",
       "      <td>1</td>\n",
       "      <td>0</td>\n",
       "      <td>0</td>\n",
       "      <td>1</td>\n",
       "      <td>0</td>\n",
       "      <td>0</td>\n",
       "      <td>1</td>\n",
       "      <td>0</td>\n",
       "      <td>0</td>\n",
       "    </tr>\n",
       "    <tr>\n",
       "      <th>83</th>\n",
       "      <td>64.0</td>\n",
       "      <td>153.0</td>\n",
       "      <td>27.339912</td>\n",
       "      <td>Tidak</td>\n",
       "      <td>2.0</td>\n",
       "      <td>0.0</td>\n",
       "      <td>1.0</td>\n",
       "      <td>1</td>\n",
       "      <td>0</td>\n",
       "      <td>0</td>\n",
       "      <td>...</td>\n",
       "      <td>0</td>\n",
       "      <td>0</td>\n",
       "      <td>0</td>\n",
       "      <td>0</td>\n",
       "      <td>1</td>\n",
       "      <td>0</td>\n",
       "      <td>0</td>\n",
       "      <td>1</td>\n",
       "      <td>0</td>\n",
       "      <td>0</td>\n",
       "    </tr>\n",
       "    <tr>\n",
       "      <th>84</th>\n",
       "      <td>76.0</td>\n",
       "      <td>172.0</td>\n",
       "      <td>25.689562</td>\n",
       "      <td>Tidak</td>\n",
       "      <td>2.0</td>\n",
       "      <td>0.0</td>\n",
       "      <td>1.0</td>\n",
       "      <td>1</td>\n",
       "      <td>0</td>\n",
       "      <td>0</td>\n",
       "      <td>...</td>\n",
       "      <td>1</td>\n",
       "      <td>0</td>\n",
       "      <td>0</td>\n",
       "      <td>0</td>\n",
       "      <td>1</td>\n",
       "      <td>0</td>\n",
       "      <td>0</td>\n",
       "      <td>1</td>\n",
       "      <td>0</td>\n",
       "      <td>0</td>\n",
       "    </tr>\n",
       "    <tr>\n",
       "      <th>85</th>\n",
       "      <td>58.0</td>\n",
       "      <td>149.0</td>\n",
       "      <td>26.124949</td>\n",
       "      <td>Tidak</td>\n",
       "      <td>2.0</td>\n",
       "      <td>1.0</td>\n",
       "      <td>0.0</td>\n",
       "      <td>1</td>\n",
       "      <td>0</td>\n",
       "      <td>0</td>\n",
       "      <td>...</td>\n",
       "      <td>0</td>\n",
       "      <td>0</td>\n",
       "      <td>0</td>\n",
       "      <td>0</td>\n",
       "      <td>1</td>\n",
       "      <td>0</td>\n",
       "      <td>0</td>\n",
       "      <td>1</td>\n",
       "      <td>0</td>\n",
       "      <td>0</td>\n",
       "    </tr>\n",
       "    <tr>\n",
       "      <th>86</th>\n",
       "      <td>88.0</td>\n",
       "      <td>148.0</td>\n",
       "      <td>40.175310</td>\n",
       "      <td>Tidak</td>\n",
       "      <td>3.0</td>\n",
       "      <td>0.0</td>\n",
       "      <td>1.0</td>\n",
       "      <td>1</td>\n",
       "      <td>0</td>\n",
       "      <td>0</td>\n",
       "      <td>...</td>\n",
       "      <td>0</td>\n",
       "      <td>0</td>\n",
       "      <td>0</td>\n",
       "      <td>0</td>\n",
       "      <td>1</td>\n",
       "      <td>0</td>\n",
       "      <td>0</td>\n",
       "      <td>1</td>\n",
       "      <td>0</td>\n",
       "      <td>0</td>\n",
       "    </tr>\n",
       "  </tbody>\n",
       "</table>\n",
       "<p>74 rows × 27 columns</p>\n",
       "</div>"
      ],
      "text/plain": [
       "    WTKG3   HTM4   _BMI5CAT DIABETE4  NewBMI  SEXVAR_Laki Laki  \\\n",
       "0    45.0  155.0  18.730489    Tidak     1.0               0.0   \n",
       "1    69.0  169.0  24.158818       Ya     1.0               1.0   \n",
       "2    34.0  153.0  14.524328       Ya     0.0               0.0   \n",
       "3    69.0  158.0  27.639801    Tidak     2.0               0.0   \n",
       "4    51.0  157.0  20.690495    Tidak     1.0               0.0   \n",
       "..    ...    ...        ...      ...     ...               ...   \n",
       "82   56.0  154.0  23.612751    Tidak     1.0               0.0   \n",
       "83   64.0  153.0  27.339912    Tidak     2.0               0.0   \n",
       "84   76.0  172.0  25.689562    Tidak     2.0               0.0   \n",
       "85   58.0  149.0  26.124949    Tidak     2.0               1.0   \n",
       "86   88.0  148.0  40.175310    Tidak     3.0               0.0   \n",
       "\n",
       "    SEXVAR_Perempuan  _SMOKER3_Tidak  _SMOKER3_Ya  _SMOKER3_nan  ...  \\\n",
       "0                1.0               1            0             0  ...   \n",
       "1                0.0               1            0             0  ...   \n",
       "2                1.0               1            0             0  ...   \n",
       "3                1.0               1            0             0  ...   \n",
       "4                1.0               1            0             0  ...   \n",
       "..               ...             ...          ...           ...  ...   \n",
       "82               1.0               1            0             0  ...   \n",
       "83               1.0               1            0             0  ...   \n",
       "84               1.0               1            0             0  ...   \n",
       "85               0.0               1            0             0  ...   \n",
       "86               1.0               1            0             0  ...   \n",
       "\n",
       "    _AGEG5YR_45 - 49  _AGEG5YR_50 - 54  _AGEG5YR_55 - 59  _AGEG5YR_nan  \\\n",
       "0                  0                 0                 0             0   \n",
       "1                  0                 0                 0             0   \n",
       "2                  0                 0                 0             0   \n",
       "3                  0                 0                 0             0   \n",
       "4                  0                 1                 0             0   \n",
       "..               ...               ...               ...           ...   \n",
       "82                 0                 1                 0             0   \n",
       "83                 0                 0                 0             0   \n",
       "84                 1                 0                 0             0   \n",
       "85                 0                 0                 0             0   \n",
       "86                 0                 0                 0             0   \n",
       "\n",
       "    EXERANY2_Tidak  EXERANY2_Ya  EXERANY2_nan  ALCDAY5_Tidak  ALCDAY5_Ya  \\\n",
       "0                0            1             0              1           0   \n",
       "1                0            1             0              1           0   \n",
       "2                0            1             0              1           0   \n",
       "3                1            0             0              1           0   \n",
       "4                0            1             0              1           0   \n",
       "..             ...          ...           ...            ...         ...   \n",
       "82               1            0             0              1           0   \n",
       "83               1            0             0              1           0   \n",
       "84               1            0             0              1           0   \n",
       "85               1            0             0              1           0   \n",
       "86               1            0             0              1           0   \n",
       "\n",
       "    ALCDAY5_nan  \n",
       "0             0  \n",
       "1             0  \n",
       "2             0  \n",
       "3             0  \n",
       "4             0  \n",
       "..          ...  \n",
       "82            0  \n",
       "83            0  \n",
       "84            0  \n",
       "85            0  \n",
       "86            0  \n",
       "\n",
       "[74 rows x 27 columns]"
      ]
     },
     "execution_count": 31,
     "metadata": {},
     "output_type": "execute_result"
    }
   ],
   "source": [
    "clean_df = clean_df.dropna()\n",
    "clean_df"
   ]
  },
  {
   "cell_type": "code",
   "execution_count": 32,
   "metadata": {},
   "outputs": [
    {
     "data": {
      "text/plain": [
       "0     0\n",
       "1     1\n",
       "2     1\n",
       "3     0\n",
       "4     0\n",
       "     ..\n",
       "82    0\n",
       "83    0\n",
       "84    0\n",
       "85    0\n",
       "86    0\n",
       "Name: DIABETE4, Length: 74, dtype: int64"
      ]
     },
     "execution_count": 32,
     "metadata": {},
     "output_type": "execute_result"
    }
   ],
   "source": [
    "map_diabet = {'Ya':1, 'Tidak':0}\n",
    "\n",
    "clean_df['DIABETE4'] = clean_df['DIABETE4'].map(map_diabet)\n",
    "clean_df['DIABETE4']"
   ]
  },
  {
   "cell_type": "code",
   "execution_count": 33,
   "metadata": {},
   "outputs": [
    {
     "name": "stdout",
     "output_type": "stream",
     "text": [
      "<class 'pandas.core.frame.DataFrame'>\n",
      "Index: 74 entries, 0 to 86\n",
      "Data columns (total 27 columns):\n",
      " #   Column            Non-Null Count  Dtype\n",
      "---  ------            --------------  -----\n",
      " 0   WTKG3             74 non-null     int32\n",
      " 1   HTM4              74 non-null     int32\n",
      " 2   _BMI5CAT          74 non-null     int32\n",
      " 3   DIABETE4          74 non-null     int32\n",
      " 4   NewBMI            74 non-null     int32\n",
      " 5   SEXVAR_Laki Laki  74 non-null     int32\n",
      " 6   SEXVAR_Perempuan  74 non-null     int32\n",
      " 7   _SMOKER3_Tidak    74 non-null     int32\n",
      " 8   _SMOKER3_Ya       74 non-null     int32\n",
      " 9   _SMOKER3_nan      74 non-null     int32\n",
      " 10  BPHIGH6_Tidak     74 non-null     int32\n",
      " 11  BPHIGH6_Ya        74 non-null     int32\n",
      " 12  BPHIGH6_nan       74 non-null     int32\n",
      " 13  _AGEG5YR_18 - 24  74 non-null     int32\n",
      " 14  _AGEG5YR_30 - 34  74 non-null     int32\n",
      " 15  _AGEG5YR_35 - 39  74 non-null     int32\n",
      " 16  _AGEG5YR_40 - 44  74 non-null     int32\n",
      " 17  _AGEG5YR_45 - 49  74 non-null     int32\n",
      " 18  _AGEG5YR_50 - 54  74 non-null     int32\n",
      " 19  _AGEG5YR_55 - 59  74 non-null     int32\n",
      " 20  _AGEG5YR_nan      74 non-null     int32\n",
      " 21  EXERANY2_Tidak    74 non-null     int32\n",
      " 22  EXERANY2_Ya       74 non-null     int32\n",
      " 23  EXERANY2_nan      74 non-null     int32\n",
      " 24  ALCDAY5_Tidak     74 non-null     int32\n",
      " 25  ALCDAY5_Ya        74 non-null     int32\n",
      " 26  ALCDAY5_nan       74 non-null     int32\n",
      "dtypes: int32(27)\n",
      "memory usage: 8.4 KB\n"
     ]
    }
   ],
   "source": [
    "for column in clean_df.columns:\n",
    "    if clean_df[column].dtype == 'float64' or clean_df[column].dtype == 'int64' or clean_df[column].dtype == 'int32' or df[column].dtype == 'float32':\n",
    "        clean_df[column] = clean_df[column].astype('int32')\n",
    "    #if df[column].dtype == 'int64':\n",
    "    #    df[column] = df[column].astype('int32')\n",
    "\n",
    "clean_df.info()"
   ]
  },
  {
   "cell_type": "code",
   "execution_count": 34,
   "metadata": {},
   "outputs": [
    {
     "data": {
      "text/html": [
       "<div>\n",
       "<style scoped>\n",
       "    .dataframe tbody tr th:only-of-type {\n",
       "        vertical-align: middle;\n",
       "    }\n",
       "\n",
       "    .dataframe tbody tr th {\n",
       "        vertical-align: top;\n",
       "    }\n",
       "\n",
       "    .dataframe thead th {\n",
       "        text-align: right;\n",
       "    }\n",
       "</style>\n",
       "<table border=\"1\" class=\"dataframe\">\n",
       "  <thead>\n",
       "    <tr style=\"text-align: right;\">\n",
       "      <th></th>\n",
       "      <th>WTKG3</th>\n",
       "      <th>HTM4</th>\n",
       "      <th>_BMI5CAT</th>\n",
       "      <th>DIABETE4</th>\n",
       "      <th>NewBMI</th>\n",
       "      <th>SEXVAR_Laki Laki</th>\n",
       "      <th>SEXVAR_Perempuan</th>\n",
       "      <th>_SMOKER3_Tidak</th>\n",
       "      <th>_SMOKER3_Ya</th>\n",
       "      <th>_SMOKER3_nan</th>\n",
       "      <th>...</th>\n",
       "      <th>_AGEG5YR_45 - 49</th>\n",
       "      <th>_AGEG5YR_50 - 54</th>\n",
       "      <th>_AGEG5YR_55 - 59</th>\n",
       "      <th>_AGEG5YR_nan</th>\n",
       "      <th>EXERANY2_Tidak</th>\n",
       "      <th>EXERANY2_Ya</th>\n",
       "      <th>EXERANY2_nan</th>\n",
       "      <th>ALCDAY5_Tidak</th>\n",
       "      <th>ALCDAY5_Ya</th>\n",
       "      <th>ALCDAY5_nan</th>\n",
       "    </tr>\n",
       "  </thead>\n",
       "  <tbody>\n",
       "    <tr>\n",
       "      <th>0</th>\n",
       "      <td>45</td>\n",
       "      <td>155</td>\n",
       "      <td>18</td>\n",
       "      <td>0</td>\n",
       "      <td>1</td>\n",
       "      <td>0</td>\n",
       "      <td>1</td>\n",
       "      <td>1</td>\n",
       "      <td>0</td>\n",
       "      <td>0</td>\n",
       "      <td>...</td>\n",
       "      <td>0</td>\n",
       "      <td>0</td>\n",
       "      <td>0</td>\n",
       "      <td>0</td>\n",
       "      <td>0</td>\n",
       "      <td>1</td>\n",
       "      <td>0</td>\n",
       "      <td>1</td>\n",
       "      <td>0</td>\n",
       "      <td>0</td>\n",
       "    </tr>\n",
       "    <tr>\n",
       "      <th>1</th>\n",
       "      <td>69</td>\n",
       "      <td>169</td>\n",
       "      <td>24</td>\n",
       "      <td>1</td>\n",
       "      <td>1</td>\n",
       "      <td>1</td>\n",
       "      <td>0</td>\n",
       "      <td>1</td>\n",
       "      <td>0</td>\n",
       "      <td>0</td>\n",
       "      <td>...</td>\n",
       "      <td>0</td>\n",
       "      <td>0</td>\n",
       "      <td>0</td>\n",
       "      <td>0</td>\n",
       "      <td>0</td>\n",
       "      <td>1</td>\n",
       "      <td>0</td>\n",
       "      <td>1</td>\n",
       "      <td>0</td>\n",
       "      <td>0</td>\n",
       "    </tr>\n",
       "    <tr>\n",
       "      <th>2</th>\n",
       "      <td>34</td>\n",
       "      <td>153</td>\n",
       "      <td>14</td>\n",
       "      <td>1</td>\n",
       "      <td>0</td>\n",
       "      <td>0</td>\n",
       "      <td>1</td>\n",
       "      <td>1</td>\n",
       "      <td>0</td>\n",
       "      <td>0</td>\n",
       "      <td>...</td>\n",
       "      <td>0</td>\n",
       "      <td>0</td>\n",
       "      <td>0</td>\n",
       "      <td>0</td>\n",
       "      <td>0</td>\n",
       "      <td>1</td>\n",
       "      <td>0</td>\n",
       "      <td>1</td>\n",
       "      <td>0</td>\n",
       "      <td>0</td>\n",
       "    </tr>\n",
       "    <tr>\n",
       "      <th>3</th>\n",
       "      <td>69</td>\n",
       "      <td>158</td>\n",
       "      <td>27</td>\n",
       "      <td>0</td>\n",
       "      <td>2</td>\n",
       "      <td>0</td>\n",
       "      <td>1</td>\n",
       "      <td>1</td>\n",
       "      <td>0</td>\n",
       "      <td>0</td>\n",
       "      <td>...</td>\n",
       "      <td>0</td>\n",
       "      <td>0</td>\n",
       "      <td>0</td>\n",
       "      <td>0</td>\n",
       "      <td>1</td>\n",
       "      <td>0</td>\n",
       "      <td>0</td>\n",
       "      <td>1</td>\n",
       "      <td>0</td>\n",
       "      <td>0</td>\n",
       "    </tr>\n",
       "    <tr>\n",
       "      <th>4</th>\n",
       "      <td>51</td>\n",
       "      <td>157</td>\n",
       "      <td>20</td>\n",
       "      <td>0</td>\n",
       "      <td>1</td>\n",
       "      <td>0</td>\n",
       "      <td>1</td>\n",
       "      <td>1</td>\n",
       "      <td>0</td>\n",
       "      <td>0</td>\n",
       "      <td>...</td>\n",
       "      <td>0</td>\n",
       "      <td>1</td>\n",
       "      <td>0</td>\n",
       "      <td>0</td>\n",
       "      <td>0</td>\n",
       "      <td>1</td>\n",
       "      <td>0</td>\n",
       "      <td>1</td>\n",
       "      <td>0</td>\n",
       "      <td>0</td>\n",
       "    </tr>\n",
       "  </tbody>\n",
       "</table>\n",
       "<p>5 rows × 27 columns</p>\n",
       "</div>"
      ],
      "text/plain": [
       "   WTKG3  HTM4  _BMI5CAT  DIABETE4  NewBMI  SEXVAR_Laki Laki  \\\n",
       "0     45   155        18         0       1                 0   \n",
       "1     69   169        24         1       1                 1   \n",
       "2     34   153        14         1       0                 0   \n",
       "3     69   158        27         0       2                 0   \n",
       "4     51   157        20         0       1                 0   \n",
       "\n",
       "   SEXVAR_Perempuan  _SMOKER3_Tidak  _SMOKER3_Ya  _SMOKER3_nan  ...  \\\n",
       "0                 1               1            0             0  ...   \n",
       "1                 0               1            0             0  ...   \n",
       "2                 1               1            0             0  ...   \n",
       "3                 1               1            0             0  ...   \n",
       "4                 1               1            0             0  ...   \n",
       "\n",
       "   _AGEG5YR_45 - 49  _AGEG5YR_50 - 54  _AGEG5YR_55 - 59  _AGEG5YR_nan  \\\n",
       "0                 0                 0                 0             0   \n",
       "1                 0                 0                 0             0   \n",
       "2                 0                 0                 0             0   \n",
       "3                 0                 0                 0             0   \n",
       "4                 0                 1                 0             0   \n",
       "\n",
       "   EXERANY2_Tidak  EXERANY2_Ya  EXERANY2_nan  ALCDAY5_Tidak  ALCDAY5_Ya  \\\n",
       "0               0            1             0              1           0   \n",
       "1               0            1             0              1           0   \n",
       "2               0            1             0              1           0   \n",
       "3               1            0             0              1           0   \n",
       "4               0            1             0              1           0   \n",
       "\n",
       "   ALCDAY5_nan  \n",
       "0            0  \n",
       "1            0  \n",
       "2            0  \n",
       "3            0  \n",
       "4            0  \n",
       "\n",
       "[5 rows x 27 columns]"
      ]
     },
     "execution_count": 34,
     "metadata": {},
     "output_type": "execute_result"
    }
   ],
   "source": [
    "clean_df.head()"
   ]
  },
  {
   "cell_type": "markdown",
   "metadata": {},
   "source": [
    "**11. Normalisasi Data Menggunakan Min-Max Scaling**"
   ]
  },
  {
   "cell_type": "code",
   "execution_count": 35,
   "metadata": {},
   "outputs": [],
   "source": [
    "#scaler = MinMaxScaler()"
   ]
  },
  {
   "cell_type": "code",
   "execution_count": 36,
   "metadata": {},
   "outputs": [],
   "source": [
    "#scaler.fit(data)"
   ]
  },
  {
   "cell_type": "code",
   "execution_count": 37,
   "metadata": {},
   "outputs": [],
   "source": [
    "#data_norm = scaler.transform(data)"
   ]
  },
  {
   "cell_type": "markdown",
   "metadata": {},
   "source": [
    "**11. Import Library Yangt Diperlukan Pada Proses K-Fold Cross Validation**"
   ]
  },
  {
   "cell_type": "code",
   "execution_count": 38,
   "metadata": {},
   "outputs": [],
   "source": [
    "from sklearn.model_selection import KFold, cross_val_score\n",
    "from sklearn.datasets import load_digits"
   ]
  },
  {
   "cell_type": "markdown",
   "metadata": {},
   "source": [
    "**12. Konversi Dataframe Menjadi Data Matrix**"
   ]
  },
  {
   "cell_type": "code",
   "execution_count": 39,
   "metadata": {},
   "outputs": [
    {
     "name": "stdout",
     "output_type": "stream",
     "text": [
      "[[ 45 155  18 ...   1   0   0]\n",
      " [ 69 169  24 ...   1   0   0]\n",
      " [ 34 153  14 ...   1   0   0]\n",
      " ...\n",
      " [ 76 172  25 ...   1   0   0]\n",
      " [ 58 149  26 ...   1   0   0]\n",
      " [ 88 148  40 ...   1   0   0]]\n"
     ]
    }
   ],
   "source": [
    "data_matrix = clean_df.values\n",
    "\n",
    "print(data_matrix)"
   ]
  },
  {
   "cell_type": "code",
   "execution_count": 40,
   "metadata": {},
   "outputs": [
    {
     "name": "stdout",
     "output_type": "stream",
     "text": [
      "[[ 45 155  18   0   1   0]\n",
      " [ 69 169  24   1   1   1]\n",
      " [ 34 153  14   1   0   0]\n",
      " [ 69 158  27   0   2   0]\n",
      " [ 51 157  20   0   1   0]\n",
      " [ 62 152  26   0   2   0]\n",
      " [ 38 155  15   0   0   0]\n",
      " [ 53 149  23   0   1   0]\n",
      " [ 54 149  24   1   1   0]\n",
      " [ 54 154  22   0   1   1]\n",
      " [ 65 154  27   0   2   1]\n",
      " [ 61 176  19   1   1   1]\n",
      " [ 41 155  17   1   0   0]\n",
      " [ 61 158  24   1   1   0]\n",
      " [ 54 154  22   1   1   1]\n",
      " [ 68 159  26   0   2   0]\n",
      " [ 73 177  23   0   1   0]\n",
      " [ 43 154  18   0   0   0]\n",
      " [ 73 169  25   1   2   0]\n",
      " [ 68 154  28   0   2   1]\n",
      " [ 50 153  21   0   1   0]\n",
      " [ 49 155  20   0   1   1]\n",
      " [ 40 157  16   1   0   1]\n",
      " [ 51 163  19   0   1   0]\n",
      " [ 71 152  30   1   3   1]\n",
      " [ 67 179  20   0   1   0]\n",
      " [ 62 145  29   1   2   0]\n",
      " [ 59 165  21   0   1   0]\n",
      " [ 41 144  19   1   1   0]\n",
      " [ 48 163  18   1   0   1]\n",
      " [ 42 155  17   1   0   0]\n",
      " [ 73 169  25   1   2   0]\n",
      " [ 74 165  27   0   2   0]\n",
      " [ 45 145  21   0   1   0]\n",
      " [ 55 157  22   0   1   1]\n",
      " [ 77 167  27   0   2   0]\n",
      " [ 63 149  28   0   2   0]\n",
      " [ 54 163  20   1   1   1]\n",
      " [ 56 147  25   1   2   0]\n",
      " [ 56 158  22   1   1   0]\n",
      " [ 74 180  22   0   1   0]\n",
      " [ 48 151  21   0   1   0]\n",
      " [ 65 155  27   0   2   0]\n",
      " [ 54 155  22   0   1   0]\n",
      " [ 73 152  31   0   3   1]\n",
      " [ 56 158  22   1   1   0]\n",
      " [ 66 151  28   0   2   0]\n",
      " [ 63 170  21   0   1   0]\n",
      " [ 49 154  20   0   1   0]\n",
      " [ 40 140  20   0   1   0]\n",
      " [ 71 158  28   1   2   0]\n",
      " [ 57 154  24   0   1   0]\n",
      " [ 57 154  24   0   1   0]\n",
      " [ 66 153  28   0   2   1]\n",
      " [ 55 157  22   0   1   1]\n",
      " [ 57 160  22   0   1   0]\n",
      " [ 62 149  27   0   2   0]\n",
      " [ 70 173  23   0   1   0]\n",
      " [ 53 155  22   0   1   1]\n",
      " [ 58 154  24   0   1   0]\n",
      " [ 46 153  19   0   1   0]\n",
      " [ 59 152  25   0   2   0]\n",
      " [ 60 153  25   0   2   0]\n",
      " [ 67 142  33   0   3   0]\n",
      " [ 54 145  25   0   2   0]\n",
      " [ 82 155  34   1   3   0]\n",
      " [ 68 175  22   0   1   1]\n",
      " [ 75 172  25   0   2   1]\n",
      " [ 57 153  24   0   1   0]\n",
      " [ 56 154  23   0   1   0]\n",
      " [ 64 153  27   0   2   0]\n",
      " [ 76 172  25   0   2   0]\n",
      " [ 58 149  26   0   2   1]\n",
      " [ 88 148  40   0   3   0]]\n"
     ]
    }
   ],
   "source": [
    "data_train = np.array(data_matrix[:, :6])     # Membagi data menjadi Fitur dan Target\n",
    "data_test = np.array(data_matrix[:, 6])\n",
    "\n",
    "print(data_train)"
   ]
  },
  {
   "cell_type": "code",
   "execution_count": 41,
   "metadata": {},
   "outputs": [],
   "source": [
    "cols = clean_df.select_dtypes(include=['object'])\n",
    "for col in cols.columns.values:\n",
    "    clean_df[col] = clean_df[col].fillna('')"
   ]
  },
  {
   "cell_type": "markdown",
   "metadata": {},
   "source": [
    "**13. Train Test Split Data**"
   ]
  },
  {
   "cell_type": "code",
   "execution_count": 42,
   "metadata": {},
   "outputs": [],
   "source": [
    "X_train, X_test, y_train, y_test = train_test_split(data_train, data_test, test_size=0.20)        # Train Test Split Data"
   ]
  },
  {
   "cell_type": "markdown",
   "metadata": {},
   "source": [
    "**14. Menjalankan Validation Menggunakan Metode K-Fold Cross Validation**\n",
    "\n",
    "Iterasi **\"K\"** yang digunakan berjumlah **10**\n",
    "\n",
    "Pada pembuatan model kali ini kami akan membangun lalu **Fit** Model, lalu baru dilakukan Cross Validation agar model yang dibuat lebih optimal."
   ]
  },
  {
   "cell_type": "code",
   "execution_count": 43,
   "metadata": {},
   "outputs": [
    {
     "name": "stdout",
     "output_type": "stream",
     "text": [
      "KFold(n_splits=10, random_state=10, shuffle=True)\n"
     ]
    }
   ],
   "source": [
    "# K-fold cross-validation\n",
    "kf = KFold(n_splits=10, random_state=10, shuffle=True)     # Untuk Objek Fold\n",
    "print(kf)"
   ]
  },
  {
   "cell_type": "code",
   "execution_count": 44,
   "metadata": {},
   "outputs": [],
   "source": [
    "accuracy_val = []       # Menyimpan Hasil Pengukuran Setiap Fold\n",
    "precission_val = []\n",
    "recall_val = []\n",
    "fmeasure_val = []"
   ]
  },
  {
   "cell_type": "code",
   "execution_count": 45,
   "metadata": {},
   "outputs": [],
   "source": [
    "final_test_labels = []  # Menyimpan Fitur dan Target dari keseluruhan Fold\n",
    "final_prediction = []"
   ]
  },
  {
   "cell_type": "markdown",
   "metadata": {},
   "source": [
    "**15. Membangun Model Deep Neural Network**"
   ]
  },
  {
   "cell_type": "markdown",
   "metadata": {},
   "source": [
    "Mengimport Library"
   ]
  },
  {
   "cell_type": "code",
   "execution_count": 46,
   "metadata": {},
   "outputs": [],
   "source": [
    "import tensorflow as tf\n",
    "import tensorflow.keras as keras\n",
    "import tensorflow as tf\n",
    "#import keras\n",
    "import keras.backend as K\n",
    "import keras\n",
    "from keras.models import Model, Sequential, load_model\n",
    "from keras.layers import Dense, Embedding, Dropout, Input, Concatenate"
   ]
  },
  {
   "cell_type": "markdown",
   "metadata": {},
   "source": [
    "Membangun Model"
   ]
  },
  {
   "cell_type": "code",
   "execution_count": 47,
   "metadata": {},
   "outputs": [],
   "source": [
    "model = tf.keras.models.Sequential()"
   ]
  },
  {
   "cell_type": "markdown",
   "metadata": {},
   "source": [
    "Input Layer, Hidden layer dan ReLU Activation Function"
   ]
  },
  {
   "cell_type": "code",
   "execution_count": 48,
   "metadata": {},
   "outputs": [],
   "source": [
    "model = Sequential()\n",
    "model.add(Dense(20,input_dim = 10,activation = 'relu', input_shape=(X_train.shape[1],)))\n",
    "model.add(Dense(20,activation = 'relu'))\n",
    "model.add(Dense(1,activation = 'sigmoid'))"
   ]
  },
  {
   "cell_type": "markdown",
   "metadata": {},
   "source": [
    "Compile Model\n",
    "\n",
    "We are going to use Binary Cross Entropy for the loss function and adam for optimiser."
   ]
  },
  {
   "cell_type": "code",
   "execution_count": 49,
   "metadata": {},
   "outputs": [],
   "source": [
    "model.compile(loss='binary_crossentropy',optimizer='adam',metrics = ['accuracy'])"
   ]
  },
  {
   "cell_type": "markdown",
   "metadata": {},
   "source": [
    "Train Model"
   ]
  },
  {
   "cell_type": "code",
   "execution_count": 50,
   "metadata": {},
   "outputs": [
    {
     "name": "stdout",
     "output_type": "stream",
     "text": [
      "Epoch 1/100\n",
      "6/6 [==============================] - 4s 206ms/step - loss: 2.8187 - accuracy: 0.7627 - val_loss: 3.5565 - val_accuracy: 0.6667\n",
      "Epoch 2/100\n",
      "6/6 [==============================] - 0s 19ms/step - loss: 2.3802 - accuracy: 0.7627 - val_loss: 3.0355 - val_accuracy: 0.6667\n",
      "Epoch 3/100\n",
      "6/6 [==============================] - 0s 17ms/step - loss: 2.0080 - accuracy: 0.7627 - val_loss: 2.5744 - val_accuracy: 0.6667\n",
      "Epoch 4/100\n",
      "6/6 [==============================] - 0s 27ms/step - loss: 1.7390 - accuracy: 0.7627 - val_loss: 2.1790 - val_accuracy: 0.6667\n",
      "Epoch 5/100\n",
      "6/6 [==============================] - 0s 25ms/step - loss: 1.4631 - accuracy: 0.7627 - val_loss: 1.8595 - val_accuracy: 0.6667\n",
      "Epoch 6/100\n",
      "6/6 [==============================] - 0s 27ms/step - loss: 1.2274 - accuracy: 0.7627 - val_loss: 1.5571 - val_accuracy: 0.6667\n",
      "Epoch 7/100\n",
      "6/6 [==============================] - 0s 31ms/step - loss: 1.0402 - accuracy: 0.7627 - val_loss: 1.2472 - val_accuracy: 0.6667\n",
      "Epoch 8/100\n",
      "6/6 [==============================] - 0s 23ms/step - loss: 0.8076 - accuracy: 0.7627 - val_loss: 0.9923 - val_accuracy: 0.6667\n",
      "Epoch 9/100\n",
      "6/6 [==============================] - 0s 19ms/step - loss: 0.6762 - accuracy: 0.7627 - val_loss: 0.7720 - val_accuracy: 0.6667\n",
      "Epoch 10/100\n",
      "6/6 [==============================] - 0s 27ms/step - loss: 0.5710 - accuracy: 0.7627 - val_loss: 0.6613 - val_accuracy: 0.6667\n",
      "Epoch 11/100\n",
      "6/6 [==============================] - 0s 20ms/step - loss: 0.5555 - accuracy: 0.7627 - val_loss: 0.6248 - val_accuracy: 0.6667\n",
      "Epoch 12/100\n",
      "6/6 [==============================] - 0s 26ms/step - loss: 0.5612 - accuracy: 0.7627 - val_loss: 0.6259 - val_accuracy: 0.6667\n",
      "Epoch 13/100\n",
      "6/6 [==============================] - 0s 26ms/step - loss: 0.5356 - accuracy: 0.7627 - val_loss: 0.6562 - val_accuracy: 0.6667\n",
      "Epoch 14/100\n",
      "6/6 [==============================] - 0s 45ms/step - loss: 0.5545 - accuracy: 0.7627 - val_loss: 0.6260 - val_accuracy: 0.6667\n",
      "Epoch 15/100\n",
      "6/6 [==============================] - 0s 42ms/step - loss: 0.5411 - accuracy: 0.7627 - val_loss: 0.6314 - val_accuracy: 0.6667\n",
      "Epoch 16/100\n",
      "6/6 [==============================] - 0s 30ms/step - loss: 0.5540 - accuracy: 0.7627 - val_loss: 0.6393 - val_accuracy: 0.6667\n",
      "Epoch 17/100\n",
      "6/6 [==============================] - 0s 19ms/step - loss: 0.5559 - accuracy: 0.7627 - val_loss: 0.6555 - val_accuracy: 0.6667\n",
      "Epoch 18/100\n",
      "6/6 [==============================] - 0s 28ms/step - loss: 0.5513 - accuracy: 0.7627 - val_loss: 0.6584 - val_accuracy: 0.6667\n",
      "Epoch 19/100\n",
      "6/6 [==============================] - 0s 95ms/step - loss: 0.5505 - accuracy: 0.7627 - val_loss: 0.6531 - val_accuracy: 0.6667\n",
      "Epoch 20/100\n",
      "6/6 [==============================] - 0s 41ms/step - loss: 0.5554 - accuracy: 0.7627 - val_loss: 0.6612 - val_accuracy: 0.6667\n",
      "Epoch 21/100\n",
      "6/6 [==============================] - 0s 27ms/step - loss: 0.5495 - accuracy: 0.7627 - val_loss: 0.6542 - val_accuracy: 0.6667\n",
      "Epoch 22/100\n",
      "6/6 [==============================] - 0s 63ms/step - loss: 0.5509 - accuracy: 0.7627 - val_loss: 0.6430 - val_accuracy: 0.6667\n",
      "Epoch 23/100\n",
      "1/6 [====>.........................] - ETA: 0s - loss: 0.6093 - accuracy: 0.7000"
     ]
    },
    {
     "name": "stdout",
     "output_type": "stream",
     "text": [
      "6/6 [==============================] - 0s 29ms/step - loss: 0.5507 - accuracy: 0.7627 - val_loss: 0.6424 - val_accuracy: 0.6667\n",
      "Epoch 24/100\n",
      "6/6 [==============================] - 0s 60ms/step - loss: 0.5529 - accuracy: 0.7627 - val_loss: 0.6491 - val_accuracy: 0.6667\n",
      "Epoch 25/100\n",
      "6/6 [==============================] - 0s 43ms/step - loss: 0.5494 - accuracy: 0.7627 - val_loss: 0.6501 - val_accuracy: 0.6667\n",
      "Epoch 26/100\n",
      "6/6 [==============================] - 0s 39ms/step - loss: 0.5531 - accuracy: 0.7627 - val_loss: 0.6549 - val_accuracy: 0.6667\n",
      "Epoch 27/100\n",
      "6/6 [==============================] - 0s 32ms/step - loss: 0.5489 - accuracy: 0.7627 - val_loss: 0.6499 - val_accuracy: 0.6667\n",
      "Epoch 28/100\n",
      "6/6 [==============================] - 0s 27ms/step - loss: 0.5486 - accuracy: 0.7627 - val_loss: 0.6440 - val_accuracy: 0.6667\n",
      "Epoch 29/100\n",
      "6/6 [==============================] - 0s 21ms/step - loss: 0.5512 - accuracy: 0.7627 - val_loss: 0.6458 - val_accuracy: 0.6667\n",
      "Epoch 30/100\n",
      "6/6 [==============================] - 0s 24ms/step - loss: 0.5514 - accuracy: 0.7627 - val_loss: 0.6466 - val_accuracy: 0.6667\n",
      "Epoch 31/100\n",
      "6/6 [==============================] - 0s 47ms/step - loss: 0.5520 - accuracy: 0.7627 - val_loss: 0.6468 - val_accuracy: 0.6667\n",
      "Epoch 32/100\n",
      "6/6 [==============================] - 0s 29ms/step - loss: 0.5597 - accuracy: 0.7627 - val_loss: 0.6672 - val_accuracy: 0.6667\n",
      "Epoch 33/100\n",
      "6/6 [==============================] - 0s 21ms/step - loss: 0.5526 - accuracy: 0.7627 - val_loss: 0.6679 - val_accuracy: 0.6667\n",
      "Epoch 34/100\n",
      "6/6 [==============================] - 0s 21ms/step - loss: 0.5503 - accuracy: 0.7627 - val_loss: 0.6552 - val_accuracy: 0.6667\n",
      "Epoch 35/100\n",
      "6/6 [==============================] - 0s 21ms/step - loss: 0.5507 - accuracy: 0.7627 - val_loss: 0.6472 - val_accuracy: 0.6667\n",
      "Epoch 36/100\n",
      "6/6 [==============================] - 0s 19ms/step - loss: 0.5504 - accuracy: 0.7627 - val_loss: 0.6474 - val_accuracy: 0.6667\n",
      "Epoch 37/100\n",
      "6/6 [==============================] - 0s 21ms/step - loss: 0.5532 - accuracy: 0.7627 - val_loss: 0.6562 - val_accuracy: 0.6667\n",
      "Epoch 38/100\n",
      "6/6 [==============================] - 0s 19ms/step - loss: 0.5497 - accuracy: 0.7627 - val_loss: 0.6566 - val_accuracy: 0.6667\n",
      "Epoch 39/100\n",
      "6/6 [==============================] - 0s 18ms/step - loss: 0.5528 - accuracy: 0.7627 - val_loss: 0.6465 - val_accuracy: 0.6667\n",
      "Epoch 40/100\n",
      "6/6 [==============================] - 0s 19ms/step - loss: 0.5503 - accuracy: 0.7627 - val_loss: 0.6518 - val_accuracy: 0.6667\n",
      "Epoch 41/100\n",
      "6/6 [==============================] - 0s 20ms/step - loss: 0.5502 - accuracy: 0.7627 - val_loss: 0.6559 - val_accuracy: 0.6667\n",
      "Epoch 42/100\n",
      "6/6 [==============================] - 0s 26ms/step - loss: 0.5500 - accuracy: 0.7627 - val_loss: 0.6569 - val_accuracy: 0.6667\n",
      "Epoch 43/100\n",
      "6/6 [==============================] - 0s 17ms/step - loss: 0.5542 - accuracy: 0.7627 - val_loss: 0.6457 - val_accuracy: 0.6667\n",
      "Epoch 44/100\n",
      "6/6 [==============================] - 0s 21ms/step - loss: 0.5521 - accuracy: 0.7627 - val_loss: 0.6572 - val_accuracy: 0.6667\n",
      "Epoch 45/100\n",
      "6/6 [==============================] - 0s 21ms/step - loss: 0.5489 - accuracy: 0.7627 - val_loss: 0.6554 - val_accuracy: 0.6667\n",
      "Epoch 46/100\n",
      "6/6 [==============================] - 0s 18ms/step - loss: 0.5575 - accuracy: 0.7627 - val_loss: 0.6424 - val_accuracy: 0.6667\n",
      "Epoch 47/100\n",
      "6/6 [==============================] - 0s 23ms/step - loss: 0.5496 - accuracy: 0.7627 - val_loss: 0.6518 - val_accuracy: 0.6667\n",
      "Epoch 48/100\n",
      "6/6 [==============================] - 0s 19ms/step - loss: 0.5486 - accuracy: 0.7627 - val_loss: 0.6530 - val_accuracy: 0.6667\n",
      "Epoch 49/100\n",
      "6/6 [==============================] - 0s 20ms/step - loss: 0.5478 - accuracy: 0.7627 - val_loss: 0.6568 - val_accuracy: 0.6667\n",
      "Epoch 50/100\n",
      "6/6 [==============================] - 0s 18ms/step - loss: 0.5498 - accuracy: 0.7627 - val_loss: 0.6610 - val_accuracy: 0.6667\n",
      "Epoch 51/100\n",
      "6/6 [==============================] - 0s 19ms/step - loss: 0.5487 - accuracy: 0.7627 - val_loss: 0.6566 - val_accuracy: 0.6667\n",
      "Epoch 52/100\n",
      "6/6 [==============================] - 0s 20ms/step - loss: 0.5484 - accuracy: 0.7627 - val_loss: 0.6521 - val_accuracy: 0.6667\n",
      "Epoch 53/100\n",
      "6/6 [==============================] - 0s 35ms/step - loss: 0.5479 - accuracy: 0.7627 - val_loss: 0.6535 - val_accuracy: 0.6667\n",
      "Epoch 54/100\n",
      "6/6 [==============================] - 0s 15ms/step - loss: 0.5486 - accuracy: 0.7627 - val_loss: 0.6502 - val_accuracy: 0.6667\n",
      "Epoch 55/100\n",
      "6/6 [==============================] - 0s 17ms/step - loss: 0.5477 - accuracy: 0.7627 - val_loss: 0.6495 - val_accuracy: 0.6667\n",
      "Epoch 56/100\n",
      "6/6 [==============================] - 0s 18ms/step - loss: 0.5496 - accuracy: 0.7627 - val_loss: 0.6567 - val_accuracy: 0.6667\n",
      "Epoch 57/100\n",
      "6/6 [==============================] - 0s 26ms/step - loss: 0.5474 - accuracy: 0.7627 - val_loss: 0.6546 - val_accuracy: 0.6667\n",
      "Epoch 58/100\n",
      "6/6 [==============================] - 0s 20ms/step - loss: 0.5476 - accuracy: 0.7627 - val_loss: 0.6490 - val_accuracy: 0.6667\n",
      "Epoch 59/100\n",
      "6/6 [==============================] - 0s 24ms/step - loss: 0.5491 - accuracy: 0.7627 - val_loss: 0.6447 - val_accuracy: 0.6667\n",
      "Epoch 60/100\n",
      "6/6 [==============================] - 0s 24ms/step - loss: 0.5488 - accuracy: 0.7627 - val_loss: 0.6530 - val_accuracy: 0.6667\n",
      "Epoch 61/100\n",
      "6/6 [==============================] - 0s 30ms/step - loss: 0.5474 - accuracy: 0.7627 - val_loss: 0.6534 - val_accuracy: 0.6667\n",
      "Epoch 62/100\n",
      "6/6 [==============================] - 0s 21ms/step - loss: 0.5494 - accuracy: 0.7627 - val_loss: 0.6460 - val_accuracy: 0.6667\n",
      "Epoch 63/100\n",
      "6/6 [==============================] - 0s 44ms/step - loss: 0.5467 - accuracy: 0.7627 - val_loss: 0.6501 - val_accuracy: 0.6667\n",
      "Epoch 64/100\n",
      "6/6 [==============================] - 0s 33ms/step - loss: 0.5495 - accuracy: 0.7627 - val_loss: 0.6617 - val_accuracy: 0.6667\n",
      "Epoch 65/100\n",
      "6/6 [==============================] - 0s 55ms/step - loss: 0.5489 - accuracy: 0.7627 - val_loss: 0.6504 - val_accuracy: 0.6667\n",
      "Epoch 66/100\n",
      "6/6 [==============================] - 0s 25ms/step - loss: 0.5478 - accuracy: 0.7627 - val_loss: 0.6456 - val_accuracy: 0.6667\n",
      "Epoch 67/100\n",
      "6/6 [==============================] - 0s 20ms/step - loss: 0.5481 - accuracy: 0.7627 - val_loss: 0.6522 - val_accuracy: 0.6667\n",
      "Epoch 68/100\n",
      "6/6 [==============================] - 0s 19ms/step - loss: 0.5496 - accuracy: 0.7627 - val_loss: 0.6585 - val_accuracy: 0.6667\n",
      "Epoch 69/100\n",
      "6/6 [==============================] - 0s 22ms/step - loss: 0.5469 - accuracy: 0.7627 - val_loss: 0.6486 - val_accuracy: 0.6667\n",
      "Epoch 70/100\n",
      "6/6 [==============================] - 0s 28ms/step - loss: 0.5462 - accuracy: 0.7627 - val_loss: 0.6472 - val_accuracy: 0.6667\n",
      "Epoch 71/100\n",
      "6/6 [==============================] - 0s 43ms/step - loss: 0.5472 - accuracy: 0.7627 - val_loss: 0.6437 - val_accuracy: 0.6667\n",
      "Epoch 72/100\n",
      "6/6 [==============================] - 0s 32ms/step - loss: 0.5468 - accuracy: 0.7627 - val_loss: 0.6480 - val_accuracy: 0.6667\n",
      "Epoch 73/100\n",
      "6/6 [==============================] - 1s 123ms/step - loss: 0.5490 - accuracy: 0.7627 - val_loss: 0.6538 - val_accuracy: 0.6667\n",
      "Epoch 74/100\n",
      "6/6 [==============================] - 0s 53ms/step - loss: 0.5516 - accuracy: 0.7627 - val_loss: 0.6590 - val_accuracy: 0.6667\n",
      "Epoch 75/100\n",
      "6/6 [==============================] - 1s 110ms/step - loss: 0.5461 - accuracy: 0.7627 - val_loss: 0.6461 - val_accuracy: 0.6667\n",
      "Epoch 76/100\n",
      "6/6 [==============================] - 0s 26ms/step - loss: 0.5461 - accuracy: 0.7627 - val_loss: 0.6444 - val_accuracy: 0.6667\n",
      "Epoch 77/100\n",
      "6/6 [==============================] - 0s 36ms/step - loss: 0.5469 - accuracy: 0.7627 - val_loss: 0.6462 - val_accuracy: 0.6667\n",
      "Epoch 78/100\n",
      "6/6 [==============================] - 0s 74ms/step - loss: 0.5525 - accuracy: 0.7627 - val_loss: 0.6337 - val_accuracy: 0.6667\n",
      "Epoch 79/100\n",
      "6/6 [==============================] - 0s 33ms/step - loss: 0.5466 - accuracy: 0.7627 - val_loss: 0.6433 - val_accuracy: 0.6667\n",
      "Epoch 80/100\n",
      "6/6 [==============================] - 0s 36ms/step - loss: 0.5475 - accuracy: 0.7627 - val_loss: 0.6575 - val_accuracy: 0.6667\n",
      "Epoch 81/100\n",
      "6/6 [==============================] - 0s 77ms/step - loss: 0.5462 - accuracy: 0.7627 - val_loss: 0.6510 - val_accuracy: 0.6667\n",
      "Epoch 82/100\n",
      "6/6 [==============================] - 0s 49ms/step - loss: 0.5517 - accuracy: 0.7627 - val_loss: 0.6392 - val_accuracy: 0.6667\n",
      "Epoch 83/100\n",
      "6/6 [==============================] - 0s 31ms/step - loss: 0.5461 - accuracy: 0.7627 - val_loss: 0.6533 - val_accuracy: 0.6667\n",
      "Epoch 84/100\n",
      "6/6 [==============================] - 0s 61ms/step - loss: 0.5455 - accuracy: 0.7627 - val_loss: 0.6589 - val_accuracy: 0.6667\n",
      "Epoch 85/100\n",
      "6/6 [==============================] - 0s 72ms/step - loss: 0.5514 - accuracy: 0.7627 - val_loss: 0.6429 - val_accuracy: 0.6667\n",
      "Epoch 86/100\n",
      "6/6 [==============================] - 0s 46ms/step - loss: 0.5447 - accuracy: 0.7627 - val_loss: 0.6460 - val_accuracy: 0.6667\n",
      "Epoch 87/100\n",
      "6/6 [==============================] - 0s 53ms/step - loss: 0.5446 - accuracy: 0.7627 - val_loss: 0.6452 - val_accuracy: 0.6667\n",
      "Epoch 88/100\n",
      "6/6 [==============================] - 0s 33ms/step - loss: 0.5463 - accuracy: 0.7627 - val_loss: 0.6488 - val_accuracy: 0.6667\n",
      "Epoch 89/100\n",
      "6/6 [==============================] - 0s 34ms/step - loss: 0.5437 - accuracy: 0.7627 - val_loss: 0.6527 - val_accuracy: 0.6667\n",
      "Epoch 90/100\n",
      "6/6 [==============================] - 0s 75ms/step - loss: 0.5446 - accuracy: 0.7627 - val_loss: 0.6495 - val_accuracy: 0.6667\n",
      "Epoch 91/100\n",
      "6/6 [==============================] - 1s 110ms/step - loss: 0.5436 - accuracy: 0.7627 - val_loss: 0.6471 - val_accuracy: 0.6667\n",
      "Epoch 92/100\n",
      "6/6 [==============================] - 0s 75ms/step - loss: 0.5442 - accuracy: 0.7627 - val_loss: 0.6496 - val_accuracy: 0.6667\n",
      "Epoch 93/100\n",
      "6/6 [==============================] - 0s 80ms/step - loss: 0.5426 - accuracy: 0.7627 - val_loss: 0.6453 - val_accuracy: 0.6667\n",
      "Epoch 94/100\n",
      "6/6 [==============================] - 0s 48ms/step - loss: 0.5440 - accuracy: 0.7627 - val_loss: 0.6406 - val_accuracy: 0.6667\n",
      "Epoch 95/100\n",
      "6/6 [==============================] - 0s 38ms/step - loss: 0.5429 - accuracy: 0.7627 - val_loss: 0.6420 - val_accuracy: 0.6667\n",
      "Epoch 96/100\n",
      "6/6 [==============================] - 0s 24ms/step - loss: 0.5440 - accuracy: 0.7627 - val_loss: 0.6398 - val_accuracy: 0.6667\n",
      "Epoch 97/100\n",
      "6/6 [==============================] - 0s 25ms/step - loss: 0.5423 - accuracy: 0.7627 - val_loss: 0.6418 - val_accuracy: 0.6667\n",
      "Epoch 98/100\n",
      "6/6 [==============================] - 0s 24ms/step - loss: 0.5430 - accuracy: 0.7627 - val_loss: 0.6429 - val_accuracy: 0.6667\n",
      "Epoch 99/100\n",
      "6/6 [==============================] - 0s 30ms/step - loss: 0.5482 - accuracy: 0.7627 - val_loss: 0.6413 - val_accuracy: 0.6667\n",
      "Epoch 100/100\n",
      "6/6 [==============================] - 0s 35ms/step - loss: 0.5432 - accuracy: 0.7627 - val_loss: 0.6531 - val_accuracy: 0.6667\n"
     ]
    },
    {
     "data": {
      "text/plain": [
       "<keras.callbacks.History at 0x26d25156a50>"
      ]
     },
     "execution_count": 50,
     "metadata": {},
     "output_type": "execute_result"
    }
   ],
   "source": [
    "epochs = 100\n",
    "batch_size = 10\n",
    "model.fit(X_train, y_train, epochs=epochs, batch_size=batch_size, validation_data=(X_test, y_test))"
   ]
  },
  {
   "cell_type": "code",
   "execution_count": 51,
   "metadata": {},
   "outputs": [
    {
     "name": "stdout",
     "output_type": "stream",
     "text": [
      "2/2 [==============================] - 0s 12ms/step - loss: 0.5420 - accuracy: 0.7627\n",
      "Akurasi Model: 76.27\n"
     ]
    }
   ],
   "source": [
    "_, accuracy = model.evaluate(X_train, y_train)\n",
    "print('Akurasi Model: %.2f' % (accuracy*100))"
   ]
  },
  {
   "cell_type": "markdown",
   "metadata": {},
   "source": [
    "**1-. Hyperparameter Tuning**"
   ]
  }
 ],
 "metadata": {
  "kernelspec": {
   "display_name": "Python 3",
   "language": "python",
   "name": "python3"
  },
  "language_info": {
   "codemirror_mode": {
    "name": "ipython",
    "version": 3
   },
   "file_extension": ".py",
   "mimetype": "text/x-python",
   "name": "python",
   "nbconvert_exporter": "python",
   "pygments_lexer": "ipython3",
   "version": "3.11.5"
  },
  "orig_nbformat": 4
 },
 "nbformat": 4,
 "nbformat_minor": 2
}
