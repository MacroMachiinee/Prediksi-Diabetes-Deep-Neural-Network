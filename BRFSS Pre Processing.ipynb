{
 "cells": [
  {
   "cell_type": "markdown",
   "metadata": {},
   "source": [
    "# Prediksi Diabetes Menggunakan Machine Learning Deep Neural Network\n",
    "\n",
    "Diabetes adalah penyakit kronis yang ditandai dengan tingginya kadar gula darah. Gula darah adalah sumber energi utama bagi sel tubuh manusia. Akan tetapi, pada penderita diabetes, glukosa tersebut tidak dapat digunakan oleh tubuh.\n",
    "\n",
    "Kadar gula darah dikendalikan oleh hormon insulin yang diproduksi pankreas. Namun, pada penderita diabetes, pankreas tidak mampu memproduksi insulin sesuai kebutuhan tubuh. Tanpa insulin, sel-sel tubuh tidak dapat menyerap dan mengolah glukosa menjadi energi.\n",
    "\n",
    "Ada dua jenis diabetes, yaitu diabetes tipe 1 dan diabetes tipe 2. Diabetes tipe 1 adalah penyakit autoimun yang menyebabkan sistem kekebalan tubuh menyerang dan menghancurkan sel-sel penghasil insulin di pankreas. Diabetes tipe 2 adalah penyakit yang disebabkan oleh kombinasi faktor genetik, gaya hidup, dan obesitas.\n",
    "\n",
    "Dataset ini berasal dari POSBINDU Puskesmas Mergangsan. Tujuan dari kumpulan data ini adalah untuk memprediksi secara diagnostik apakah pasien menderita diabetes atau tidak, berdasarkan pengukuran diagnostik tertentu yang disertakan dalam kumpulan data. Beberapa batasan ditempatkan pada pemilihan contoh-contoh ini dari basis data yang lebih besar.\n",
    "\n",
    "## Tujuan\n",
    "Peneliti membangun model pembelajaran mesin untuk memprediksi secara akurat apakah pasien dalam dataset tersebut mengidap diabetes atau tidak?\n",
    "\n",
    "## Detail tentang dataset:\n",
    "\n",
    "- **SEXVAR**: Jenis Kelamin\n",
    "- **EDUCA**: Pendidikan Terakhir\n",
    "- **EMPLOY1**: Status Bekerja\n",
    "- **_SMOKER3**: Merokok\n",
    "- **WTKG3**: Berat Badan\n",
    "- **HTM4**: Tinggi Badan\n",
    "- **DIABETE4**: Status Diabetes\n",
    "- **BPHIGH6**: Status Hipertensi / Tekanan Darah Tinggi\n",
    "- **_AGEG5YR**: Usia\n",
    "- **EXERANY2**: Aktivitas Fisik\n",
    "- **ALCDAY5**: Konsumsi Alkohol\n",
    "\n",
    "**Jumlah Unit Observasi: 100**\n",
    "\n",
    "**Jumlah Variabel: 11**\n",
    "\n",
    "-----------------------------------------------------------------------------------------------------------"
   ]
  },
  {
   "cell_type": "markdown",
   "metadata": {},
   "source": [
    "**1. Import Library** \n",
    "\n",
    "   Untuk Running Pre-Processing Model perlu menampilkan beberapa library yang digunakan pada permodelan ini"
   ]
  },
  {
   "cell_type": "code",
   "execution_count": 32,
   "metadata": {},
   "outputs": [],
   "source": [
    "import pandas as pd\n",
    "import numpy as np\n",
    "import matplotlib.pyplot as plt\n",
    "import seaborn as sns\n",
    "\n",
    "from numpy import loadtxt\n",
    "\n",
    "from sklearn.preprocessing import scale\n",
    "from sklearn.metrics import accuracy_score\n",
    "from sklearn.model_selection import train_test_split\n",
    "from sklearn.neighbors import  LocalOutlierFactor\n",
    "from sklearn.preprocessing import StandardScaler\n",
    "from sklearn.model_selection import train_test_split\n",
    "\n",
    "import warnings\n",
    "warnings.filterwarnings('ignore')\n",
    "\n",
    "%matplotlib inline\n",
    "sns.set(color_codes=True)"
   ]
  },
  {
   "cell_type": "markdown",
   "metadata": {},
   "source": [
    "**2. Import Dataset**\n",
    "\n",
    "Menampilkan dataset kedalam Dataframe"
   ]
  },
  {
   "cell_type": "code",
   "execution_count": 33,
   "metadata": {},
   "outputs": [
    {
     "data": {
      "text/html": [
       "<div>\n",
       "<style scoped>\n",
       "    .dataframe tbody tr th:only-of-type {\n",
       "        vertical-align: middle;\n",
       "    }\n",
       "\n",
       "    .dataframe tbody tr th {\n",
       "        vertical-align: top;\n",
       "    }\n",
       "\n",
       "    .dataframe thead th {\n",
       "        text-align: right;\n",
       "    }\n",
       "</style>\n",
       "<table border=\"1\" class=\"dataframe\">\n",
       "  <thead>\n",
       "    <tr style=\"text-align: right;\">\n",
       "      <th></th>\n",
       "      <th>_STATE</th>\n",
       "      <th>FMONTH</th>\n",
       "      <th>IDATE</th>\n",
       "      <th>IMONTH</th>\n",
       "      <th>IDAY</th>\n",
       "      <th>IYEAR</th>\n",
       "      <th>DISPCODE</th>\n",
       "      <th>SEQNO</th>\n",
       "      <th>_PSU</th>\n",
       "      <th>CTELENM1</th>\n",
       "      <th>...</th>\n",
       "      <th>_FRTRES1</th>\n",
       "      <th>_VEGRES1</th>\n",
       "      <th>_FRUTSU1</th>\n",
       "      <th>_VEGESU1</th>\n",
       "      <th>_FRTLT1A</th>\n",
       "      <th>_VEGLT1A</th>\n",
       "      <th>_FRT16A</th>\n",
       "      <th>_VEG23A</th>\n",
       "      <th>_FRUITE1</th>\n",
       "      <th>_VEGETE1</th>\n",
       "    </tr>\n",
       "  </thead>\n",
       "  <tbody>\n",
       "    <tr>\n",
       "      <th>0</th>\n",
       "      <td>1.0</td>\n",
       "      <td>1.0</td>\n",
       "      <td>b'01192021'</td>\n",
       "      <td>b'01'</td>\n",
       "      <td>b'19'</td>\n",
       "      <td>b'2021'</td>\n",
       "      <td>1100.0</td>\n",
       "      <td>b'2021000001'</td>\n",
       "      <td>2.021000e+09</td>\n",
       "      <td>1.0</td>\n",
       "      <td>...</td>\n",
       "      <td>1.0</td>\n",
       "      <td>1.0</td>\n",
       "      <td>100.0</td>\n",
       "      <td>214.0</td>\n",
       "      <td>1.0</td>\n",
       "      <td>1.0</td>\n",
       "      <td>1.0</td>\n",
       "      <td>1.0</td>\n",
       "      <td>5.397605e-79</td>\n",
       "      <td>5.397605e-79</td>\n",
       "    </tr>\n",
       "    <tr>\n",
       "      <th>1</th>\n",
       "      <td>1.0</td>\n",
       "      <td>1.0</td>\n",
       "      <td>b'01212021'</td>\n",
       "      <td>b'01'</td>\n",
       "      <td>b'21'</td>\n",
       "      <td>b'2021'</td>\n",
       "      <td>1100.0</td>\n",
       "      <td>b'2021000002'</td>\n",
       "      <td>2.021000e+09</td>\n",
       "      <td>1.0</td>\n",
       "      <td>...</td>\n",
       "      <td>1.0</td>\n",
       "      <td>1.0</td>\n",
       "      <td>100.0</td>\n",
       "      <td>128.0</td>\n",
       "      <td>1.0</td>\n",
       "      <td>1.0</td>\n",
       "      <td>1.0</td>\n",
       "      <td>1.0</td>\n",
       "      <td>5.397605e-79</td>\n",
       "      <td>5.397605e-79</td>\n",
       "    </tr>\n",
       "    <tr>\n",
       "      <th>2</th>\n",
       "      <td>1.0</td>\n",
       "      <td>1.0</td>\n",
       "      <td>b'01212021'</td>\n",
       "      <td>b'01'</td>\n",
       "      <td>b'21'</td>\n",
       "      <td>b'2021'</td>\n",
       "      <td>1100.0</td>\n",
       "      <td>b'2021000003'</td>\n",
       "      <td>2.021000e+09</td>\n",
       "      <td>1.0</td>\n",
       "      <td>...</td>\n",
       "      <td>1.0</td>\n",
       "      <td>1.0</td>\n",
       "      <td>100.0</td>\n",
       "      <td>71.0</td>\n",
       "      <td>1.0</td>\n",
       "      <td>2.0</td>\n",
       "      <td>1.0</td>\n",
       "      <td>1.0</td>\n",
       "      <td>5.397605e-79</td>\n",
       "      <td>5.397605e-79</td>\n",
       "    </tr>\n",
       "    <tr>\n",
       "      <th>3</th>\n",
       "      <td>1.0</td>\n",
       "      <td>1.0</td>\n",
       "      <td>b'01172021'</td>\n",
       "      <td>b'01'</td>\n",
       "      <td>b'17'</td>\n",
       "      <td>b'2021'</td>\n",
       "      <td>1100.0</td>\n",
       "      <td>b'2021000004'</td>\n",
       "      <td>2.021000e+09</td>\n",
       "      <td>1.0</td>\n",
       "      <td>...</td>\n",
       "      <td>1.0</td>\n",
       "      <td>1.0</td>\n",
       "      <td>114.0</td>\n",
       "      <td>165.0</td>\n",
       "      <td>1.0</td>\n",
       "      <td>1.0</td>\n",
       "      <td>1.0</td>\n",
       "      <td>1.0</td>\n",
       "      <td>5.397605e-79</td>\n",
       "      <td>5.397605e-79</td>\n",
       "    </tr>\n",
       "    <tr>\n",
       "      <th>4</th>\n",
       "      <td>1.0</td>\n",
       "      <td>1.0</td>\n",
       "      <td>b'01152021'</td>\n",
       "      <td>b'01'</td>\n",
       "      <td>b'15'</td>\n",
       "      <td>b'2021'</td>\n",
       "      <td>1100.0</td>\n",
       "      <td>b'2021000005'</td>\n",
       "      <td>2.021000e+09</td>\n",
       "      <td>1.0</td>\n",
       "      <td>...</td>\n",
       "      <td>1.0</td>\n",
       "      <td>1.0</td>\n",
       "      <td>100.0</td>\n",
       "      <td>258.0</td>\n",
       "      <td>1.0</td>\n",
       "      <td>1.0</td>\n",
       "      <td>1.0</td>\n",
       "      <td>1.0</td>\n",
       "      <td>5.397605e-79</td>\n",
       "      <td>5.397605e-79</td>\n",
       "    </tr>\n",
       "  </tbody>\n",
       "</table>\n",
       "<p>5 rows × 303 columns</p>\n",
       "</div>"
      ],
      "text/plain": [
       "   _STATE  FMONTH        IDATE IMONTH   IDAY    IYEAR  DISPCODE  \\\n",
       "0     1.0     1.0  b'01192021'  b'01'  b'19'  b'2021'    1100.0   \n",
       "1     1.0     1.0  b'01212021'  b'01'  b'21'  b'2021'    1100.0   \n",
       "2     1.0     1.0  b'01212021'  b'01'  b'21'  b'2021'    1100.0   \n",
       "3     1.0     1.0  b'01172021'  b'01'  b'17'  b'2021'    1100.0   \n",
       "4     1.0     1.0  b'01152021'  b'01'  b'15'  b'2021'    1100.0   \n",
       "\n",
       "           SEQNO          _PSU  CTELENM1  ...  _FRTRES1  _VEGRES1  _FRUTSU1  \\\n",
       "0  b'2021000001'  2.021000e+09       1.0  ...       1.0       1.0     100.0   \n",
       "1  b'2021000002'  2.021000e+09       1.0  ...       1.0       1.0     100.0   \n",
       "2  b'2021000003'  2.021000e+09       1.0  ...       1.0       1.0     100.0   \n",
       "3  b'2021000004'  2.021000e+09       1.0  ...       1.0       1.0     114.0   \n",
       "4  b'2021000005'  2.021000e+09       1.0  ...       1.0       1.0     100.0   \n",
       "\n",
       "   _VEGESU1  _FRTLT1A  _VEGLT1A  _FRT16A  _VEG23A      _FRUITE1      _VEGETE1  \n",
       "0     214.0       1.0       1.0      1.0      1.0  5.397605e-79  5.397605e-79  \n",
       "1     128.0       1.0       1.0      1.0      1.0  5.397605e-79  5.397605e-79  \n",
       "2      71.0       1.0       2.0      1.0      1.0  5.397605e-79  5.397605e-79  \n",
       "3     165.0       1.0       1.0      1.0      1.0  5.397605e-79  5.397605e-79  \n",
       "4     258.0       1.0       1.0      1.0      1.0  5.397605e-79  5.397605e-79  \n",
       "\n",
       "[5 rows x 303 columns]"
      ]
     },
     "execution_count": 33,
     "metadata": {},
     "output_type": "execute_result"
    }
   ],
   "source": [
    "df = pd.read_sas('D:\\- Skripsi -\\SC DATA\\BRFSS DATASET\\LLCP2021.XPT')\n",
    "df.head(5)    # menampilkan data teratas"
   ]
  },
  {
   "cell_type": "code",
   "execution_count": 34,
   "metadata": {},
   "outputs": [
    {
     "data": {
      "text/html": [
       "<div>\n",
       "<style scoped>\n",
       "    .dataframe tbody tr th:only-of-type {\n",
       "        vertical-align: middle;\n",
       "    }\n",
       "\n",
       "    .dataframe tbody tr th {\n",
       "        vertical-align: top;\n",
       "    }\n",
       "\n",
       "    .dataframe thead th {\n",
       "        text-align: right;\n",
       "    }\n",
       "</style>\n",
       "<table border=\"1\" class=\"dataframe\">\n",
       "  <thead>\n",
       "    <tr style=\"text-align: right;\">\n",
       "      <th></th>\n",
       "      <th>_STATE</th>\n",
       "      <th>FMONTH</th>\n",
       "      <th>IDATE</th>\n",
       "      <th>IMONTH</th>\n",
       "      <th>IDAY</th>\n",
       "      <th>IYEAR</th>\n",
       "      <th>DISPCODE</th>\n",
       "      <th>SEQNO</th>\n",
       "      <th>_PSU</th>\n",
       "      <th>CTELENM1</th>\n",
       "      <th>...</th>\n",
       "      <th>_FRTRES1</th>\n",
       "      <th>_VEGRES1</th>\n",
       "      <th>_FRUTSU1</th>\n",
       "      <th>_VEGESU1</th>\n",
       "      <th>_FRTLT1A</th>\n",
       "      <th>_VEGLT1A</th>\n",
       "      <th>_FRT16A</th>\n",
       "      <th>_VEG23A</th>\n",
       "      <th>_FRUITE1</th>\n",
       "      <th>_VEGETE1</th>\n",
       "    </tr>\n",
       "  </thead>\n",
       "  <tbody>\n",
       "    <tr>\n",
       "      <th>438688</th>\n",
       "      <td>78.0</td>\n",
       "      <td>12.0</td>\n",
       "      <td>b'01062022'</td>\n",
       "      <td>b'01'</td>\n",
       "      <td>b'06'</td>\n",
       "      <td>b'2022'</td>\n",
       "      <td>1100.0</td>\n",
       "      <td>b'2021001381'</td>\n",
       "      <td>2.021001e+09</td>\n",
       "      <td>NaN</td>\n",
       "      <td>...</td>\n",
       "      <td>1.0</td>\n",
       "      <td>1.0</td>\n",
       "      <td>157.0</td>\n",
       "      <td>393.0</td>\n",
       "      <td>1.0</td>\n",
       "      <td>1.0</td>\n",
       "      <td>1.0</td>\n",
       "      <td>1.0</td>\n",
       "      <td>5.397605e-79</td>\n",
       "      <td>5.397605e-79</td>\n",
       "    </tr>\n",
       "    <tr>\n",
       "      <th>438689</th>\n",
       "      <td>78.0</td>\n",
       "      <td>12.0</td>\n",
       "      <td>b'01122022'</td>\n",
       "      <td>b'01'</td>\n",
       "      <td>b'12'</td>\n",
       "      <td>b'2022'</td>\n",
       "      <td>1100.0</td>\n",
       "      <td>b'2021001382'</td>\n",
       "      <td>2.021001e+09</td>\n",
       "      <td>NaN</td>\n",
       "      <td>...</td>\n",
       "      <td>1.0</td>\n",
       "      <td>1.0</td>\n",
       "      <td>200.0</td>\n",
       "      <td>157.0</td>\n",
       "      <td>1.0</td>\n",
       "      <td>1.0</td>\n",
       "      <td>1.0</td>\n",
       "      <td>1.0</td>\n",
       "      <td>5.397605e-79</td>\n",
       "      <td>5.397605e-79</td>\n",
       "    </tr>\n",
       "    <tr>\n",
       "      <th>438690</th>\n",
       "      <td>78.0</td>\n",
       "      <td>12.0</td>\n",
       "      <td>b'12212021'</td>\n",
       "      <td>b'12'</td>\n",
       "      <td>b'21'</td>\n",
       "      <td>b'2021'</td>\n",
       "      <td>1100.0</td>\n",
       "      <td>b'2021001383'</td>\n",
       "      <td>2.021001e+09</td>\n",
       "      <td>NaN</td>\n",
       "      <td>...</td>\n",
       "      <td>1.0</td>\n",
       "      <td>1.0</td>\n",
       "      <td>200.0</td>\n",
       "      <td>143.0</td>\n",
       "      <td>1.0</td>\n",
       "      <td>1.0</td>\n",
       "      <td>1.0</td>\n",
       "      <td>1.0</td>\n",
       "      <td>5.397605e-79</td>\n",
       "      <td>5.397605e-79</td>\n",
       "    </tr>\n",
       "    <tr>\n",
       "      <th>438691</th>\n",
       "      <td>78.0</td>\n",
       "      <td>12.0</td>\n",
       "      <td>b'01112022'</td>\n",
       "      <td>b'01'</td>\n",
       "      <td>b'11'</td>\n",
       "      <td>b'2022'</td>\n",
       "      <td>1100.0</td>\n",
       "      <td>b'2021001384'</td>\n",
       "      <td>2.021001e+09</td>\n",
       "      <td>NaN</td>\n",
       "      <td>...</td>\n",
       "      <td>1.0</td>\n",
       "      <td>1.0</td>\n",
       "      <td>100.0</td>\n",
       "      <td>156.0</td>\n",
       "      <td>1.0</td>\n",
       "      <td>1.0</td>\n",
       "      <td>1.0</td>\n",
       "      <td>1.0</td>\n",
       "      <td>5.397605e-79</td>\n",
       "      <td>5.397605e-79</td>\n",
       "    </tr>\n",
       "    <tr>\n",
       "      <th>438692</th>\n",
       "      <td>78.0</td>\n",
       "      <td>12.0</td>\n",
       "      <td>b'12222021'</td>\n",
       "      <td>b'12'</td>\n",
       "      <td>b'22'</td>\n",
       "      <td>b'2021'</td>\n",
       "      <td>1100.0</td>\n",
       "      <td>b'2021001385'</td>\n",
       "      <td>2.021001e+09</td>\n",
       "      <td>NaN</td>\n",
       "      <td>...</td>\n",
       "      <td>1.0</td>\n",
       "      <td>1.0</td>\n",
       "      <td>34.0</td>\n",
       "      <td>66.0</td>\n",
       "      <td>2.0</td>\n",
       "      <td>2.0</td>\n",
       "      <td>1.0</td>\n",
       "      <td>1.0</td>\n",
       "      <td>5.397605e-79</td>\n",
       "      <td>5.397605e-79</td>\n",
       "    </tr>\n",
       "  </tbody>\n",
       "</table>\n",
       "<p>5 rows × 303 columns</p>\n",
       "</div>"
      ],
      "text/plain": [
       "        _STATE  FMONTH        IDATE IMONTH   IDAY    IYEAR  DISPCODE  \\\n",
       "438688    78.0    12.0  b'01062022'  b'01'  b'06'  b'2022'    1100.0   \n",
       "438689    78.0    12.0  b'01122022'  b'01'  b'12'  b'2022'    1100.0   \n",
       "438690    78.0    12.0  b'12212021'  b'12'  b'21'  b'2021'    1100.0   \n",
       "438691    78.0    12.0  b'01112022'  b'01'  b'11'  b'2022'    1100.0   \n",
       "438692    78.0    12.0  b'12222021'  b'12'  b'22'  b'2021'    1100.0   \n",
       "\n",
       "                SEQNO          _PSU  CTELENM1  ...  _FRTRES1  _VEGRES1  \\\n",
       "438688  b'2021001381'  2.021001e+09       NaN  ...       1.0       1.0   \n",
       "438689  b'2021001382'  2.021001e+09       NaN  ...       1.0       1.0   \n",
       "438690  b'2021001383'  2.021001e+09       NaN  ...       1.0       1.0   \n",
       "438691  b'2021001384'  2.021001e+09       NaN  ...       1.0       1.0   \n",
       "438692  b'2021001385'  2.021001e+09       NaN  ...       1.0       1.0   \n",
       "\n",
       "        _FRUTSU1  _VEGESU1  _FRTLT1A  _VEGLT1A  _FRT16A  _VEG23A  \\\n",
       "438688     157.0     393.0       1.0       1.0      1.0      1.0   \n",
       "438689     200.0     157.0       1.0       1.0      1.0      1.0   \n",
       "438690     200.0     143.0       1.0       1.0      1.0      1.0   \n",
       "438691     100.0     156.0       1.0       1.0      1.0      1.0   \n",
       "438692      34.0      66.0       2.0       2.0      1.0      1.0   \n",
       "\n",
       "            _FRUITE1      _VEGETE1  \n",
       "438688  5.397605e-79  5.397605e-79  \n",
       "438689  5.397605e-79  5.397605e-79  \n",
       "438690  5.397605e-79  5.397605e-79  \n",
       "438691  5.397605e-79  5.397605e-79  \n",
       "438692  5.397605e-79  5.397605e-79  \n",
       "\n",
       "[5 rows x 303 columns]"
      ]
     },
     "execution_count": 34,
     "metadata": {},
     "output_type": "execute_result"
    }
   ],
   "source": [
    "df.tail(5)    # menampilkan data terbawah"
   ]
  },
  {
   "cell_type": "markdown",
   "metadata": {},
   "source": [
    "menampilkan jumlah row dan columns"
   ]
  },
  {
   "cell_type": "code",
   "execution_count": 35,
   "metadata": {},
   "outputs": [
    {
     "data": {
      "text/plain": [
       "(438693, 303)"
      ]
     },
     "execution_count": 35,
     "metadata": {},
     "output_type": "execute_result"
    }
   ],
   "source": [
    "df.shape"
   ]
  },
  {
   "cell_type": "markdown",
   "metadata": {},
   "source": [
    "**3. Menampilkan Tipe Dataset**"
   ]
  },
  {
   "cell_type": "code",
   "execution_count": 36,
   "metadata": {},
   "outputs": [
    {
     "data": {
      "text/plain": [
       "_STATE      float64\n",
       "FMONTH      float64\n",
       "IDATE        object\n",
       "IMONTH       object\n",
       "IDAY         object\n",
       "             ...   \n",
       "_VEGLT1A    float64\n",
       "_FRT16A     float64\n",
       "_VEG23A     float64\n",
       "_FRUITE1    float64\n",
       "_VEGETE1    float64\n",
       "Length: 303, dtype: object"
      ]
     },
     "execution_count": 36,
     "metadata": {},
     "output_type": "execute_result"
    }
   ],
   "source": [
    "df.dtypes  # menampilkan tipe variabel yang terdapat pada dataframe"
   ]
  },
  {
   "cell_type": "markdown",
   "metadata": {},
   "source": [
    "**4. Memilih Atribut Yang Ingin Digunakan**\n",
    "\n",
    "   pemilihan atribut berdasarkan codebook BRFSS 2021 yang telah ditetapkan sebelumnya, setelah pemilihan selesai diganti dengan penamaan df_percobaanEDA"
   ]
  },
  {
   "cell_type": "code",
   "execution_count": 37,
   "metadata": {},
   "outputs": [
    {
     "data": {
      "text/html": [
       "<div>\n",
       "<style scoped>\n",
       "    .dataframe tbody tr th:only-of-type {\n",
       "        vertical-align: middle;\n",
       "    }\n",
       "\n",
       "    .dataframe tbody tr th {\n",
       "        vertical-align: top;\n",
       "    }\n",
       "\n",
       "    .dataframe thead th {\n",
       "        text-align: right;\n",
       "    }\n",
       "</style>\n",
       "<table border=\"1\" class=\"dataframe\">\n",
       "  <thead>\n",
       "    <tr style=\"text-align: right;\">\n",
       "      <th></th>\n",
       "      <th>SEXVAR</th>\n",
       "      <th>_AGEG5YR</th>\n",
       "      <th>_SMOKER3</th>\n",
       "      <th>_TOTINDA</th>\n",
       "      <th>_BMI5CAT</th>\n",
       "      <th>EMPLOY1</th>\n",
       "      <th>DIABETE4</th>\n",
       "    </tr>\n",
       "  </thead>\n",
       "  <tbody>\n",
       "    <tr>\n",
       "      <th>0</th>\n",
       "      <td>2.0</td>\n",
       "      <td>11.0</td>\n",
       "      <td>3.0</td>\n",
       "      <td>2.0</td>\n",
       "      <td>1.0</td>\n",
       "      <td>7.0</td>\n",
       "      <td>3.0</td>\n",
       "    </tr>\n",
       "    <tr>\n",
       "      <th>1</th>\n",
       "      <td>2.0</td>\n",
       "      <td>10.0</td>\n",
       "      <td>4.0</td>\n",
       "      <td>1.0</td>\n",
       "      <td>NaN</td>\n",
       "      <td>8.0</td>\n",
       "      <td>1.0</td>\n",
       "    </tr>\n",
       "    <tr>\n",
       "      <th>2</th>\n",
       "      <td>2.0</td>\n",
       "      <td>11.0</td>\n",
       "      <td>4.0</td>\n",
       "      <td>2.0</td>\n",
       "      <td>3.0</td>\n",
       "      <td>7.0</td>\n",
       "      <td>1.0</td>\n",
       "    </tr>\n",
       "    <tr>\n",
       "      <th>3</th>\n",
       "      <td>2.0</td>\n",
       "      <td>9.0</td>\n",
       "      <td>4.0</td>\n",
       "      <td>1.0</td>\n",
       "      <td>4.0</td>\n",
       "      <td>7.0</td>\n",
       "      <td>1.0</td>\n",
       "    </tr>\n",
       "    <tr>\n",
       "      <th>4</th>\n",
       "      <td>1.0</td>\n",
       "      <td>12.0</td>\n",
       "      <td>4.0</td>\n",
       "      <td>1.0</td>\n",
       "      <td>3.0</td>\n",
       "      <td>8.0</td>\n",
       "      <td>1.0</td>\n",
       "    </tr>\n",
       "  </tbody>\n",
       "</table>\n",
       "</div>"
      ],
      "text/plain": [
       "   SEXVAR  _AGEG5YR  _SMOKER3  _TOTINDA  _BMI5CAT  EMPLOY1  DIABETE4\n",
       "0     2.0      11.0       3.0       2.0       1.0      7.0       3.0\n",
       "1     2.0      10.0       4.0       1.0       NaN      8.0       1.0\n",
       "2     2.0      11.0       4.0       2.0       3.0      7.0       1.0\n",
       "3     2.0       9.0       4.0       1.0       4.0      7.0       1.0\n",
       "4     1.0      12.0       4.0       1.0       3.0      8.0       1.0"
      ]
     },
     "execution_count": 37,
     "metadata": {},
     "output_type": "execute_result"
    }
   ],
   "source": [
    "df_var = df[['SEXVAR','_AGEG5YR','_SMOKER3','_TOTINDA','_BMI5CAT','EMPLOY1','DIABETE4']]\n",
    "df_var.head(5)"
   ]
  },
  {
   "cell_type": "code",
   "execution_count": 38,
   "metadata": {},
   "outputs": [
    {
     "data": {
      "text/html": [
       "<div>\n",
       "<style scoped>\n",
       "    .dataframe tbody tr th:only-of-type {\n",
       "        vertical-align: middle;\n",
       "    }\n",
       "\n",
       "    .dataframe tbody tr th {\n",
       "        vertical-align: top;\n",
       "    }\n",
       "\n",
       "    .dataframe thead th {\n",
       "        text-align: right;\n",
       "    }\n",
       "</style>\n",
       "<table border=\"1\" class=\"dataframe\">\n",
       "  <thead>\n",
       "    <tr style=\"text-align: right;\">\n",
       "      <th></th>\n",
       "      <th>SEXVAR</th>\n",
       "      <th>_AGEG5YR</th>\n",
       "      <th>_SMOKER3</th>\n",
       "      <th>_TOTINDA</th>\n",
       "      <th>_BMI5CAT</th>\n",
       "      <th>EMPLOY1</th>\n",
       "      <th>DIABETE4</th>\n",
       "    </tr>\n",
       "  </thead>\n",
       "  <tbody>\n",
       "    <tr>\n",
       "      <th>438688</th>\n",
       "      <td>2.0</td>\n",
       "      <td>3.0</td>\n",
       "      <td>3.0</td>\n",
       "      <td>1.0</td>\n",
       "      <td>2.0</td>\n",
       "      <td>1.0</td>\n",
       "      <td>2.0</td>\n",
       "    </tr>\n",
       "    <tr>\n",
       "      <th>438689</th>\n",
       "      <td>1.0</td>\n",
       "      <td>13.0</td>\n",
       "      <td>4.0</td>\n",
       "      <td>2.0</td>\n",
       "      <td>NaN</td>\n",
       "      <td>8.0</td>\n",
       "      <td>1.0</td>\n",
       "    </tr>\n",
       "    <tr>\n",
       "      <th>438690</th>\n",
       "      <td>1.0</td>\n",
       "      <td>7.0</td>\n",
       "      <td>4.0</td>\n",
       "      <td>1.0</td>\n",
       "      <td>4.0</td>\n",
       "      <td>7.0</td>\n",
       "      <td>3.0</td>\n",
       "    </tr>\n",
       "    <tr>\n",
       "      <th>438691</th>\n",
       "      <td>1.0</td>\n",
       "      <td>10.0</td>\n",
       "      <td>4.0</td>\n",
       "      <td>1.0</td>\n",
       "      <td>2.0</td>\n",
       "      <td>7.0</td>\n",
       "      <td>3.0</td>\n",
       "    </tr>\n",
       "    <tr>\n",
       "      <th>438692</th>\n",
       "      <td>2.0</td>\n",
       "      <td>6.0</td>\n",
       "      <td>4.0</td>\n",
       "      <td>1.0</td>\n",
       "      <td>4.0</td>\n",
       "      <td>1.0</td>\n",
       "      <td>3.0</td>\n",
       "    </tr>\n",
       "  </tbody>\n",
       "</table>\n",
       "</div>"
      ],
      "text/plain": [
       "        SEXVAR  _AGEG5YR  _SMOKER3  _TOTINDA  _BMI5CAT  EMPLOY1  DIABETE4\n",
       "438688     2.0       3.0       3.0       1.0       2.0      1.0       2.0\n",
       "438689     1.0      13.0       4.0       2.0       NaN      8.0       1.0\n",
       "438690     1.0       7.0       4.0       1.0       4.0      7.0       3.0\n",
       "438691     1.0      10.0       4.0       1.0       2.0      7.0       3.0\n",
       "438692     2.0       6.0       4.0       1.0       4.0      1.0       3.0"
      ]
     },
     "execution_count": 38,
     "metadata": {},
     "output_type": "execute_result"
    }
   ],
   "source": [
    "df_var.tail(5)"
   ]
  },
  {
   "cell_type": "code",
   "execution_count": 39,
   "metadata": {},
   "outputs": [
    {
     "data": {
      "text/plain": [
       "(438693, 7)"
      ]
     },
     "execution_count": 39,
     "metadata": {},
     "output_type": "execute_result"
    }
   ],
   "source": [
    "df_var.shape"
   ]
  },
  {
   "cell_type": "markdown",
   "metadata": {},
   "source": [
    "**5. Menampilkan Index Atribut Yang Dipilih**"
   ]
  },
  {
   "cell_type": "code",
   "execution_count": 40,
   "metadata": {},
   "outputs": [
    {
     "data": {
      "text/plain": [
       "Index(['SEXVAR', '_AGEG5YR', '_SMOKER3', '_TOTINDA', '_BMI5CAT', 'EMPLOY1',\n",
       "       'DIABETE4'],\n",
       "      dtype='object')"
      ]
     },
     "execution_count": 40,
     "metadata": {},
     "output_type": "execute_result"
    }
   ],
   "source": [
    "df_var.columns"
   ]
  },
  {
   "cell_type": "markdown",
   "metadata": {},
   "source": [
    "**6. Menampilkan Hasil Dari Satu Atribut** \n",
    "\n",
    "   fungsinya untuk mengetahui hasil dari atribut \"DIABETE4\" dikarenakan hasil tersebut menjadi hasil dari dataset diatas, dan menghitung jumlah data spesifik dari columns \"DIABETE4\""
   ]
  },
  {
   "cell_type": "code",
   "execution_count": 41,
   "metadata": {},
   "outputs": [
    {
     "data": {
      "text/plain": [
       "DIABETE4\n",
       "3.0    366342\n",
       "1.0     57616\n",
       "4.0      9942\n",
       "2.0      3808\n",
       "7.0       613\n",
       "9.0       369\n",
       "Name: count, dtype: int64"
      ]
     },
     "execution_count": 41,
     "metadata": {},
     "output_type": "execute_result"
    }
   ],
   "source": [
    "df_var['DIABETE4'].value_counts()"
   ]
  },
  {
   "cell_type": "markdown",
   "metadata": {},
   "source": [
    "**7. Menghilangkan Data Yang Duplikat**\n",
    "\n",
    "   fungsinya agar memaksimalkan kerja model dengan mengoptimalkan dataset yang ada dengan menghilangkan dataset yang terduplikat, efek dari data duplikat akan membuat model lama untuk menjalankan Machine Learning"
   ]
  },
  {
   "cell_type": "code",
   "execution_count": 42,
   "metadata": {},
   "outputs": [
    {
     "data": {
      "text/plain": [
       "(438693, 7)"
      ]
     },
     "execution_count": 42,
     "metadata": {},
     "output_type": "execute_result"
    }
   ],
   "source": [
    "df_var.shape"
   ]
  },
  {
   "cell_type": "code",
   "execution_count": 43,
   "metadata": {},
   "outputs": [
    {
     "name": "stdout",
     "output_type": "stream",
     "text": [
      "Jumlah Baris Duplikat: (420602, 7)\n"
     ]
    }
   ],
   "source": [
    "duplicate_row_df_var = df_var[df_var.duplicated()]\n",
    "print(\"Jumlah Baris Duplikat:\", duplicate_row_df_var.shape) # untuk menampilkan jumlah dataset yang duplikat ada berapa"
   ]
  },
  {
   "cell_type": "markdown",
   "metadata": {},
   "source": [
    "**Sebelum Data Duplikat Dihilangkan**"
   ]
  },
  {
   "cell_type": "code",
   "execution_count": 44,
   "metadata": {},
   "outputs": [
    {
     "data": {
      "text/plain": [
       "SEXVAR      438693\n",
       "_AGEG5YR    438693\n",
       "_SMOKER3    438693\n",
       "_TOTINDA    438693\n",
       "_BMI5CAT    391841\n",
       "EMPLOY1     435105\n",
       "DIABETE4    438690\n",
       "dtype: int64"
      ]
     },
     "execution_count": 44,
     "metadata": {},
     "output_type": "execute_result"
    }
   ],
   "source": [
    "df_var.count()"
   ]
  },
  {
   "cell_type": "markdown",
   "metadata": {},
   "source": [
    "**Proses Penghapusan Data Yang Duplikat**\n",
    "\n",
    "disini menjalankan proses penghapusan data yang terduplikat"
   ]
  },
  {
   "cell_type": "code",
   "execution_count": 45,
   "metadata": {},
   "outputs": [
    {
     "data": {
      "text/html": [
       "<div>\n",
       "<style scoped>\n",
       "    .dataframe tbody tr th:only-of-type {\n",
       "        vertical-align: middle;\n",
       "    }\n",
       "\n",
       "    .dataframe tbody tr th {\n",
       "        vertical-align: top;\n",
       "    }\n",
       "\n",
       "    .dataframe thead th {\n",
       "        text-align: right;\n",
       "    }\n",
       "</style>\n",
       "<table border=\"1\" class=\"dataframe\">\n",
       "  <thead>\n",
       "    <tr style=\"text-align: right;\">\n",
       "      <th></th>\n",
       "      <th>SEXVAR</th>\n",
       "      <th>_AGEG5YR</th>\n",
       "      <th>_SMOKER3</th>\n",
       "      <th>_TOTINDA</th>\n",
       "      <th>_BMI5CAT</th>\n",
       "      <th>EMPLOY1</th>\n",
       "      <th>DIABETE4</th>\n",
       "    </tr>\n",
       "  </thead>\n",
       "  <tbody>\n",
       "    <tr>\n",
       "      <th>0</th>\n",
       "      <td>2.0</td>\n",
       "      <td>11.0</td>\n",
       "      <td>3.0</td>\n",
       "      <td>2.0</td>\n",
       "      <td>1.0</td>\n",
       "      <td>7.0</td>\n",
       "      <td>3.0</td>\n",
       "    </tr>\n",
       "    <tr>\n",
       "      <th>1</th>\n",
       "      <td>2.0</td>\n",
       "      <td>10.0</td>\n",
       "      <td>4.0</td>\n",
       "      <td>1.0</td>\n",
       "      <td>NaN</td>\n",
       "      <td>8.0</td>\n",
       "      <td>1.0</td>\n",
       "    </tr>\n",
       "    <tr>\n",
       "      <th>2</th>\n",
       "      <td>2.0</td>\n",
       "      <td>11.0</td>\n",
       "      <td>4.0</td>\n",
       "      <td>2.0</td>\n",
       "      <td>3.0</td>\n",
       "      <td>7.0</td>\n",
       "      <td>1.0</td>\n",
       "    </tr>\n",
       "    <tr>\n",
       "      <th>3</th>\n",
       "      <td>2.0</td>\n",
       "      <td>9.0</td>\n",
       "      <td>4.0</td>\n",
       "      <td>1.0</td>\n",
       "      <td>4.0</td>\n",
       "      <td>7.0</td>\n",
       "      <td>1.0</td>\n",
       "    </tr>\n",
       "    <tr>\n",
       "      <th>4</th>\n",
       "      <td>1.0</td>\n",
       "      <td>12.0</td>\n",
       "      <td>4.0</td>\n",
       "      <td>1.0</td>\n",
       "      <td>3.0</td>\n",
       "      <td>8.0</td>\n",
       "      <td>1.0</td>\n",
       "    </tr>\n",
       "  </tbody>\n",
       "</table>\n",
       "</div>"
      ],
      "text/plain": [
       "   SEXVAR  _AGEG5YR  _SMOKER3  _TOTINDA  _BMI5CAT  EMPLOY1  DIABETE4\n",
       "0     2.0      11.0       3.0       2.0       1.0      7.0       3.0\n",
       "1     2.0      10.0       4.0       1.0       NaN      8.0       1.0\n",
       "2     2.0      11.0       4.0       2.0       3.0      7.0       1.0\n",
       "3     2.0       9.0       4.0       1.0       4.0      7.0       1.0\n",
       "4     1.0      12.0       4.0       1.0       3.0      8.0       1.0"
      ]
     },
     "execution_count": 45,
     "metadata": {},
     "output_type": "execute_result"
    }
   ],
   "source": [
    "df_var = df_var.drop_duplicates()\n",
    "df_var.head(5)"
   ]
  },
  {
   "cell_type": "code",
   "execution_count": 46,
   "metadata": {},
   "outputs": [
    {
     "data": {
      "text/html": [
       "<div>\n",
       "<style scoped>\n",
       "    .dataframe tbody tr th:only-of-type {\n",
       "        vertical-align: middle;\n",
       "    }\n",
       "\n",
       "    .dataframe tbody tr th {\n",
       "        vertical-align: top;\n",
       "    }\n",
       "\n",
       "    .dataframe thead th {\n",
       "        text-align: right;\n",
       "    }\n",
       "</style>\n",
       "<table border=\"1\" class=\"dataframe\">\n",
       "  <thead>\n",
       "    <tr style=\"text-align: right;\">\n",
       "      <th></th>\n",
       "      <th>SEXVAR</th>\n",
       "      <th>_AGEG5YR</th>\n",
       "      <th>_SMOKER3</th>\n",
       "      <th>_TOTINDA</th>\n",
       "      <th>_BMI5CAT</th>\n",
       "      <th>EMPLOY1</th>\n",
       "      <th>DIABETE4</th>\n",
       "    </tr>\n",
       "  </thead>\n",
       "  <tbody>\n",
       "    <tr>\n",
       "      <th>438319</th>\n",
       "      <td>1.0</td>\n",
       "      <td>2.0</td>\n",
       "      <td>2.0</td>\n",
       "      <td>2.0</td>\n",
       "      <td>2.0</td>\n",
       "      <td>3.0</td>\n",
       "      <td>3.0</td>\n",
       "    </tr>\n",
       "    <tr>\n",
       "      <th>438327</th>\n",
       "      <td>2.0</td>\n",
       "      <td>2.0</td>\n",
       "      <td>4.0</td>\n",
       "      <td>1.0</td>\n",
       "      <td>2.0</td>\n",
       "      <td>4.0</td>\n",
       "      <td>2.0</td>\n",
       "    </tr>\n",
       "    <tr>\n",
       "      <th>438345</th>\n",
       "      <td>2.0</td>\n",
       "      <td>9.0</td>\n",
       "      <td>1.0</td>\n",
       "      <td>2.0</td>\n",
       "      <td>3.0</td>\n",
       "      <td>2.0</td>\n",
       "      <td>1.0</td>\n",
       "    </tr>\n",
       "    <tr>\n",
       "      <th>438359</th>\n",
       "      <td>2.0</td>\n",
       "      <td>1.0</td>\n",
       "      <td>9.0</td>\n",
       "      <td>2.0</td>\n",
       "      <td>NaN</td>\n",
       "      <td>1.0</td>\n",
       "      <td>4.0</td>\n",
       "    </tr>\n",
       "    <tr>\n",
       "      <th>438594</th>\n",
       "      <td>2.0</td>\n",
       "      <td>14.0</td>\n",
       "      <td>1.0</td>\n",
       "      <td>2.0</td>\n",
       "      <td>NaN</td>\n",
       "      <td>2.0</td>\n",
       "      <td>1.0</td>\n",
       "    </tr>\n",
       "  </tbody>\n",
       "</table>\n",
       "</div>"
      ],
      "text/plain": [
       "        SEXVAR  _AGEG5YR  _SMOKER3  _TOTINDA  _BMI5CAT  EMPLOY1  DIABETE4\n",
       "438319     1.0       2.0       2.0       2.0       2.0      3.0       3.0\n",
       "438327     2.0       2.0       4.0       1.0       2.0      4.0       2.0\n",
       "438345     2.0       9.0       1.0       2.0       3.0      2.0       1.0\n",
       "438359     2.0       1.0       9.0       2.0       NaN      1.0       4.0\n",
       "438594     2.0      14.0       1.0       2.0       NaN      2.0       1.0"
      ]
     },
     "execution_count": 46,
     "metadata": {},
     "output_type": "execute_result"
    }
   ],
   "source": [
    "df_var.tail(5)"
   ]
  },
  {
   "cell_type": "markdown",
   "metadata": {},
   "source": [
    "**Setelah Data Di Hapus Duplikatnya**"
   ]
  },
  {
   "cell_type": "code",
   "execution_count": 47,
   "metadata": {},
   "outputs": [
    {
     "data": {
      "text/plain": [
       "SEXVAR      18091\n",
       "_AGEG5YR    18091\n",
       "_SMOKER3    18091\n",
       "_TOTINDA    18091\n",
       "_BMI5CAT    14270\n",
       "EMPLOY1     17908\n",
       "DIABETE4    18089\n",
       "dtype: int64"
      ]
     },
     "execution_count": 47,
     "metadata": {},
     "output_type": "execute_result"
    }
   ],
   "source": [
    "df_var.count()"
   ]
  },
  {
   "cell_type": "code",
   "execution_count": 48,
   "metadata": {},
   "outputs": [
    {
     "data": {
      "text/plain": [
       "(18091, 7)"
      ]
     },
     "execution_count": 48,
     "metadata": {},
     "output_type": "execute_result"
    }
   ],
   "source": [
    "df_var.shape"
   ]
  },
  {
   "cell_type": "markdown",
   "metadata": {},
   "source": [
    "**8. Menghilangkan Data Yang Bernilai \"NOL\"**\n",
    "\n",
    "   Pada DNN, langkah ini penting dikarenakan perlunya mengetahui serta menghapus data yang bersifat \"NULL\", ada beberapa cara untuk mengatasi miss value ini dengan mencari rata2 dari tiap atribut, dengan mengisi data yang \"NULL\" dengan nilai yang sama semua, dan menghitung nilai \"NULL\" dengan diperkirakan secara manual."
   ]
  },
  {
   "cell_type": "code",
   "execution_count": 49,
   "metadata": {},
   "outputs": [
    {
     "name": "stdout",
     "output_type": "stream",
     "text": [
      "SEXVAR         0\n",
      "_AGEG5YR       0\n",
      "_SMOKER3       0\n",
      "_TOTINDA       0\n",
      "_BMI5CAT    3821\n",
      "EMPLOY1      183\n",
      "DIABETE4       2\n",
      "dtype: int64\n"
     ]
    }
   ],
   "source": [
    "print(df_var.isnull().sum())"
   ]
  },
  {
   "cell_type": "markdown",
   "metadata": {},
   "source": [
    "keterangan diatas menunjukkan bahwa yang terdapat missing value dari setiap atribut terdapat pada atribut\n",
    "\n",
    "**EDUCA, EMPLOY1, WTKG3, HTM4, DIABETE4, BPHIGH6, EXERANY2 dan ALCDAYS.**"
   ]
  },
  {
   "cell_type": "markdown",
   "metadata": {},
   "source": [
    "kemudian, disini akan dilakukan nya pembersihan missing value atau nilai yang kosong"
   ]
  },
  {
   "cell_type": "code",
   "execution_count": 50,
   "metadata": {},
   "outputs": [
    {
     "data": {
      "text/plain": [
       "SEXVAR      14269\n",
       "_AGEG5YR    14269\n",
       "_SMOKER3    14269\n",
       "_TOTINDA    14269\n",
       "_BMI5CAT    14269\n",
       "EMPLOY1     14269\n",
       "DIABETE4    14269\n",
       "dtype: int64"
      ]
     },
     "execution_count": 50,
     "metadata": {},
     "output_type": "execute_result"
    }
   ],
   "source": [
    "df_var = df_var.dropna()    #Sebelum Dilakukan Dropping Missing Value\n",
    "df_var.count()"
   ]
  },
  {
   "cell_type": "code",
   "execution_count": 51,
   "metadata": {},
   "outputs": [
    {
     "name": "stdout",
     "output_type": "stream",
     "text": [
      "SEXVAR      0\n",
      "_AGEG5YR    0\n",
      "_SMOKER3    0\n",
      "_TOTINDA    0\n",
      "_BMI5CAT    0\n",
      "EMPLOY1     0\n",
      "DIABETE4    0\n",
      "dtype: int64\n"
     ]
    }
   ],
   "source": [
    "print(df_var.isnull().sum())   #Setelah dilakukan Dropping Missing Value"
   ]
  },
  {
   "cell_type": "markdown",
   "metadata": {},
   "source": [
    "setelah proses selesai kita cek kembali dataframe yang tadi telah dilakukan proses penghilangan missing value"
   ]
  },
  {
   "cell_type": "code",
   "execution_count": 52,
   "metadata": {},
   "outputs": [
    {
     "data": {
      "text/html": [
       "<div>\n",
       "<style scoped>\n",
       "    .dataframe tbody tr th:only-of-type {\n",
       "        vertical-align: middle;\n",
       "    }\n",
       "\n",
       "    .dataframe tbody tr th {\n",
       "        vertical-align: top;\n",
       "    }\n",
       "\n",
       "    .dataframe thead th {\n",
       "        text-align: right;\n",
       "    }\n",
       "</style>\n",
       "<table border=\"1\" class=\"dataframe\">\n",
       "  <thead>\n",
       "    <tr style=\"text-align: right;\">\n",
       "      <th></th>\n",
       "      <th>SEXVAR</th>\n",
       "      <th>_AGEG5YR</th>\n",
       "      <th>_SMOKER3</th>\n",
       "      <th>_TOTINDA</th>\n",
       "      <th>_BMI5CAT</th>\n",
       "      <th>EMPLOY1</th>\n",
       "      <th>DIABETE4</th>\n",
       "    </tr>\n",
       "  </thead>\n",
       "  <tbody>\n",
       "    <tr>\n",
       "      <th>0</th>\n",
       "      <td>2.0</td>\n",
       "      <td>11.0</td>\n",
       "      <td>3.0</td>\n",
       "      <td>2.0</td>\n",
       "      <td>1.0</td>\n",
       "      <td>7.0</td>\n",
       "      <td>3.0</td>\n",
       "    </tr>\n",
       "    <tr>\n",
       "      <th>2</th>\n",
       "      <td>2.0</td>\n",
       "      <td>11.0</td>\n",
       "      <td>4.0</td>\n",
       "      <td>2.0</td>\n",
       "      <td>3.0</td>\n",
       "      <td>7.0</td>\n",
       "      <td>1.0</td>\n",
       "    </tr>\n",
       "    <tr>\n",
       "      <th>3</th>\n",
       "      <td>2.0</td>\n",
       "      <td>9.0</td>\n",
       "      <td>4.0</td>\n",
       "      <td>1.0</td>\n",
       "      <td>4.0</td>\n",
       "      <td>7.0</td>\n",
       "      <td>1.0</td>\n",
       "    </tr>\n",
       "    <tr>\n",
       "      <th>4</th>\n",
       "      <td>1.0</td>\n",
       "      <td>12.0</td>\n",
       "      <td>4.0</td>\n",
       "      <td>1.0</td>\n",
       "      <td>3.0</td>\n",
       "      <td>8.0</td>\n",
       "      <td>1.0</td>\n",
       "    </tr>\n",
       "    <tr>\n",
       "      <th>5</th>\n",
       "      <td>1.0</td>\n",
       "      <td>13.0</td>\n",
       "      <td>3.0</td>\n",
       "      <td>2.0</td>\n",
       "      <td>2.0</td>\n",
       "      <td>7.0</td>\n",
       "      <td>3.0</td>\n",
       "    </tr>\n",
       "  </tbody>\n",
       "</table>\n",
       "</div>"
      ],
      "text/plain": [
       "   SEXVAR  _AGEG5YR  _SMOKER3  _TOTINDA  _BMI5CAT  EMPLOY1  DIABETE4\n",
       "0     2.0      11.0       3.0       2.0       1.0      7.0       3.0\n",
       "2     2.0      11.0       4.0       2.0       3.0      7.0       1.0\n",
       "3     2.0       9.0       4.0       1.0       4.0      7.0       1.0\n",
       "4     1.0      12.0       4.0       1.0       3.0      8.0       1.0\n",
       "5     1.0      13.0       3.0       2.0       2.0      7.0       3.0"
      ]
     },
     "execution_count": 52,
     "metadata": {},
     "output_type": "execute_result"
    }
   ],
   "source": [
    "df_var.head(5)"
   ]
  },
  {
   "cell_type": "code",
   "execution_count": 53,
   "metadata": {},
   "outputs": [
    {
     "data": {
      "text/html": [
       "<div>\n",
       "<style scoped>\n",
       "    .dataframe tbody tr th:only-of-type {\n",
       "        vertical-align: middle;\n",
       "    }\n",
       "\n",
       "    .dataframe tbody tr th {\n",
       "        vertical-align: top;\n",
       "    }\n",
       "\n",
       "    .dataframe thead th {\n",
       "        text-align: right;\n",
       "    }\n",
       "</style>\n",
       "<table border=\"1\" class=\"dataframe\">\n",
       "  <thead>\n",
       "    <tr style=\"text-align: right;\">\n",
       "      <th></th>\n",
       "      <th>SEXVAR</th>\n",
       "      <th>_AGEG5YR</th>\n",
       "      <th>_SMOKER3</th>\n",
       "      <th>_TOTINDA</th>\n",
       "      <th>_BMI5CAT</th>\n",
       "      <th>EMPLOY1</th>\n",
       "      <th>DIABETE4</th>\n",
       "    </tr>\n",
       "  </thead>\n",
       "  <tbody>\n",
       "    <tr>\n",
       "      <th>438191</th>\n",
       "      <td>2.0</td>\n",
       "      <td>4.0</td>\n",
       "      <td>3.0</td>\n",
       "      <td>2.0</td>\n",
       "      <td>3.0</td>\n",
       "      <td>9.0</td>\n",
       "      <td>3.0</td>\n",
       "    </tr>\n",
       "    <tr>\n",
       "      <th>438238</th>\n",
       "      <td>2.0</td>\n",
       "      <td>12.0</td>\n",
       "      <td>4.0</td>\n",
       "      <td>1.0</td>\n",
       "      <td>3.0</td>\n",
       "      <td>8.0</td>\n",
       "      <td>2.0</td>\n",
       "    </tr>\n",
       "    <tr>\n",
       "      <th>438319</th>\n",
       "      <td>1.0</td>\n",
       "      <td>2.0</td>\n",
       "      <td>2.0</td>\n",
       "      <td>2.0</td>\n",
       "      <td>2.0</td>\n",
       "      <td>3.0</td>\n",
       "      <td>3.0</td>\n",
       "    </tr>\n",
       "    <tr>\n",
       "      <th>438327</th>\n",
       "      <td>2.0</td>\n",
       "      <td>2.0</td>\n",
       "      <td>4.0</td>\n",
       "      <td>1.0</td>\n",
       "      <td>2.0</td>\n",
       "      <td>4.0</td>\n",
       "      <td>2.0</td>\n",
       "    </tr>\n",
       "    <tr>\n",
       "      <th>438345</th>\n",
       "      <td>2.0</td>\n",
       "      <td>9.0</td>\n",
       "      <td>1.0</td>\n",
       "      <td>2.0</td>\n",
       "      <td>3.0</td>\n",
       "      <td>2.0</td>\n",
       "      <td>1.0</td>\n",
       "    </tr>\n",
       "  </tbody>\n",
       "</table>\n",
       "</div>"
      ],
      "text/plain": [
       "        SEXVAR  _AGEG5YR  _SMOKER3  _TOTINDA  _BMI5CAT  EMPLOY1  DIABETE4\n",
       "438191     2.0       4.0       3.0       2.0       3.0      9.0       3.0\n",
       "438238     2.0      12.0       4.0       1.0       3.0      8.0       2.0\n",
       "438319     1.0       2.0       2.0       2.0       2.0      3.0       3.0\n",
       "438327     2.0       2.0       4.0       1.0       2.0      4.0       2.0\n",
       "438345     2.0       9.0       1.0       2.0       3.0      2.0       1.0"
      ]
     },
     "execution_count": 53,
     "metadata": {},
     "output_type": "execute_result"
    }
   ],
   "source": [
    "df_var.tail(5)"
   ]
  },
  {
   "cell_type": "code",
   "execution_count": 54,
   "metadata": {},
   "outputs": [
    {
     "data": {
      "text/plain": [
       "(14269, 7)"
      ]
     },
     "execution_count": 54,
     "metadata": {},
     "output_type": "execute_result"
    }
   ],
   "source": [
    "df_var.shape"
   ]
  },
  {
   "cell_type": "markdown",
   "metadata": {},
   "source": [
    "**9. Outlier**"
   ]
  },
  {
   "cell_type": "code",
   "execution_count": 55,
   "metadata": {},
   "outputs": [
    {
     "name": "stdout",
     "output_type": "stream",
     "text": [
      "SEXVAR no\n",
      "_AGEG5YR no\n",
      "_SMOKER3 yes\n",
      "_TOTINDA yes\n",
      "_BMI5CAT no\n",
      "EMPLOY1 no\n",
      "DIABETE4 yes\n"
     ]
    }
   ],
   "source": [
    "for feature in df_var:\n",
    "    \n",
    "    Q1 = df_var[feature].quantile(0.25)\n",
    "    Q3 = df_var[feature].quantile(0.75)\n",
    "    IQR = Q3-Q1\n",
    "    lower = Q1- 1.5*IQR\n",
    "    upper = Q3 + 1.5*IQR\n",
    "    \n",
    "    if df_var[(df_var[feature] > upper)].any(axis=None):\n",
    "        print(feature,\"yes\")\n",
    "    else:\n",
    "        print(feature, \"no\")"
   ]
  },
  {
   "cell_type": "code",
   "execution_count": 56,
   "metadata": {},
   "outputs": [
    {
     "data": {
      "text/plain": [
       "<function matplotlib.pyplot.show(close=None, block=None)>"
      ]
     },
     "execution_count": 56,
     "metadata": {},
     "output_type": "execute_result"
    },
    {
     "data": {
      "image/png": "[encoded data removed]",
      "text/plain": [
       "<Figure size 1200x400 with 2 Axes>"
      ]
     },
     "metadata": {},
     "output_type": "display_data"
    }
   ],
   "source": [
    "f = plt.figure(figsize=(12,4))\n",
    "f.add_subplot(1,2,1)\n",
    "df_var['SEXVAR'].plot(kind='kde')\n",
    "f.add_subplot(1,2,2)\n",
    "plt.boxplot(df_var['SEXVAR'])\n",
    "plt.show"
   ]
  },
  {
   "cell_type": "code",
   "execution_count": 57,
   "metadata": {},
   "outputs": [
    {
     "data": {
      "text/plain": [
       "<function matplotlib.pyplot.show(close=None, block=None)>"
      ]
     },
     "execution_count": 57,
     "metadata": {},
     "output_type": "execute_result"
    },
    {
     "data": {
      "image/png": "[encoded data removed]",
      "text/plain": [
       "<Figure size 1200x400 with 2 Axes>"
      ]
     },
     "metadata": {},
     "output_type": "display_data"
    }
   ],
   "source": [
    "f = plt.figure(figsize=(12,4))\n",
    "f.add_subplot(1,2,1)\n",
    "df_var['_AGEG5YR'].plot(kind='kde')\n",
    "f.add_subplot(1,2,2)\n",
    "plt.boxplot(df_var['_AGEG5YR'])\n",
    "plt.show"
   ]
  },
  {
   "cell_type": "code",
   "execution_count": 58,
   "metadata": {},
   "outputs": [
    {
     "data": {
      "text/plain": [
       "<function matplotlib.pyplot.show(close=None, block=None)>"
      ]
     },
     "execution_count": 58,
     "metadata": {},
     "output_type": "execute_result"
    },
    {
     "data": {
      "image/png": "[encoded data removed]",
      "text/plain": [
       "<Figure size 1200x400 with 2 Axes>"
      ]
     },
     "metadata": {},
     "output_type": "display_data"
    }
   ],
   "source": [
    "f = plt.figure(figsize=(12,4))\n",
    "f.add_subplot(1,2,1)\n",
    "df_var['_SMOKER3'].plot(kind='kde')\n",
    "f.add_subplot(1,2,2)\n",
    "plt.boxplot(df_var['_SMOKER3'])\n",
    "plt.show"
   ]
  },
  {
   "cell_type": "code",
   "execution_count": 59,
   "metadata": {},
   "outputs": [
    {
     "data": {
      "text/plain": [
       "<function matplotlib.pyplot.show(close=None, block=None)>"
      ]
     },
     "execution_count": 59,
     "metadata": {},
     "output_type": "execute_result"
    },
    {
     "data": {
      "image/png": "[encoded data removed]",
      "text/plain": [
       "<Figure size 1200x400 with 2 Axes>"
      ]
     },
     "metadata": {},
     "output_type": "display_data"
    }
   ],
   "source": [
    "f = plt.figure(figsize=(12,4))\n",
    "f.add_subplot(1,2,1)\n",
    "df_var['_TOTINDA'].plot(kind='kde')\n",
    "f.add_subplot(1,2,2)\n",
    "plt.boxplot(df_var['_TOTINDA'])\n",
    "plt.show"
   ]
  },
  {
   "cell_type": "code",
   "execution_count": 60,
   "metadata": {},
   "outputs": [
    {
     "data": {
      "text/plain": [
       "<function matplotlib.pyplot.show(close=None, block=None)>"
      ]
     },
     "execution_count": 60,
     "metadata": {},
     "output_type": "execute_result"
    },
    {
     "data": {
      "image/png": "[encoded data removed]",
      "text/plain": [
       "<Figure size 1200x400 with 2 Axes>"
      ]
     },
     "metadata": {},
     "output_type": "display_data"
    }
   ],
   "source": [
    "f = plt.figure(figsize=(12,4))\n",
    "f.add_subplot(1,2,1)\n",
    "df_var['_BMI5CAT'].plot(kind='kde')\n",
    "f.add_subplot(1,2,2)\n",
    "plt.boxplot(df_var['_BMI5CAT'])\n",
    "plt.show"
   ]
  },
  {
   "cell_type": "code",
   "execution_count": 61,
   "metadata": {},
   "outputs": [
    {
     "data": {
      "text/plain": [
       "<function matplotlib.pyplot.show(close=None, block=None)>"
      ]
     },
     "execution_count": 61,
     "metadata": {},
     "output_type": "execute_result"
    },
    {
     "data": {
      "image/png": "[encoded data removed]",
      "text/plain": [
       "<Figure size 1200x400 with 2 Axes>"
      ]
     },
     "metadata": {},
     "output_type": "display_data"
    }
   ],
   "source": [
    "f = plt.figure(figsize=(12,4))\n",
    "f.add_subplot(1,2,1)\n",
    "df_var['EMPLOY1'].plot(kind='kde')\n",
    "f.add_subplot(1,2,2)\n",
    "plt.boxplot(df_var['EMPLOY1'])\n",
    "plt.show"
   ]
  },
  {
   "cell_type": "markdown",
   "metadata": {},
   "source": [
    "**10. Seleksi Fitur**"
   ]
  },
  {
   "cell_type": "code",
   "execution_count": 62,
   "metadata": {},
   "outputs": [
    {
     "data": {
      "text/html": [
       "<div>\n",
       "<style scoped>\n",
       "    .dataframe tbody tr th:only-of-type {\n",
       "        vertical-align: middle;\n",
       "    }\n",
       "\n",
       "    .dataframe tbody tr th {\n",
       "        vertical-align: top;\n",
       "    }\n",
       "\n",
       "    .dataframe thead th {\n",
       "        text-align: right;\n",
       "    }\n",
       "</style>\n",
       "<table border=\"1\" class=\"dataframe\">\n",
       "  <thead>\n",
       "    <tr style=\"text-align: right;\">\n",
       "      <th></th>\n",
       "      <th>SEXVAR</th>\n",
       "      <th>_AGEG5YR</th>\n",
       "      <th>_SMOKER3</th>\n",
       "      <th>_TOTINDA</th>\n",
       "      <th>_BMI5CAT</th>\n",
       "      <th>EMPLOY1</th>\n",
       "      <th>DIABETE4</th>\n",
       "    </tr>\n",
       "  </thead>\n",
       "  <tbody>\n",
       "    <tr>\n",
       "      <th>SEXVAR</th>\n",
       "      <td>1.000000</td>\n",
       "      <td>0.001230</td>\n",
       "      <td>-0.006030</td>\n",
       "      <td>-0.032800</td>\n",
       "      <td>-0.018204</td>\n",
       "      <td>0.013891</td>\n",
       "      <td>-0.046010</td>\n",
       "    </tr>\n",
       "    <tr>\n",
       "      <th>_AGEG5YR</th>\n",
       "      <td>0.001230</td>\n",
       "      <td>1.000000</td>\n",
       "      <td>0.044388</td>\n",
       "      <td>0.062841</td>\n",
       "      <td>-0.018195</td>\n",
       "      <td>0.138200</td>\n",
       "      <td>-0.014300</td>\n",
       "    </tr>\n",
       "    <tr>\n",
       "      <th>_SMOKER3</th>\n",
       "      <td>-0.006030</td>\n",
       "      <td>0.044388</td>\n",
       "      <td>1.000000</td>\n",
       "      <td>0.000959</td>\n",
       "      <td>0.029810</td>\n",
       "      <td>-0.002431</td>\n",
       "      <td>0.018345</td>\n",
       "    </tr>\n",
       "    <tr>\n",
       "      <th>_TOTINDA</th>\n",
       "      <td>-0.032800</td>\n",
       "      <td>0.062841</td>\n",
       "      <td>0.000959</td>\n",
       "      <td>1.000000</td>\n",
       "      <td>0.043025</td>\n",
       "      <td>0.026882</td>\n",
       "      <td>0.005327</td>\n",
       "    </tr>\n",
       "    <tr>\n",
       "      <th>_BMI5CAT</th>\n",
       "      <td>-0.018204</td>\n",
       "      <td>-0.018195</td>\n",
       "      <td>0.029810</td>\n",
       "      <td>0.043025</td>\n",
       "      <td>1.000000</td>\n",
       "      <td>-0.001720</td>\n",
       "      <td>-0.006288</td>\n",
       "    </tr>\n",
       "    <tr>\n",
       "      <th>EMPLOY1</th>\n",
       "      <td>0.013891</td>\n",
       "      <td>0.138200</td>\n",
       "      <td>-0.002431</td>\n",
       "      <td>0.026882</td>\n",
       "      <td>-0.001720</td>\n",
       "      <td>1.000000</td>\n",
       "      <td>-0.004426</td>\n",
       "    </tr>\n",
       "    <tr>\n",
       "      <th>DIABETE4</th>\n",
       "      <td>-0.046010</td>\n",
       "      <td>-0.014300</td>\n",
       "      <td>0.018345</td>\n",
       "      <td>0.005327</td>\n",
       "      <td>-0.006288</td>\n",
       "      <td>-0.004426</td>\n",
       "      <td>1.000000</td>\n",
       "    </tr>\n",
       "  </tbody>\n",
       "</table>\n",
       "</div>"
      ],
      "text/plain": [
       "            SEXVAR  _AGEG5YR  _SMOKER3  _TOTINDA  _BMI5CAT   EMPLOY1  DIABETE4\n",
       "SEXVAR    1.000000  0.001230 -0.006030 -0.032800 -0.018204  0.013891 -0.046010\n",
       "_AGEG5YR  0.001230  1.000000  0.044388  0.062841 -0.018195  0.138200 -0.014300\n",
       "_SMOKER3 -0.006030  0.044388  1.000000  0.000959  0.029810 -0.002431  0.018345\n",
       "_TOTINDA -0.032800  0.062841  0.000959  1.000000  0.043025  0.026882  0.005327\n",
       "_BMI5CAT -0.018204 -0.018195  0.029810  0.043025  1.000000 -0.001720 -0.006288\n",
       "EMPLOY1   0.013891  0.138200 -0.002431  0.026882 -0.001720  1.000000 -0.004426\n",
       "DIABETE4 -0.046010 -0.014300  0.018345  0.005327 -0.006288 -0.004426  1.000000"
      ]
     },
     "execution_count": 62,
     "metadata": {},
     "output_type": "execute_result"
    }
   ],
   "source": [
    "df_var.corr()"
   ]
  },
  {
   "cell_type": "markdown",
   "metadata": {},
   "source": [
    "Menampilkan Correlation Matrix"
   ]
  },
  {
   "cell_type": "code",
   "execution_count": 63,
   "metadata": {},
   "outputs": [
    {
     "data": {
      "image/png": "[encoded data removed]",
      "text/plain": [
       "<Figure size 1000x700 with 2 Axes>"
      ]
     },
     "metadata": {},
     "output_type": "display_data"
    }
   ],
   "source": [
    "plt.figure(figsize=(10,7))\n",
    "corr_mat = df_var.iloc[:,:-1].corr()\n",
    "sns.heatmap(corr_mat, fmt='0.2f', annot=True, lw=2, cbar_kws={'label':'Pearson Correlation (r)'})\n",
    "plt.xticks(size=15,rotation=90)\n",
    "plt.yticks(size=15)\n",
    "plt.tight_layout()"
   ]
  },
  {
   "cell_type": "markdown",
   "metadata": {},
   "source": [
    "Dashboard Sweetviz"
   ]
  },
  {
   "cell_type": "code",
   "execution_count": 64,
   "metadata": {},
   "outputs": [],
   "source": [
    "#sns.pairplot(df_var.iloc[:,:-1], diag_kind='hist')"
   ]
  },
  {
   "cell_type": "markdown",
   "metadata": {},
   "source": [
    "**Pemilahan Nilai Fitur Yang Terdapat Pada Setiap Atribut**"
   ]
  },
  {
   "cell_type": "markdown",
   "metadata": {},
   "source": [
    "Proses ini dilakukan karena pada penelitian kali ini hanya menerapkan **Multi-Label Function** pada nilai target ataupun pada atribut **DIABETE4**\n",
    "\n",
    "Penelitian ini menggunakan 2 Nilai pada atribut target **DIABETE4**, yaitu \n",
    "1. YES\n",
    "2. NO"
   ]
  },
  {
   "cell_type": "code",
   "execution_count": 65,
   "metadata": {},
   "outputs": [
    {
     "data": {
      "text/html": [
       "<div>\n",
       "<style scoped>\n",
       "    .dataframe tbody tr th:only-of-type {\n",
       "        vertical-align: middle;\n",
       "    }\n",
       "\n",
       "    .dataframe tbody tr th {\n",
       "        vertical-align: top;\n",
       "    }\n",
       "\n",
       "    .dataframe thead th {\n",
       "        text-align: right;\n",
       "    }\n",
       "</style>\n",
       "<table border=\"1\" class=\"dataframe\">\n",
       "  <thead>\n",
       "    <tr style=\"text-align: right;\">\n",
       "      <th></th>\n",
       "      <th>SEXVAR</th>\n",
       "      <th>_AGEG5YR</th>\n",
       "      <th>_SMOKER3</th>\n",
       "      <th>_TOTINDA</th>\n",
       "      <th>_BMI5CAT</th>\n",
       "      <th>EMPLOY1</th>\n",
       "      <th>DIABETE4</th>\n",
       "    </tr>\n",
       "  </thead>\n",
       "  <tbody>\n",
       "    <tr>\n",
       "      <th>2</th>\n",
       "      <td>2.0</td>\n",
       "      <td>11.0</td>\n",
       "      <td>4.0</td>\n",
       "      <td>2.0</td>\n",
       "      <td>3.0</td>\n",
       "      <td>7.0</td>\n",
       "      <td>1.0</td>\n",
       "    </tr>\n",
       "    <tr>\n",
       "      <th>3</th>\n",
       "      <td>2.0</td>\n",
       "      <td>9.0</td>\n",
       "      <td>4.0</td>\n",
       "      <td>1.0</td>\n",
       "      <td>4.0</td>\n",
       "      <td>7.0</td>\n",
       "      <td>1.0</td>\n",
       "    </tr>\n",
       "    <tr>\n",
       "      <th>4</th>\n",
       "      <td>1.0</td>\n",
       "      <td>12.0</td>\n",
       "      <td>4.0</td>\n",
       "      <td>1.0</td>\n",
       "      <td>3.0</td>\n",
       "      <td>8.0</td>\n",
       "      <td>1.0</td>\n",
       "    </tr>\n",
       "    <tr>\n",
       "      <th>6</th>\n",
       "      <td>1.0</td>\n",
       "      <td>9.0</td>\n",
       "      <td>4.0</td>\n",
       "      <td>2.0</td>\n",
       "      <td>4.0</td>\n",
       "      <td>8.0</td>\n",
       "      <td>3.0</td>\n",
       "    </tr>\n",
       "    <tr>\n",
       "      <th>11</th>\n",
       "      <td>2.0</td>\n",
       "      <td>12.0</td>\n",
       "      <td>4.0</td>\n",
       "      <td>2.0</td>\n",
       "      <td>4.0</td>\n",
       "      <td>7.0</td>\n",
       "      <td>3.0</td>\n",
       "    </tr>\n",
       "    <tr>\n",
       "      <th>12</th>\n",
       "      <td>2.0</td>\n",
       "      <td>11.0</td>\n",
       "      <td>4.0</td>\n",
       "      <td>2.0</td>\n",
       "      <td>2.0</td>\n",
       "      <td>5.0</td>\n",
       "      <td>3.0</td>\n",
       "    </tr>\n",
       "    <tr>\n",
       "      <th>13</th>\n",
       "      <td>2.0</td>\n",
       "      <td>11.0</td>\n",
       "      <td>4.0</td>\n",
       "      <td>2.0</td>\n",
       "      <td>4.0</td>\n",
       "      <td>7.0</td>\n",
       "      <td>1.0</td>\n",
       "    </tr>\n",
       "    <tr>\n",
       "      <th>14</th>\n",
       "      <td>2.0</td>\n",
       "      <td>12.0</td>\n",
       "      <td>4.0</td>\n",
       "      <td>1.0</td>\n",
       "      <td>3.0</td>\n",
       "      <td>7.0</td>\n",
       "      <td>3.0</td>\n",
       "    </tr>\n",
       "    <tr>\n",
       "      <th>17</th>\n",
       "      <td>1.0</td>\n",
       "      <td>12.0</td>\n",
       "      <td>4.0</td>\n",
       "      <td>2.0</td>\n",
       "      <td>2.0</td>\n",
       "      <td>7.0</td>\n",
       "      <td>1.0</td>\n",
       "    </tr>\n",
       "    <tr>\n",
       "      <th>18</th>\n",
       "      <td>2.0</td>\n",
       "      <td>12.0</td>\n",
       "      <td>4.0</td>\n",
       "      <td>2.0</td>\n",
       "      <td>4.0</td>\n",
       "      <td>7.0</td>\n",
       "      <td>1.0</td>\n",
       "    </tr>\n",
       "    <tr>\n",
       "      <th>19</th>\n",
       "      <td>2.0</td>\n",
       "      <td>7.0</td>\n",
       "      <td>4.0</td>\n",
       "      <td>2.0</td>\n",
       "      <td>3.0</td>\n",
       "      <td>1.0</td>\n",
       "      <td>3.0</td>\n",
       "    </tr>\n",
       "    <tr>\n",
       "      <th>22</th>\n",
       "      <td>1.0</td>\n",
       "      <td>10.0</td>\n",
       "      <td>1.0</td>\n",
       "      <td>2.0</td>\n",
       "      <td>4.0</td>\n",
       "      <td>7.0</td>\n",
       "      <td>3.0</td>\n",
       "    </tr>\n",
       "    <tr>\n",
       "      <th>23</th>\n",
       "      <td>2.0</td>\n",
       "      <td>11.0</td>\n",
       "      <td>4.0</td>\n",
       "      <td>1.0</td>\n",
       "      <td>2.0</td>\n",
       "      <td>7.0</td>\n",
       "      <td>3.0</td>\n",
       "    </tr>\n",
       "    <tr>\n",
       "      <th>27</th>\n",
       "      <td>1.0</td>\n",
       "      <td>13.0</td>\n",
       "      <td>4.0</td>\n",
       "      <td>2.0</td>\n",
       "      <td>3.0</td>\n",
       "      <td>7.0</td>\n",
       "      <td>3.0</td>\n",
       "    </tr>\n",
       "    <tr>\n",
       "      <th>28</th>\n",
       "      <td>1.0</td>\n",
       "      <td>13.0</td>\n",
       "      <td>4.0</td>\n",
       "      <td>1.0</td>\n",
       "      <td>3.0</td>\n",
       "      <td>7.0</td>\n",
       "      <td>3.0</td>\n",
       "    </tr>\n",
       "    <tr>\n",
       "      <th>32</th>\n",
       "      <td>1.0</td>\n",
       "      <td>13.0</td>\n",
       "      <td>4.0</td>\n",
       "      <td>2.0</td>\n",
       "      <td>3.0</td>\n",
       "      <td>7.0</td>\n",
       "      <td>1.0</td>\n",
       "    </tr>\n",
       "    <tr>\n",
       "      <th>33</th>\n",
       "      <td>2.0</td>\n",
       "      <td>3.0</td>\n",
       "      <td>4.0</td>\n",
       "      <td>1.0</td>\n",
       "      <td>4.0</td>\n",
       "      <td>4.0</td>\n",
       "      <td>3.0</td>\n",
       "    </tr>\n",
       "    <tr>\n",
       "      <th>39</th>\n",
       "      <td>2.0</td>\n",
       "      <td>10.0</td>\n",
       "      <td>4.0</td>\n",
       "      <td>1.0</td>\n",
       "      <td>4.0</td>\n",
       "      <td>7.0</td>\n",
       "      <td>3.0</td>\n",
       "    </tr>\n",
       "    <tr>\n",
       "      <th>41</th>\n",
       "      <td>1.0</td>\n",
       "      <td>11.0</td>\n",
       "      <td>4.0</td>\n",
       "      <td>1.0</td>\n",
       "      <td>4.0</td>\n",
       "      <td>7.0</td>\n",
       "      <td>3.0</td>\n",
       "    </tr>\n",
       "    <tr>\n",
       "      <th>42</th>\n",
       "      <td>1.0</td>\n",
       "      <td>10.0</td>\n",
       "      <td>4.0</td>\n",
       "      <td>2.0</td>\n",
       "      <td>4.0</td>\n",
       "      <td>8.0</td>\n",
       "      <td>1.0</td>\n",
       "    </tr>\n",
       "  </tbody>\n",
       "</table>\n",
       "</div>"
      ],
      "text/plain": [
       "    SEXVAR  _AGEG5YR  _SMOKER3  _TOTINDA  _BMI5CAT  EMPLOY1  DIABETE4\n",
       "2      2.0      11.0       4.0       2.0       3.0      7.0       1.0\n",
       "3      2.0       9.0       4.0       1.0       4.0      7.0       1.0\n",
       "4      1.0      12.0       4.0       1.0       3.0      8.0       1.0\n",
       "6      1.0       9.0       4.0       2.0       4.0      8.0       3.0\n",
       "11     2.0      12.0       4.0       2.0       4.0      7.0       3.0\n",
       "12     2.0      11.0       4.0       2.0       2.0      5.0       3.0\n",
       "13     2.0      11.0       4.0       2.0       4.0      7.0       1.0\n",
       "14     2.0      12.0       4.0       1.0       3.0      7.0       3.0\n",
       "17     1.0      12.0       4.0       2.0       2.0      7.0       1.0\n",
       "18     2.0      12.0       4.0       2.0       4.0      7.0       1.0\n",
       "19     2.0       7.0       4.0       2.0       3.0      1.0       3.0\n",
       "22     1.0      10.0       1.0       2.0       4.0      7.0       3.0\n",
       "23     2.0      11.0       4.0       1.0       2.0      7.0       3.0\n",
       "27     1.0      13.0       4.0       2.0       3.0      7.0       3.0\n",
       "28     1.0      13.0       4.0       1.0       3.0      7.0       3.0\n",
       "32     1.0      13.0       4.0       2.0       3.0      7.0       1.0\n",
       "33     2.0       3.0       4.0       1.0       4.0      4.0       3.0\n",
       "39     2.0      10.0       4.0       1.0       4.0      7.0       3.0\n",
       "41     1.0      11.0       4.0       1.0       4.0      7.0       3.0\n",
       "42     1.0      10.0       4.0       2.0       4.0      8.0       1.0"
      ]
     },
     "execution_count": 65,
     "metadata": {},
     "output_type": "execute_result"
    }
   ],
   "source": [
    "df_var = df_var[df_var[\"DIABETE4\"] != 2]      # Menghilangkan Nilai didalam Atribut yang tidak bernilai 1 dan 3 pada atribut DIABETE4\n",
    "df_var = df_var[df_var[\"DIABETE4\"] != 4]\n",
    "df_var = df_var[df_var[\"DIABETE4\"] != 7]\n",
    "df_var = df_var[df_var[\"DIABETE4\"] != 9]\n",
    "\n",
    "df_var = df_var[df_var[\"_AGEG5YR\"] != 1]      # Menghilangkan nilai 1, 2, dan 14 pada atribut _AGEG5YR\n",
    "df_var = df_var[df_var[\"_AGEG5YR\"] != 2]\n",
    "df_var = df_var[df_var[\"_AGEG5YR\"] != 14]\n",
    "\n",
    "df_var = df_var[df_var[\"_TOTINDA\"] != 9]      # Menghilangkan nilai 9 pada atribut _TOTINDA\n",
    "\n",
    "df_var = df_var[df_var[\"_SMOKER3\"] != 2]      # Menghilangkan nilai 2, 3, 9 pada atribut _SMOKER3\n",
    "df_var = df_var[df_var[\"_SMOKER3\"] != 3]\n",
    "df_var = df_var[df_var[\"_SMOKER3\"] != 9]\n",
    "\n",
    "df_var.head(20)"
   ]
  },
  {
   "cell_type": "markdown",
   "metadata": {},
   "source": [
    "**11. Normalisasi Data**\n",
    "\n",
    "Normalisasi Data Menggunakan **Z-SCORE** Normalization Dengan Harapan Menghasilkan Akurasi yang Lebih tinggi pada Model DNN"
   ]
  },
  {
   "cell_type": "code",
   "execution_count": 66,
   "metadata": {},
   "outputs": [
    {
     "name": "stdout",
     "output_type": "stream",
     "text": [
      "[[ 0.94724989  1.03961629  0.90562147 ...  0.22334957  0.85394905\n",
      "  -1.25410008]\n",
      " [ 0.94724989  0.37318107  0.90562147 ...  1.19997046  0.85394905\n",
      "  -1.25410008]\n",
      " [-1.05568764  1.3728339   0.90562147 ...  0.22334957  1.22838125\n",
      "  -1.25410008]\n",
      " ...\n",
      " [-1.05568764 -1.62612458  0.90562147 ... -1.72989221 -0.64377977\n",
      "   0.79738453]\n",
      " [ 0.94724989  1.03961629  0.90562147 ... -0.75327132  1.60281345\n",
      "  -1.25410008]\n",
      " [ 0.94724989  0.37318107 -1.10421411 ...  0.22334957 -1.01821197\n",
      "  -1.25410008]]\n"
     ]
    }
   ],
   "source": [
    "scaler = StandardScaler()       # Untuk Menormalisasi Data menggunakan metode Standarization (Z-Score)\n",
    "z_score = scaler.fit_transform(df_var)\n",
    "\n",
    "print(z_score)"
   ]
  },
  {
   "cell_type": "markdown",
   "metadata": {},
   "source": [
    "**12. Konversi Dataframe Menjadi Data Matrix**"
   ]
  },
  {
   "cell_type": "code",
   "execution_count": 67,
   "metadata": {},
   "outputs": [
    {
     "name": "stdout",
     "output_type": "stream",
     "text": [
      "[[ 2. 11.  4. ...  3.  7.  1.]\n",
      " [ 2.  9.  4. ...  4.  7.  1.]\n",
      " [ 1. 12.  4. ...  3.  8.  1.]\n",
      " ...\n",
      " [ 1.  3.  4. ...  1.  3.  3.]\n",
      " [ 2. 11.  4. ...  2.  9.  1.]\n",
      " [ 2.  9.  1. ...  3.  2.  1.]]\n"
     ]
    }
   ],
   "source": [
    "data_matrix = df_var.to_numpy()\n",
    "\n",
    "print(data_matrix)"
   ]
  },
  {
   "cell_type": "code",
   "execution_count": 68,
   "metadata": {},
   "outputs": [
    {
     "name": "stdout",
     "output_type": "stream",
     "text": [
      "[[ 2. 11.  4.  2.  3.  7.]\n",
      " [ 2.  9.  4.  1.  4.  7.]\n",
      " [ 1. 12.  4.  1.  3.  8.]\n",
      " ...\n",
      " [ 1.  3.  4.  2.  1.  3.]\n",
      " [ 2. 11.  4.  1.  2.  9.]\n",
      " [ 2.  9.  1.  2.  3.  2.]]\n"
     ]
    }
   ],
   "source": [
    "data_train = np.array(data_matrix[:, :6])     # Membagi data menjadi Fitur dan Target\n",
    "data_test = np.array(data_matrix[:, 6])\n",
    "\n",
    "print(data_train)"
   ]
  },
  {
   "cell_type": "code",
   "execution_count": 69,
   "metadata": {},
   "outputs": [
    {
     "name": "stdout",
     "output_type": "stream",
     "text": [
      "[1. 1. 1. ... 3. 1. 1.]\n"
     ]
    }
   ],
   "source": [
    "print(data_test)"
   ]
  },
  {
   "cell_type": "markdown",
   "metadata": {},
   "source": [
    "# Validation Dataset BRFSS 2021\n",
    "\n",
    "pada tahap validation menggunakan metode cross validation berdasarkan **\"K\"** Iterasi yang telah ditentukan."
   ]
  },
  {
   "cell_type": "markdown",
   "metadata": {},
   "source": [
    "**13. Import Library Yangt Diperlukan Pada Proses K-Fold Cross Validation**"
   ]
  },
  {
   "cell_type": "code",
   "execution_count": 70,
   "metadata": {},
   "outputs": [],
   "source": [
    "from sklearn.model_selection import KFold, cross_val_score\n",
    "from sklearn.datasets import load_digits"
   ]
  },
  {
   "cell_type": "markdown",
   "metadata": {},
   "source": [
    "**14. Train Test Split Data**"
   ]
  },
  {
   "cell_type": "code",
   "execution_count": 71,
   "metadata": {},
   "outputs": [],
   "source": [
    "X_train, X_test, y_train, y_test = train_test_split(data_train, data_test, test_size=0.20)        # Train Test Split Data"
   ]
  },
  {
   "cell_type": "markdown",
   "metadata": {},
   "source": [
    "**15. Menjalankan Validation Menggunakan Metode K-Fold Cross Validation**\n",
    "\n",
    "Iterasi **\"K\"** yang digunakan berjumlah **10**\n",
    "\n",
    "Pada pembuatan model kali ini kami akan membangun lalu **Fit** Model, lalu baru dilakukan Cross Validation agar model yang dibuat lebih optimal."
   ]
  },
  {
   "cell_type": "code",
   "execution_count": 72,
   "metadata": {},
   "outputs": [
    {
     "name": "stdout",
     "output_type": "stream",
     "text": [
      "KFold(n_splits=10, random_state=10, shuffle=True)\n"
     ]
    }
   ],
   "source": [
    "# K-fold cross-validation\n",
    "kf = KFold(n_splits=10, random_state=10, shuffle=True)     # Untuk Objek Fold\n",
    "print(kf)"
   ]
  },
  {
   "cell_type": "code",
   "execution_count": 73,
   "metadata": {},
   "outputs": [],
   "source": [
    "accuracy_val = []       # Menyimpan Hasil Pengukuran Setiap Fold\n",
    "precission_val = []\n",
    "recall_val = []\n",
    "fmeasure_val = []"
   ]
  },
  {
   "cell_type": "code",
   "execution_count": 74,
   "metadata": {},
   "outputs": [],
   "source": [
    "final_test_labels = []  # Menyimpan Fitur dan Target dari keseluruhan Fold\n",
    "final_prediction = []"
   ]
  },
  {
   "cell_type": "markdown",
   "metadata": {},
   "source": [
    "**16. Membangun Model Deep Neural Network**"
   ]
  },
  {
   "cell_type": "code",
   "execution_count": 75,
   "metadata": {},
   "outputs": [
    {
     "data": {
      "text/html": [
       "<div>\n",
       "<style scoped>\n",
       "    .dataframe tbody tr th:only-of-type {\n",
       "        vertical-align: middle;\n",
       "    }\n",
       "\n",
       "    .dataframe tbody tr th {\n",
       "        vertical-align: top;\n",
       "    }\n",
       "\n",
       "    .dataframe thead th {\n",
       "        text-align: right;\n",
       "    }\n",
       "</style>\n",
       "<table border=\"1\" class=\"dataframe\">\n",
       "  <thead>\n",
       "    <tr style=\"text-align: right;\">\n",
       "      <th></th>\n",
       "      <th>SEXVAR</th>\n",
       "      <th>_AGEG5YR</th>\n",
       "      <th>_SMOKER3</th>\n",
       "      <th>_TOTINDA</th>\n",
       "      <th>_BMI5CAT</th>\n",
       "      <th>EMPLOY1</th>\n",
       "      <th>DIABETE4</th>\n",
       "    </tr>\n",
       "  </thead>\n",
       "  <tbody>\n",
       "    <tr>\n",
       "      <th>2</th>\n",
       "      <td>2.0</td>\n",
       "      <td>11.0</td>\n",
       "      <td>4.0</td>\n",
       "      <td>2.0</td>\n",
       "      <td>3.0</td>\n",
       "      <td>7.0</td>\n",
       "      <td>1.0</td>\n",
       "    </tr>\n",
       "    <tr>\n",
       "      <th>3</th>\n",
       "      <td>2.0</td>\n",
       "      <td>9.0</td>\n",
       "      <td>4.0</td>\n",
       "      <td>1.0</td>\n",
       "      <td>4.0</td>\n",
       "      <td>7.0</td>\n",
       "      <td>1.0</td>\n",
       "    </tr>\n",
       "  </tbody>\n",
       "</table>\n",
       "</div>"
      ],
      "text/plain": [
       "   SEXVAR  _AGEG5YR  _SMOKER3  _TOTINDA  _BMI5CAT  EMPLOY1  DIABETE4\n",
       "2     2.0      11.0       4.0       2.0       3.0      7.0       1.0\n",
       "3     2.0       9.0       4.0       1.0       4.0      7.0       1.0"
      ]
     },
     "execution_count": 75,
     "metadata": {},
     "output_type": "execute_result"
    }
   ],
   "source": [
    "df_var.head(2)"
   ]
  },
  {
   "cell_type": "markdown",
   "metadata": {},
   "source": [
    "Mengimport Library"
   ]
  },
  {
   "cell_type": "code",
   "execution_count": 76,
   "metadata": {},
   "outputs": [],
   "source": [
    "import tensorflow as tf\n",
    "import tensorflow.keras as keras\n",
    "#import keras\n",
    "import keras.backend as K\n",
    "from keras.models import Model, Sequential, load_model\n",
    "from keras.layers import Dense, Embedding, Dropout, Input, Concatenate"
   ]
  },
  {
   "cell_type": "markdown",
   "metadata": {},
   "source": [
    "Membangun Model"
   ]
  },
  {
   "cell_type": "code",
   "execution_count": 77,
   "metadata": {},
   "outputs": [],
   "source": [
    "model = tf.keras.models.Sequential()"
   ]
  },
  {
   "cell_type": "markdown",
   "metadata": {},
   "source": [
    "Input Layer, Hidden layer dan ReLU Activation Function"
   ]
  },
  {
   "cell_type": "code",
   "execution_count": 78,
   "metadata": {},
   "outputs": [],
   "source": [
    "model = Sequential()\n",
    "model.add(Dense(12,input_dim = 8,activation = 'relu', input_shape=(X_train.shape[1],)))\n",
    "model.add(Dense(12,activation = 'relu'))\n",
    "model.add(Dense(1,activation = 'sigmoid'))\n",
    "\n",
    "#model = Sequential()\n",
    "#model.add(Dense(12,input_dim = 8,activation = 'relu', input_shape=(X_train.shape[1],)))\n",
    "#model.add(Dense(8, activation='relu'))\n",
    "#model.add(Dense(2, activation='sigmoid'))"
   ]
  },
  {
   "cell_type": "markdown",
   "metadata": {},
   "source": [
    "Compile Model\n",
    "\n",
    "We are going to use Binary Cross Entropy for the loss function and adam for optimiser."
   ]
  },
  {
   "cell_type": "code",
   "execution_count": 79,
   "metadata": {},
   "outputs": [],
   "source": [
    "model.compile(loss='binary_crossentropy',optimizer='adam',metrics = ['accuracy'])"
   ]
  },
  {
   "cell_type": "markdown",
   "metadata": {},
   "source": [
    "Train Model"
   ]
  },
  {
   "cell_type": "code",
   "execution_count": 80,
   "metadata": {},
   "outputs": [
    {
     "name": "stdout",
     "output_type": "stream",
     "text": [
      "Epoch 1/100\n",
      "330/330 [==============================] - 6s 11ms/step - loss: -94.2731 - accuracy: 0.3951 - val_loss: -324.2803 - val_accuracy: 0.3629\n",
      "Epoch 2/100\n",
      "330/330 [==============================] - 2s 7ms/step - loss: -1076.1830 - accuracy: 0.3951 - val_loss: -2388.5881 - val_accuracy: 0.3629\n",
      "Epoch 3/100\n",
      "330/330 [==============================] - 2s 6ms/step - loss: -4497.0669 - accuracy: 0.3951 - val_loss: -7691.9692 - val_accuracy: 0.3629\n",
      "Epoch 4/100\n",
      "330/330 [==============================] - 2s 7ms/step - loss: -11530.6680 - accuracy: 0.3951 - val_loss: -17262.1738 - val_accuracy: 0.3629\n",
      "Epoch 5/100\n",
      "330/330 [==============================] - 2s 6ms/step - loss: -22939.9922 - accuracy: 0.3951 - val_loss: -31685.7578 - val_accuracy: 0.3629\n",
      "Epoch 6/100\n",
      "330/330 [==============================] - 2s 6ms/step - loss: -39385.6953 - accuracy: 0.3951 - val_loss: -51728.4375 - val_accuracy: 0.3629\n",
      "Epoch 7/100\n",
      "330/330 [==============================] - 2s 6ms/step - loss: -61114.6445 - accuracy: 0.3951 - val_loss: -77306.8516 - val_accuracy: 0.3629\n",
      "Epoch 8/100\n",
      "330/330 [==============================] - 2s 5ms/step - loss: -88619.1328 - accuracy: 0.3951 - val_loss: -109418.2109 - val_accuracy: 0.3629\n",
      "Epoch 9/100\n",
      "330/330 [==============================] - 2s 5ms/step - loss: -122167.0000 - accuracy: 0.3951 - val_loss: -147671.6562 - val_accuracy: 0.3629\n",
      "Epoch 10/100\n",
      "330/330 [==============================] - 3s 8ms/step - loss: -161907.4844 - accuracy: 0.3951 - val_loss: -192549.7344 - val_accuracy: 0.3629\n",
      "Epoch 11/100\n",
      "330/330 [==============================] - 1s 4ms/step - loss: -208082.2188 - accuracy: 0.3951 - val_loss: -244434.0312 - val_accuracy: 0.3629\n",
      "Epoch 12/100\n",
      "330/330 [==============================] - 1s 4ms/step - loss: -261019.1875 - accuracy: 0.3951 - val_loss: -303522.6875 - val_accuracy: 0.3629\n",
      "Epoch 13/100\n",
      "330/330 [==============================] - 2s 6ms/step - loss: -320905.5312 - accuracy: 0.3951 - val_loss: -369770.5625 - val_accuracy: 0.3629\n",
      "Epoch 14/100\n",
      "330/330 [==============================] - 1s 4ms/step - loss: -388112.5625 - accuracy: 0.3951 - val_loss: -443894.4375 - val_accuracy: 0.3629\n",
      "Epoch 15/100\n",
      "330/330 [==============================] - 2s 7ms/step - loss: -462596.8438 - accuracy: 0.3951 - val_loss: -525818.6875 - val_accuracy: 0.3629\n",
      "Epoch 16/100\n",
      "330/330 [==============================] - 2s 6ms/step - loss: -544582.3750 - accuracy: 0.3951 - val_loss: -615893.6875 - val_accuracy: 0.3629\n",
      "Epoch 17/100\n",
      "330/330 [==============================] - 2s 7ms/step - loss: -634504.2500 - accuracy: 0.3951 - val_loss: -714056.0000 - val_accuracy: 0.3629\n",
      "Epoch 18/100\n",
      "330/330 [==============================] - 3s 10ms/step - loss: -732452.8125 - accuracy: 0.3951 - val_loss: -820498.2500 - val_accuracy: 0.3629\n",
      "Epoch 19/100\n",
      "330/330 [==============================] - 2s 7ms/step - loss: -838817.0625 - accuracy: 0.3951 - val_loss: -936488.6250 - val_accuracy: 0.3629\n",
      "Epoch 20/100\n",
      "330/330 [==============================] - 3s 8ms/step - loss: -953367.9375 - accuracy: 0.3951 - val_loss: -1060640.6250 - val_accuracy: 0.3629\n",
      "Epoch 21/100\n",
      "330/330 [==============================] - 2s 7ms/step - loss: -1076864.5000 - accuracy: 0.3951 - val_loss: -1194723.7500 - val_accuracy: 0.3629\n",
      "Epoch 22/100\n",
      "330/330 [==============================] - 2s 5ms/step - loss: -1209273.0000 - accuracy: 0.3951 - val_loss: -1338101.7500 - val_accuracy: 0.3629\n",
      "Epoch 23/100\n",
      "330/330 [==============================] - 2s 5ms/step - loss: -1351158.8750 - accuracy: 0.3951 - val_loss: -1491685.2500 - val_accuracy: 0.3629\n",
      "Epoch 24/100\n",
      "330/330 [==============================] - 2s 5ms/step - loss: -1502842.1250 - accuracy: 0.3951 - val_loss: -1655400.3750 - val_accuracy: 0.3629\n",
      "Epoch 25/100\n",
      "330/330 [==============================] - 2s 5ms/step - loss: -1664108.1250 - accuracy: 0.3951 - val_loss: -1829140.3750 - val_accuracy: 0.3629\n",
      "Epoch 26/100\n",
      "330/330 [==============================] - 2s 5ms/step - loss: -1835256.6250 - accuracy: 0.3951 - val_loss: -2013893.3750 - val_accuracy: 0.3629\n",
      "Epoch 27/100\n",
      "330/330 [==============================] - 3s 8ms/step - loss: -2016683.5000 - accuracy: 0.3951 - val_loss: -2208791.0000 - val_accuracy: 0.3629\n",
      "Epoch 28/100\n",
      "330/330 [==============================] - 2s 6ms/step - loss: -2208838.5000 - accuracy: 0.3951 - val_loss: -2415319.0000 - val_accuracy: 0.3629\n",
      "Epoch 29/100\n",
      "330/330 [==============================] - 1s 4ms/step - loss: -2411553.5000 - accuracy: 0.3951 - val_loss: -2633319.2500 - val_accuracy: 0.3629\n",
      "Epoch 30/100\n",
      "330/330 [==============================] - 2s 7ms/step - loss: -2624856.2500 - accuracy: 0.3951 - val_loss: -2861784.0000 - val_accuracy: 0.3629\n",
      "Epoch 31/100\n",
      "330/330 [==============================] - 3s 9ms/step - loss: -2849346.2500 - accuracy: 0.3951 - val_loss: -3103172.2500 - val_accuracy: 0.3629\n",
      "Epoch 32/100\n",
      "330/330 [==============================] - 3s 8ms/step - loss: -3085655.7500 - accuracy: 0.3951 - val_loss: -3356268.5000 - val_accuracy: 0.3629\n",
      "Epoch 33/100\n",
      "330/330 [==============================] - 3s 8ms/step - loss: -3333292.7500 - accuracy: 0.3951 - val_loss: -3621155.5000 - val_accuracy: 0.3629\n",
      "Epoch 34/100\n",
      "330/330 [==============================] - 2s 6ms/step - loss: -3592501.5000 - accuracy: 0.3951 - val_loss: -3899260.5000 - val_accuracy: 0.3629\n",
      "Epoch 35/100\n",
      "330/330 [==============================] - 2s 5ms/step - loss: -3863569.0000 - accuracy: 0.3951 - val_loss: -4188518.5000 - val_accuracy: 0.3629\n",
      "Epoch 36/100\n",
      "330/330 [==============================] - 2s 7ms/step - loss: -4147275.2500 - accuracy: 0.3951 - val_loss: -4492806.5000 - val_accuracy: 0.3629\n",
      "Epoch 37/100\n",
      "330/330 [==============================] - 1s 4ms/step - loss: -4443982.0000 - accuracy: 0.3951 - val_loss: -4809456.0000 - val_accuracy: 0.3629\n",
      "Epoch 38/100\n",
      "330/330 [==============================] - 2s 6ms/step - loss: -4752888.0000 - accuracy: 0.3951 - val_loss: -5138863.0000 - val_accuracy: 0.3629\n",
      "Epoch 39/100\n",
      "330/330 [==============================] - 2s 7ms/step - loss: -5075018.5000 - accuracy: 0.3951 - val_loss: -5482843.5000 - val_accuracy: 0.3629\n",
      "Epoch 40/100\n",
      "330/330 [==============================] - 2s 7ms/step - loss: -5409786.0000 - accuracy: 0.3951 - val_loss: -5840617.0000 - val_accuracy: 0.3629\n",
      "Epoch 41/100\n",
      "330/330 [==============================] - 2s 5ms/step - loss: -5758098.5000 - accuracy: 0.3951 - val_loss: -6211706.0000 - val_accuracy: 0.3629\n",
      "Epoch 42/100\n",
      "330/330 [==============================] - 2s 5ms/step - loss: -6119513.0000 - accuracy: 0.3951 - val_loss: -6595705.0000 - val_accuracy: 0.3629\n",
      "Epoch 43/100\n",
      "330/330 [==============================] - 2s 5ms/step - loss: -6495356.0000 - accuracy: 0.3951 - val_loss: -6998608.0000 - val_accuracy: 0.3629\n",
      "Epoch 44/100\n",
      "330/330 [==============================] - 1s 4ms/step - loss: -6885534.5000 - accuracy: 0.3951 - val_loss: -7413916.0000 - val_accuracy: 0.3629\n",
      "Epoch 45/100\n",
      "330/330 [==============================] - 2s 5ms/step - loss: -7290138.5000 - accuracy: 0.3951 - val_loss: -7844168.0000 - val_accuracy: 0.3629\n",
      "Epoch 46/100\n",
      "330/330 [==============================] - 2s 6ms/step - loss: -7709892.0000 - accuracy: 0.3951 - val_loss: -8291050.5000 - val_accuracy: 0.3629\n",
      "Epoch 47/100\n",
      "330/330 [==============================] - 1s 4ms/step - loss: -8144641.0000 - accuracy: 0.3951 - val_loss: -8755006.0000 - val_accuracy: 0.3629\n",
      "Epoch 48/100\n",
      "330/330 [==============================] - 1s 4ms/step - loss: -8594749.0000 - accuracy: 0.3951 - val_loss: -9232714.0000 - val_accuracy: 0.3629\n",
      "Epoch 49/100\n",
      "330/330 [==============================] - 1s 4ms/step - loss: -9060011.0000 - accuracy: 0.3951 - val_loss: -9728565.0000 - val_accuracy: 0.3629\n",
      "Epoch 50/100\n",
      "330/330 [==============================] - 1s 4ms/step - loss: -9541404.0000 - accuracy: 0.3951 - val_loss: -10239955.0000 - val_accuracy: 0.3629\n",
      "Epoch 51/100\n",
      "330/330 [==============================] - 1s 4ms/step - loss: -10038820.0000 - accuracy: 0.3951 - val_loss: -10768454.0000 - val_accuracy: 0.3629\n",
      "Epoch 52/100\n",
      "330/330 [==============================] - 1s 4ms/step - loss: -10551374.0000 - accuracy: 0.3951 - val_loss: -11312616.0000 - val_accuracy: 0.3629\n",
      "Epoch 53/100\n",
      "330/330 [==============================] - 1s 4ms/step - loss: -11080932.0000 - accuracy: 0.3951 - val_loss: -11877380.0000 - val_accuracy: 0.3629\n",
      "Epoch 54/100\n",
      "330/330 [==============================] - 1s 3ms/step - loss: -11626279.0000 - accuracy: 0.3951 - val_loss: -12453994.0000 - val_accuracy: 0.3629\n",
      "Epoch 55/100\n",
      "330/330 [==============================] - 1s 3ms/step - loss: -12187455.0000 - accuracy: 0.3951 - val_loss: -13050515.0000 - val_accuracy: 0.3629\n",
      "Epoch 56/100\n",
      "330/330 [==============================] - 1s 4ms/step - loss: -12765853.0000 - accuracy: 0.3951 - val_loss: -13666487.0000 - val_accuracy: 0.3629\n",
      "Epoch 57/100\n",
      "330/330 [==============================] - 1s 3ms/step - loss: -13362140.0000 - accuracy: 0.3951 - val_loss: -14299081.0000 - val_accuracy: 0.3629\n",
      "Epoch 58/100\n",
      "330/330 [==============================] - 1s 3ms/step - loss: -13976816.0000 - accuracy: 0.3951 - val_loss: -14949318.0000 - val_accuracy: 0.3629\n",
      "Epoch 59/100\n",
      "330/330 [==============================] - 1s 4ms/step - loss: -14609743.0000 - accuracy: 0.3951 - val_loss: -15623045.0000 - val_accuracy: 0.3629\n",
      "Epoch 60/100\n",
      "330/330 [==============================] - 1s 4ms/step - loss: -15261553.0000 - accuracy: 0.3951 - val_loss: -16312537.0000 - val_accuracy: 0.3629\n",
      "Epoch 61/100\n",
      "330/330 [==============================] - 1s 4ms/step - loss: -15929294.0000 - accuracy: 0.3951 - val_loss: -17022530.0000 - val_accuracy: 0.3629\n",
      "Epoch 62/100\n",
      "330/330 [==============================] - 2s 5ms/step - loss: -16616413.0000 - accuracy: 0.3951 - val_loss: -17750934.0000 - val_accuracy: 0.3629\n",
      "Epoch 63/100\n",
      "330/330 [==============================] - 2s 5ms/step - loss: -17321630.0000 - accuracy: 0.3951 - val_loss: -18497690.0000 - val_accuracy: 0.3629\n",
      "Epoch 64/100\n",
      "330/330 [==============================] - 1s 4ms/step - loss: -18045532.0000 - accuracy: 0.3951 - val_loss: -19264218.0000 - val_accuracy: 0.3629\n",
      "Epoch 65/100\n",
      "330/330 [==============================] - 1s 4ms/step - loss: -18787052.0000 - accuracy: 0.3951 - val_loss: -20051708.0000 - val_accuracy: 0.3629\n",
      "Epoch 66/100\n",
      "330/330 [==============================] - 1s 4ms/step - loss: -19548368.0000 - accuracy: 0.3951 - val_loss: -20853850.0000 - val_accuracy: 0.3629\n",
      "Epoch 67/100\n",
      "330/330 [==============================] - 2s 5ms/step - loss: -20330556.0000 - accuracy: 0.3951 - val_loss: -21685748.0000 - val_accuracy: 0.3629\n",
      "Epoch 68/100\n",
      "330/330 [==============================] - 1s 4ms/step - loss: -21132728.0000 - accuracy: 0.3951 - val_loss: -22534700.0000 - val_accuracy: 0.3629\n",
      "Epoch 69/100\n",
      "330/330 [==============================] - 1s 3ms/step - loss: -21954998.0000 - accuracy: 0.3951 - val_loss: -23405182.0000 - val_accuracy: 0.3629\n",
      "Epoch 70/100\n",
      "330/330 [==============================] - 1s 4ms/step - loss: -22796928.0000 - accuracy: 0.3951 - val_loss: -24295594.0000 - val_accuracy: 0.3629\n",
      "Epoch 71/100\n",
      "330/330 [==============================] - 1s 4ms/step - loss: -23658744.0000 - accuracy: 0.3951 - val_loss: -25208534.0000 - val_accuracy: 0.3629\n",
      "Epoch 72/100\n",
      "330/330 [==============================] - 1s 3ms/step - loss: -24539682.0000 - accuracy: 0.3951 - val_loss: -26142918.0000 - val_accuracy: 0.3629\n",
      "Epoch 73/100\n",
      "330/330 [==============================] - 1s 4ms/step - loss: -25442272.0000 - accuracy: 0.3951 - val_loss: -27097456.0000 - val_accuracy: 0.3629\n",
      "Epoch 74/100\n",
      "330/330 [==============================] - 1s 3ms/step - loss: -26367156.0000 - accuracy: 0.3951 - val_loss: -28075592.0000 - val_accuracy: 0.3629\n",
      "Epoch 75/100\n",
      "330/330 [==============================] - 2s 5ms/step - loss: -27311728.0000 - accuracy: 0.3951 - val_loss: -29073130.0000 - val_accuracy: 0.3629\n",
      "Epoch 76/100\n",
      "330/330 [==============================] - 2s 6ms/step - loss: -28277958.0000 - accuracy: 0.3951 - val_loss: -30097836.0000 - val_accuracy: 0.3629\n",
      "Epoch 77/100\n",
      "330/330 [==============================] - 2s 5ms/step - loss: -29265568.0000 - accuracy: 0.3951 - val_loss: -31142550.0000 - val_accuracy: 0.3629\n",
      "Epoch 78/100\n",
      "330/330 [==============================] - 2s 5ms/step - loss: -30276048.0000 - accuracy: 0.3951 - val_loss: -32208898.0000 - val_accuracy: 0.3629\n",
      "Epoch 79/100\n",
      "330/330 [==============================] - 2s 5ms/step - loss: -31307560.0000 - accuracy: 0.3951 - val_loss: -33301740.0000 - val_accuracy: 0.3629\n",
      "Epoch 80/100\n",
      "330/330 [==============================] - 1s 4ms/step - loss: -32361240.0000 - accuracy: 0.3951 - val_loss: -34412508.0000 - val_accuracy: 0.3629\n",
      "Epoch 81/100\n",
      "330/330 [==============================] - 1s 4ms/step - loss: -33439906.0000 - accuracy: 0.3951 - val_loss: -35554844.0000 - val_accuracy: 0.3629\n",
      "Epoch 82/100\n",
      "330/330 [==============================] - 1s 4ms/step - loss: -34537700.0000 - accuracy: 0.3951 - val_loss: -36711364.0000 - val_accuracy: 0.3629\n",
      "Epoch 83/100\n",
      "330/330 [==============================] - 4s 11ms/step - loss: -35659536.0000 - accuracy: 0.3951 - val_loss: -37898684.0000 - val_accuracy: 0.3629\n",
      "Epoch 84/100\n",
      "330/330 [==============================] - 5s 15ms/step - loss: -36805688.0000 - accuracy: 0.3951 - val_loss: -39113664.0000 - val_accuracy: 0.3629\n",
      "Epoch 85/100\n",
      "330/330 [==============================] - 2s 6ms/step - loss: -37977816.0000 - accuracy: 0.3951 - val_loss: -40347604.0000 - val_accuracy: 0.3629\n",
      "Epoch 86/100\n",
      "330/330 [==============================] - 3s 8ms/step - loss: -39171832.0000 - accuracy: 0.3951 - val_loss: -41611360.0000 - val_accuracy: 0.3629\n",
      "Epoch 87/100\n",
      "330/330 [==============================] - 4s 11ms/step - loss: -40390060.0000 - accuracy: 0.3951 - val_loss: -42896104.0000 - val_accuracy: 0.3629\n",
      "Epoch 88/100\n",
      "330/330 [==============================] - 4s 11ms/step - loss: -41631320.0000 - accuracy: 0.3951 - val_loss: -44209932.0000 - val_accuracy: 0.3629\n",
      "Epoch 89/100\n",
      "330/330 [==============================] - 4s 11ms/step - loss: -42898136.0000 - accuracy: 0.3951 - val_loss: -45550640.0000 - val_accuracy: 0.3629\n",
      "Epoch 90/100\n",
      "330/330 [==============================] - 3s 10ms/step - loss: -44188420.0000 - accuracy: 0.3951 - val_loss: -46911064.0000 - val_accuracy: 0.3629\n",
      "Epoch 91/100\n",
      "330/330 [==============================] - 3s 9ms/step - loss: -45501320.0000 - accuracy: 0.3951 - val_loss: -48299484.0000 - val_accuracy: 0.3629\n",
      "Epoch 92/100\n",
      "330/330 [==============================] - 3s 8ms/step - loss: -46840908.0000 - accuracy: 0.3951 - val_loss: -49712392.0000 - val_accuracy: 0.3629\n",
      "Epoch 93/100\n",
      "330/330 [==============================] - 3s 10ms/step - loss: -48209068.0000 - accuracy: 0.3951 - val_loss: -51158576.0000 - val_accuracy: 0.3629\n",
      "Epoch 94/100\n",
      "330/330 [==============================] - 3s 9ms/step - loss: -49602852.0000 - accuracy: 0.3951 - val_loss: -52628048.0000 - val_accuracy: 0.3629\n",
      "Epoch 95/100\n",
      "330/330 [==============================] - 6s 18ms/step - loss: -51021868.0000 - accuracy: 0.3951 - val_loss: -54130088.0000 - val_accuracy: 0.3629\n",
      "Epoch 96/100\n",
      "330/330 [==============================] - 3s 8ms/step - loss: -52468600.0000 - accuracy: 0.3951 - val_loss: -55653108.0000 - val_accuracy: 0.3629\n",
      "Epoch 97/100\n",
      "330/330 [==============================] - 5s 16ms/step - loss: -53936716.0000 - accuracy: 0.3951 - val_loss: -57201500.0000 - val_accuracy: 0.3629\n",
      "Epoch 98/100\n",
      "330/330 [==============================] - 3s 10ms/step - loss: -55434920.0000 - accuracy: 0.3951 - val_loss: -58787752.0000 - val_accuracy: 0.3629\n",
      "Epoch 99/100\n",
      "330/330 [==============================] - 4s 12ms/step - loss: -56959656.0000 - accuracy: 0.3951 - val_loss: -60394716.0000 - val_accuracy: 0.3629\n",
      "Epoch 100/100\n",
      "330/330 [==============================] - 3s 9ms/step - loss: -58508040.0000 - accuracy: 0.3951 - val_loss: -62021944.0000 - val_accuracy: 0.3629\n"
     ]
    },
    {
     "data": {
      "text/plain": [
       "<keras.src.callbacks.History at 0x24642b06210>"
      ]
     },
     "execution_count": 80,
     "metadata": {},
     "output_type": "execute_result"
    }
   ],
   "source": [
    "epochs = 100\n",
    "batch_size = 10\n",
    "model.fit(X_train, y_train, epochs=epochs, batch_size=batch_size, validation_data=(X_test, y_test))"
   ]
  },
  {
   "cell_type": "markdown",
   "metadata": {},
   "source": [
    "Akurasi Model"
   ]
  },
  {
   "cell_type": "code",
   "execution_count": 81,
   "metadata": {},
   "outputs": [
    {
     "name": "stdout",
     "output_type": "stream",
     "text": [
      "103/103 [==============================] - 0s 4ms/step - loss: -59290544.0000 - accuracy: 0.3951\n",
      "Accuracy: 39.51\n"
     ]
    }
   ],
   "source": [
    "_, accuracy = model.evaluate(X_train, y_train)\n",
    "print('Accuracy: %.2f' % (accuracy*100))"
   ]
  },
  {
   "cell_type": "markdown",
   "metadata": {},
   "source": [
    "Perhitungan Prediksi (nilai dalam rentang data ini berada di antara 0 dan 1 (nilai riil)"
   ]
  },
  {
   "cell_type": "code",
   "execution_count": 82,
   "metadata": {},
   "outputs": [
    {
     "name": "stdout",
     "output_type": "stream",
     "text": [
      "103/103 [==============================] - 0s 3ms/step\n",
      "[1, 1, 1, 1, 1, 1, 1, 1, 1, 1, 1, 1, 1, 1, 1, 1, 1, 1, 1, 1, 1, 1, 1, 1, 1, 1, 1, 1, 1, 1, 1, 1, 1, 1, 1, 1, 1, 1, 1, 1, 1, 1, 1, 1, 1, 1, 1, 1, 1, 1, 1, 1, 1, 1, 1, 1, 1, 1, 1, 1, 1, 1, 1, 1, 1, 1, 1, 1, 1, 1, 1, 1, 1, 1, 1, 1, 1, 1, 1, 1, 1, 1, 1, 1, 1, 1, 1, 1, 1, 1, 1, 1, 1, 1, 1, 1, 1, 1, 1, 1, 1, 1, 1, 1, 1, 1, 1, 1, 1, 1, 1, 1, 1, 1, 1, 1, 1, 1, 1, 1, 1, 1, 1, 1, 1, 1, 1, 1, 1, 1, 1, 1, 1, 1, 1, 1, 1, 1, 1, 1, 1, 1, 1, 1, 1, 1, 1, 1, 1, 1, 1, 1, 1, 1, 1, 1, 1, 1, 1, 1, 1, 1, 1, 1, 1, 1, 1, 1, 1, 1, 1, 1, 1, 1, 1, 1, 1, 1, 1, 1, 1, 1, 1, 1, 1, 1, 1, 1, 1, 1, 1, 1, 1, 1, 1, 1, 1, 1, 1, 1, 1, 1, 1, 1, 1, 1, 1, 1, 1, 1, 1, 1, 1, 1, 1, 1, 1, 1, 1, 1, 1, 1, 1, 1, 1, 1, 1, 1, 1, 1, 1, 1, 1, 1, 1, 1, 1, 1, 1, 1, 1, 1, 1, 1, 1, 1, 1, 1, 1, 1, 1, 1, 1, 1, 1, 1, 1, 1, 1, 1, 1, 1, 1, 1, 1, 1, 1, 1, 1, 1, 1, 1, 1, 1, 1, 1, 1, 1, 1, 1, 1, 1, 1, 1, 1, 1, 1, 1, 1, 1, 1, 1, 1, 1, 1, 1, 1, 1, 1, 1, 1, 1, 1, 1, 1, 1, 1, 1, 1, 1, 1, 1, 1, 1, 1, 1, 1, 1, 1, 1, 1, 1, 1, 1, 1, 1, 1, 1, 1, 1, 1, 1, 1, 1, 1, 1, 1, 1, 1, 1, 1, 1, 1, 1, 1, 1, 1, 1, 1, 1, 1, 1, 1, 1, 1, 1, 1, 1, 1, 1, 1, 1, 1, 1, 1, 1, 1, 1, 1, 1, 1, 1, 1, 1, 1, 1, 1, 1, 1, 1, 1, 1, 1, 1, 1, 1, 1, 1, 1, 1, 1, 1, 1, 1, 1, 1, 1, 1, 1, 1, 1, 1, 1, 1, 1, 1, 1, 1, 1, 1, 1, 1, 1, 1, 1, 1, 1, 1, 1, 1, 1, 1, 1, 1, 1, 1, 1, 1, 1, 1, 1, 1, 1, 1, 1, 1, 1, 1, 1, 1, 1, 1, 1, 1, 1, 1, 1, 1, 1, 1, 1, 1, 1, 1, 1, 1, 1, 1, 1, 1, 1, 1, 1, 1, 1, 1, 1, 1, 1, 1, 1, 1, 1, 1, 1, 1, 1, 1, 1, 1, 1, 1, 1, 1, 1, 1, 1, 1, 1, 1, 1, 1, 1, 1, 1, 1, 1, 1, 1, 1, 1, 1, 1, 1, 1, 1, 1, 1, 1, 1, 1, 1, 1, 1, 1, 1, 1, 1, 1, 1, 1, 1, 1, 1, 1, 1, 1, 1, 1, 1, 1, 1, 1, 1, 1, 1, 1, 1, 1, 1, 1, 1, 1, 1, 1, 1, 1, 1, 1, 1, 1, 1, 1, 1, 1, 1, 1, 1, 1, 1, 1, 1, 1, 1, 1, 1, 1, 1, 1, 1, 1, 1, 1, 1, 1, 1, 1, 1, 1, 1, 1, 1, 1, 1, 1, 1, 1, 1, 1, 1, 1, 1, 1, 1, 1, 1, 1, 1, 1, 1, 1, 1, 1, 1, 1, 1, 1, 1, 1, 1, 1, 1, 1, 1, 1, 1, 1, 1, 1, 1, 1, 1, 1, 1, 1, 1, 1, 1, 1, 1, 1, 1, 1, 1, 1, 1, 1, 1, 1, 1, 1, 1, 1, 1, 1, 1, 1, 1, 1, 1, 1, 1, 1, 1, 1, 1, 1, 1, 1, 1, 1, 1, 1, 1, 1, 1, 1, 1, 1, 1, 1, 1, 1, 1, 1, 1, 1, 1, 1, 1, 1, 1, 1, 1, 1, 1, 1, 1, 1, 1, 1, 1, 1, 1, 1, 1, 1, 1, 1, 1, 1, 1, 1, 1, 1, 1, 1, 1, 1, 1, 1, 1, 1, 1, 1, 1, 1, 1, 1, 1, 1, 1, 1, 1, 1, 1, 1, 1, 1, 1, 1, 1, 1, 1, 1, 1, 1, 1, 1, 1, 1, 1, 1, 1, 1, 1, 1, 1, 1, 1, 1, 1, 1, 1, 1, 1, 1, 1, 1, 1, 1, 1, 1, 1, 1, 1, 1, 1, 1, 1, 1, 1, 1, 1, 1, 1, 1, 1, 1, 1, 1, 1, 1, 1, 1, 1, 1, 1, 1, 1, 1, 1, 1, 1, 1, 1, 1, 1, 1, 1, 1, 1, 1, 1, 1, 1, 1, 1, 1, 1, 1, 1, 1, 1, 1, 1, 1, 1, 1, 1, 1, 1, 1, 1, 1, 1, 1, 1, 1, 1, 1, 1, 1, 1, 1, 1, 1, 1, 1, 1, 1, 1, 1, 1, 1, 1, 1, 1, 1, 1, 1, 1, 1, 1, 1, 1, 1, 1, 1, 1, 1, 1, 1, 1, 1, 1, 1, 1, 1, 1, 1, 1, 1, 1, 1, 1, 1, 1, 1, 1, 1, 1, 1, 1, 1, 1, 1, 1, 1, 1, 1, 1, 1, 1, 1, 1, 1, 1, 1, 1, 1, 1, 1, 1, 1, 1, 1, 1, 1, 1, 1, 1, 1, 1, 1, 1, 1, 1, 1, 1, 1, 1, 1, 1, 1, 1, 1, 1, 1, 1, 1, 1, 1, 1, 1, 1, 1, 1, 1, 1, 1, 1, 1, 1, 1, 1, 1, 1, 1, 1, 1, 1, 1, 1, 1, 1, 1, 1, 1, 1, 1, 1, 1, 1, 1, 1, 1, 1, 1, 1, 1, 1, 1, 1, 1, 1, 1, 1, 1, 1, 1, 1, 1, 1, 1, 1, 1, 1, 1, 1, 1, 1, 1, 1, 1, 1, 1, 1, 1, 1, 1, 1, 1, 1, 1, 1, 1, 1, 1, 1, 1, 1, 1, 1, 1, 1, 1, 1, 1, 1, 1, 1, 1, 1, 1, 1, 1, 1, 1, 1, 1, 1, 1, 1, 1, 1, 1, 1, 1, 1, 1, 1, 1, 1, 1, 1, 1, 1, 1, 1, 1, 1, 1, 1, 1, 1, 1, 1, 1, 1, 1, 1, 1, 1, 1, 1, 1, 1, 1, 1, 1, 1, 1, 1, 1, 1, 1, 1, 1, 1, 1, 1, 1, 1, 1, 1, 1, 1, 1, 1, 1, 1, 1, 1, 1, 1, 1, 1, 1, 1, 1, 1, 1, 1, 1, 1, 1, 1, 1, 1, 1, 1, 1, 1, 1, 1, 1, 1, 1, 1, 1, 1, 1, 1, 1, 1, 1, 1, 1, 1, 1, 1, 1, 1, 1, 1, 1, 1, 1, 1, 1, 1, 1, 1, 1, 1, 1, 1, 1, 1, 1, 1, 1, 1, 1, 1, 1, 1, 1, 1, 1, 1, 1, 1, 1, 1, 1, 1, 1, 1, 1, 1, 1, 1, 1, 1, 1, 1, 1, 1, 1, 1, 1, 1, 1, 1, 1, 1, 1, 1, 1, 1, 1, 1, 1, 1, 1, 1, 1, 1, 1, 1, 1, 1, 1, 1, 1, 1, 1, 1, 1, 1, 1, 1, 1, 1, 1, 1, 1, 1, 1, 1, 1, 1, 1, 1, 1, 1, 1, 1, 1, 1, 1, 1, 1, 1, 1, 1, 1, 1, 1, 1, 1, 1, 1, 1, 1, 1, 1, 1, 1, 1, 1, 1, 1, 1, 1, 1, 1, 1, 1, 1, 1, 1, 1, 1, 1, 1, 1, 1, 1, 1, 1, 1, 1, 1, 1, 1, 1, 1, 1, 1, 1, 1, 1, 1, 1, 1, 1, 1, 1, 1, 1, 1, 1, 1, 1, 1, 1, 1, 1, 1, 1, 1, 1, 1, 1, 1, 1, 1, 1, 1, 1, 1, 1, 1, 1, 1, 1, 1, 1, 1, 1, 1, 1, 1, 1, 1, 1, 1, 1, 1, 1, 1, 1, 1, 1, 1, 1, 1, 1, 1, 1, 1, 1, 1, 1, 1, 1, 1, 1, 1, 1, 1, 1, 1, 1, 1, 1, 1, 1, 1, 1, 1, 1, 1, 1, 1, 1, 1, 1, 1, 1, 1, 1, 1, 1, 1, 1, 1, 1, 1, 1, 1, 1, 1, 1, 1, 1, 1, 1, 1, 1, 1, 1, 1, 1, 1, 1, 1, 1, 1, 1, 1, 1, 1, 1, 1, 1, 1, 1, 1, 1, 1, 1, 1, 1, 1, 1, 1, 1, 1, 1, 1, 1, 1, 1, 1, 1, 1, 1, 1, 1, 1, 1, 1, 1, 1, 1, 1, 1, 1, 1, 1, 1, 1, 1, 1, 1, 1, 1, 1, 1, 1, 1, 1, 1, 1, 1, 1, 1, 1, 1, 1, 1, 1, 1, 1, 1, 1, 1, 1, 1, 1, 1, 1, 1, 1, 1, 1, 1, 1, 1, 1, 1, 1, 1, 1, 1, 1, 1, 1, 1, 1, 1, 1, 1, 1, 1, 1, 1, 1, 1, 1, 1, 1, 1, 1, 1, 1, 1, 1, 1, 1, 1, 1, 1, 1, 1, 1, 1, 1, 1, 1, 1, 1, 1, 1, 1, 1, 1, 1, 1, 1, 1, 1, 1, 1, 1, 1, 1, 1, 1, 1, 1, 1, 1, 1, 1, 1, 1, 1, 1, 1, 1, 1, 1, 1, 1, 1, 1, 1, 1, 1, 1, 1, 1, 1, 1, 1, 1, 1, 1, 1, 1, 1, 1, 1, 1, 1, 1, 1, 1, 1, 1, 1, 1, 1, 1, 1, 1, 1, 1, 1, 1, 1, 1, 1, 1, 1, 1, 1, 1, 1, 1, 1, 1, 1, 1, 1, 1, 1, 1, 1, 1, 1, 1, 1, 1, 1, 1, 1, 1, 1, 1, 1, 1, 1, 1, 1, 1, 1, 1, 1, 1, 1, 1, 1, 1, 1, 1, 1, 1, 1, 1, 1, 1, 1, 1, 1, 1, 1, 1, 1, 1, 1, 1, 1, 1, 1, 1, 1, 1, 1, 1, 1, 1, 1, 1, 1, 1, 1, 1, 1, 1, 1, 1, 1, 1, 1, 1, 1, 1, 1, 1, 1, 1, 1, 1, 1, 1, 1, 1, 1, 1, 1, 1, 1, 1, 1, 1, 1, 1, 1, 1, 1, 1, 1, 1, 1, 1, 1, 1, 1, 1, 1, 1, 1, 1, 1, 1, 1, 1, 1, 1, 1, 1, 1, 1, 1, 1, 1, 1, 1, 1, 1, 1, 1, 1, 1, 1, 1, 1, 1, 1, 1, 1, 1, 1, 1, 1, 1, 1, 1, 1, 1, 1, 1, 1, 1, 1, 1, 1, 1, 1, 1, 1, 1, 1, 1, 1, 1, 1, 1, 1, 1, 1, 1, 1, 1, 1, 1, 1, 1, 1, 1, 1, 1, 1, 1, 1, 1, 1, 1, 1, 1, 1, 1, 1, 1, 1, 1, 1, 1, 1, 1, 1, 1, 1, 1, 1, 1, 1, 1, 1, 1, 1, 1, 1, 1, 1, 1, 1, 1, 1, 1, 1, 1, 1, 1, 1, 1, 1, 1, 1, 1, 1, 1, 1, 1, 1, 1, 1, 1, 1, 1, 1, 1, 1, 1, 1, 1, 1, 1, 1, 1, 1, 1, 1, 1, 1, 1, 1, 1, 1, 1, 1, 1, 1, 1, 1, 1, 1, 1, 1, 1, 1, 1, 1, 1, 1, 1, 1, 1, 1, 1, 1, 1, 1, 1, 1, 1, 1, 1, 1, 1, 1, 1, 1, 1, 1, 1, 1, 1, 1, 1, 1, 1, 1, 1, 1, 1, 1, 1, 1, 1, 1, 1, 1, 1, 1, 1, 1, 1, 1, 1, 1, 1, 1, 1, 1, 1, 1, 1, 1, 1, 1, 1, 1, 1, 1, 1, 1, 1, 1, 1, 1, 1, 1, 1, 1, 1, 1, 1, 1, 1, 1, 1, 1, 1, 1, 1, 1, 1, 1, 1, 1, 1, 1, 1, 1, 1, 1, 1, 1, 1, 1, 1, 1, 1, 1, 1, 1, 1, 1, 1, 1, 1, 1, 1, 1, 1, 1, 1, 1, 1, 1, 1, 1, 1, 1, 1, 1, 1, 1, 1, 1, 1, 1, 1, 1, 1, 1, 1, 1, 1, 1, 1, 1, 1, 1, 1, 1, 1, 1, 1, 1, 1, 1, 1, 1, 1, 1, 1, 1, 1, 1, 1, 1, 1, 1, 1, 1, 1, 1, 1, 1, 1, 1, 1, 1, 1, 1, 1, 1, 1, 1, 1, 1, 1, 1, 1, 1, 1, 1, 1, 1, 1, 1, 1, 1, 1, 1, 1, 1, 1, 1, 1, 1, 1, 1, 1, 1, 1, 1, 1, 1, 1, 1, 1, 1, 1, 1, 1, 1, 1, 1, 1, 1, 1, 1, 1, 1, 1, 1, 1, 1, 1, 1, 1, 1, 1, 1, 1, 1, 1, 1, 1, 1, 1, 1, 1, 1, 1, 1, 1, 1, 1, 1, 1, 1, 1, 1, 1, 1, 1, 1, 1, 1, 1, 1, 1, 1, 1, 1, 1, 1, 1, 1, 1, 1, 1, 1, 1, 1, 1, 1, 1, 1, 1, 1, 1, 1, 1, 1, 1, 1, 1, 1, 1, 1, 1, 1, 1, 1, 1, 1, 1, 1, 1, 1, 1, 1, 1, 1, 1, 1, 1, 1, 1, 1, 1, 1, 1, 1, 1, 1, 1, 1, 1, 1, 1, 1, 1, 1, 1, 1, 1, 1, 1, 1, 1, 1, 1, 1, 1, 1, 1, 1, 1, 1, 1, 1, 1, 1, 1, 1, 1, 1, 1, 1, 1, 1, 1, 1, 1, 1, 1, 1, 1, 1, 1, 1, 1, 1, 1, 1, 1, 1, 1, 1, 1, 1, 1, 1, 1, 1, 1, 1, 1, 1, 1, 1, 1, 1, 1, 1, 1, 1, 1, 1, 1, 1, 1, 1, 1, 1, 1, 1, 1, 1, 1, 1, 1, 1, 1, 1, 1, 1, 1, 1, 1, 1, 1, 1, 1, 1, 1, 1, 1, 1, 1, 1, 1, 1, 1, 1, 1, 1, 1, 1, 1, 1, 1, 1, 1, 1, 1, 1, 1, 1, 1, 1, 1, 1, 1, 1, 1, 1, 1, 1, 1, 1, 1, 1, 1, 1, 1, 1, 1, 1, 1, 1, 1, 1, 1, 1, 1, 1, 1, 1, 1, 1, 1, 1, 1, 1, 1, 1, 1, 1, 1, 1, 1, 1, 1, 1, 1, 1, 1, 1, 1, 1, 1, 1, 1, 1, 1, 1, 1, 1, 1, 1, 1, 1, 1, 1, 1, 1, 1, 1, 1, 1, 1, 1, 1, 1, 1, 1, 1, 1, 1, 1, 1, 1, 1, 1, 1, 1, 1, 1, 1, 1, 1, 1, 1, 1, 1, 1, 1, 1, 1, 1, 1, 1, 1, 1, 1, 1, 1, 1, 1, 1, 1, 1, 1, 1, 1, 1, 1, 1, 1, 1, 1, 1, 1, 1, 1, 1, 1, 1, 1, 1, 1, 1, 1, 1, 1, 1, 1, 1, 1, 1, 1, 1, 1, 1, 1, 1, 1, 1, 1, 1, 1, 1, 1, 1, 1, 1, 1, 1, 1, 1, 1, 1, 1, 1, 1, 1, 1, 1, 1, 1, 1, 1, 1, 1, 1, 1, 1, 1, 1, 1, 1, 1, 1, 1, 1, 1, 1, 1, 1, 1, 1, 1, 1, 1, 1, 1, 1, 1, 1, 1, 1, 1, 1, 1, 1, 1, 1, 1, 1, 1, 1, 1, 1, 1, 1, 1, 1, 1, 1, 1, 1, 1, 1, 1, 1, 1, 1, 1, 1, 1, 1, 1, 1, 1, 1, 1, 1, 1, 1, 1, 1, 1, 1, 1, 1, 1, 1, 1, 1, 1, 1, 1, 1, 1, 1, 1, 1, 1, 1, 1, 1, 1, 1, 1, 1, 1, 1, 1, 1, 1, 1, 1, 1, 1, 1, 1, 1, 1, 1, 1, 1, 1, 1, 1, 1, 1, 1, 1, 1, 1, 1, 1, 1, 1, 1, 1, 1, 1, 1, 1, 1, 1, 1, 1, 1, 1, 1, 1, 1, 1, 1, 1, 1, 1, 1, 1, 1, 1, 1, 1, 1, 1, 1, 1, 1, 1, 1, 1, 1, 1, 1, 1, 1, 1, 1, 1, 1, 1, 1, 1, 1, 1, 1, 1, 1, 1, 1, 1, 1, 1, 1, 1, 1, 1, 1, 1, 1, 1, 1, 1, 1, 1, 1, 1, 1, 1, 1, 1, 1, 1, 1, 1, 1, 1, 1, 1, 1, 1, 1, 1, 1, 1, 1, 1, 1, 1, 1, 1, 1, 1, 1, 1, 1, 1, 1, 1, 1, 1, 1, 1, 1, 1, 1, 1, 1, 1, 1, 1, 1, 1, 1, 1, 1, 1, 1, 1, 1, 1, 1, 1, 1, 1, 1, 1, 1, 1, 1, 1, 1, 1, 1, 1, 1, 1, 1, 1, 1, 1, 1, 1, 1, 1, 1, 1, 1, 1, 1, 1, 1, 1, 1, 1, 1, 1, 1, 1, 1, 1, 1, 1, 1, 1, 1, 1, 1, 1, 1, 1, 1, 1, 1, 1, 1, 1, 1, 1, 1, 1, 1, 1, 1, 1, 1, 1, 1, 1, 1, 1, 1, 1, 1, 1, 1, 1, 1, 1, 1, 1, 1, 1, 1, 1, 1, 1, 1, 1, 1, 1, 1, 1, 1, 1, 1, 1, 1, 1, 1, 1, 1, 1, 1, 1, 1, 1, 1, 1, 1, 1, 1, 1, 1, 1, 1, 1, 1, 1, 1, 1, 1, 1, 1, 1, 1, 1, 1, 1, 1, 1, 1, 1, 1, 1, 1, 1, 1, 1, 1, 1, 1, 1, 1, 1, 1, 1, 1, 1, 1, 1, 1, 1, 1, 1, 1, 1, 1, 1, 1, 1, 1, 1, 1, 1, 1, 1, 1, 1, 1, 1, 1, 1, 1, 1, 1, 1, 1, 1, 1, 1, 1, 1, 1, 1, 1, 1, 1, 1, 1, 1, 1, 1, 1, 1, 1, 1, 1, 1, 1, 1, 1, 1, 1, 1, 1, 1, 1, 1, 1, 1, 1, 1, 1, 1, 1, 1, 1, 1, 1, 1, 1, 1, 1, 1, 1, 1, 1, 1, 1, 1, 1, 1, 1, 1, 1, 1, 1, 1, 1, 1, 1, 1, 1, 1, 1, 1, 1, 1, 1, 1, 1, 1, 1, 1, 1, 1, 1, 1, 1, 1, 1, 1, 1, 1, 1, 1, 1, 1, 1, 1, 1, 1, 1, 1, 1, 1, 1, 1, 1, 1, 1, 1, 1, 1, 1, 1, 1, 1, 1, 1, 1, 1, 1, 1, 1, 1, 1, 1, 1, 1, 1, 1, 1, 1, 1, 1, 1, 1, 1, 1, 1, 1, 1, 1, 1, 1, 1, 1, 1, 1, 1, 1, 1, 1, 1, 1, 1, 1, 1, 1, 1, 1, 1, 1, 1, 1, 1, 1, 1, 1, 1, 1, 1, 1, 1, 1, 1, 1, 1, 1, 1, 1, 1, 1, 1, 1, 1, 1, 1, 1, 1, 1, 1, 1, 1, 1, 1, 1, 1, 1, 1, 1, 1, 1, 1, 1, 1, 1, 1, 1, 1, 1, 1, 1, 1, 1, 1, 1, 1, 1, 1, 1, 1, 1, 1, 1, 1, 1, 1, 1, 1, 1, 1, 1, 1, 1, 1, 1, 1, 1, 1, 1, 1, 1, 1, 1, 1, 1, 1, 1, 1, 1, 1, 1, 1, 1, 1, 1, 1, 1, 1, 1, 1, 1, 1, 1, 1, 1, 1, 1, 1, 1, 1, 1, 1, 1, 1, 1, 1, 1, 1, 1, 1, 1, 1, 1, 1, 1, 1, 1, 1, 1, 1, 1, 1, 1, 1, 1, 1, 1, 1, 1, 1, 1, 1, 1, 1, 1, 1, 1, 1, 1, 1, 1, 1, 1, 1, 1, 1, 1, 1, 1, 1, 1, 1, 1, 1, 1, 1, 1, 1, 1, 1, 1, 1, 1, 1, 1, 1, 1, 1, 1, 1, 1, 1, 1, 1, 1, 1, 1, 1, 1, 1, 1, 1, 1, 1, 1, 1, 1, 1, 1, 1, 1, 1, 1, 1, 1, 1, 1, 1, 1, 1, 1, 1, 1, 1, 1, 1, 1, 1, 1, 1, 1]\n"
     ]
    }
   ],
   "source": [
    "diabetic_report = model.predict(X_train)\n",
    "print([round(x[0]) for x in diabetic_report])"
   ]
  },
  {
   "cell_type": "code",
   "execution_count": 83,
   "metadata": {},
   "outputs": [
    {
     "data": {
      "text/html": [
       "<div>\n",
       "<style scoped>\n",
       "    .dataframe tbody tr th:only-of-type {\n",
       "        vertical-align: middle;\n",
       "    }\n",
       "\n",
       "    .dataframe tbody tr th {\n",
       "        vertical-align: top;\n",
       "    }\n",
       "\n",
       "    .dataframe thead th {\n",
       "        text-align: right;\n",
       "    }\n",
       "</style>\n",
       "<table border=\"1\" class=\"dataframe\">\n",
       "  <thead>\n",
       "    <tr style=\"text-align: right;\">\n",
       "      <th></th>\n",
       "      <th>SEXVAR</th>\n",
       "      <th>_AGEG5YR</th>\n",
       "      <th>_SMOKER3</th>\n",
       "      <th>_TOTINDA</th>\n",
       "      <th>_BMI5CAT</th>\n",
       "      <th>EMPLOY1</th>\n",
       "      <th>DIABETE4</th>\n",
       "    </tr>\n",
       "  </thead>\n",
       "  <tbody>\n",
       "    <tr>\n",
       "      <th>2</th>\n",
       "      <td>2.0</td>\n",
       "      <td>11.0</td>\n",
       "      <td>4.0</td>\n",
       "      <td>2.0</td>\n",
       "      <td>3.0</td>\n",
       "      <td>7.0</td>\n",
       "      <td>1.0</td>\n",
       "    </tr>\n",
       "  </tbody>\n",
       "</table>\n",
       "</div>"
      ],
      "text/plain": [
       "   SEXVAR  _AGEG5YR  _SMOKER3  _TOTINDA  _BMI5CAT  EMPLOY1  DIABETE4\n",
       "2     2.0      11.0       4.0       2.0       3.0      7.0       1.0"
      ]
     },
     "execution_count": 83,
     "metadata": {},
     "output_type": "execute_result"
    }
   ],
   "source": [
    "df_var.head(1)"
   ]
  },
  {
   "cell_type": "code",
   "execution_count": 86,
   "metadata": {},
   "outputs": [],
   "source": [
    "import pickle\n",
    "filename = 'model_diabetes_dnn.sav'\n",
    "pickle.dump(model, open(filename, 'wb'))"
   ]
  }
 ],
 "metadata": {
  "kernelspec": {
   "display_name": "Python 3",
   "language": "python",
   "name": "python3"
  },
  "language_info": {
   "codemirror_mode": {
    "name": "ipython",
    "version": 3
   },
   "file_extension": ".py",
   "mimetype": "text/x-python",
   "name": "python",
   "nbconvert_exporter": "python",
   "pygments_lexer": "ipython3",
   "version": "3.11.5"
  },
  "orig_nbformat": 4
 },
 "nbformat": 4,
 "nbformat_minor": 2
}
